{
  "cells": [
    {
      "cell_type": "markdown",
      "metadata": {
        "id": "d7BXPexww6GA"
      },
      "source": [
        "# プログラミング最短理解"
      ]
    },
    {
      "cell_type": "markdown",
      "metadata": {
        "id": "Vtz8R9mLw8oJ"
      },
      "source": [
        "## プログラムの書き方を整理しましょう。\n",
        "Pythonでは空白に意味がありますので、スペースやTabの入力には気をつけましょう"
      ]
    },
    {
      "cell_type": "markdown",
      "metadata": {
        "id": "mxDnn7OK7kmf"
      },
      "source": [
        "シャープ(ハッシュ)から始まる行はプログラムのコメントと言われます。プログラムとしての意味は無いため説明を書くといった使われ方をします。\n",
        "\n",
        "Pythonの基本文法は上から下へ手順が行われるのが基本です。"
      ]
    },
    {
      "cell_type": "code",
      "execution_count": null,
      "metadata": {
        "id": "LKPk45Q3w2Th"
      },
      "outputs": [],
      "source": [
        "print(\"Hello\")\n",
        "print(\"Programming\")\n",
        "print(\"\")\n",
        "print(\"順次構造（sequence）\")\n"
      ]
    },
    {
      "cell_type": "markdown",
      "metadata": {
        "id": "iA8S2cIYxfy_"
      },
      "source": [
        "### プログラムは順次（sequence）、選択（ifthenelse）、反復（whiledo）という制御構造で書くことができますので、引き続き確認していきましょう。\n",
        "\n",
        "次のプログラムのコメントを削除して動作確認をすることと14,16,18行目の課題をやってみましょう"
      ]
    },
    {
      "cell_type": "code",
      "execution_count": 2,
      "metadata": {
        "id": "9NjBXShMxbVN"
      },
      "outputs": [],
      "source": [
        "# 変数aを用意して数値10を入れましょう（代入）\n",
        "a = 10\n",
        "# 変数aの値を出力しましょう\n",
        "#print(a)\n",
        "\n",
        "# 変数の型を知るためにはtype関数を使う方法があります\n",
        "#print(type(a))\n",
        "# JupyterNotebookで変数の内容を知るためには「変数」メニューを押すことで確認することができます\n",
        "\n",
        "# 課題：変数bを用意して数値20を代入しましょう\n",
        "\n",
        "# 変数bの値をbの値だと分かるように出力しましょう\n",
        "#print('b = ',b)\n",
        "\n",
        "# 変数cに変数aと変数bを加算した結果を代入しましょう\n",
        "#c = a + b\n",
        "\n",
        "# 課題：変数cの値を出力しましょう\n",
        "\n",
        "# 課題：変数dに変数aから変数bを引いた結果を代入しましょう\n",
        "\n",
        "# 課題：変数dの値を出力しましょう\n"
      ]
    },
    {
      "cell_type": "markdown",
      "metadata": {
        "id": "DPuH9pxhyBFe"
      },
      "source": [
        "変数の型として文字列と数値型の違いを理解しましょう\n",
        "\n",
        "プログラミングで躓くポイント：データの型について"
      ]
    },
    {
      "cell_type": "code",
      "execution_count": null,
      "metadata": {
        "id": "hTqQOj75yByc"
      },
      "outputs": [],
      "source": [
        "# 課題：変数aに数値10を代入しましょう\n",
        "\n",
        "# 課題：変数aの値を出力しましょう\n",
        "\n",
        "# 変数bに文字列「o-hara」を代入しましょう\n",
        "# シングルクォーテーションを使った場合\n",
        "#b = 'o-hara'\n",
        "\n",
        "# 課題：変数bの値を出力しましょう\n",
        " \n",
        "# 変数cに文字列「o-hara」を代入しましょう\n",
        "# ダブルクォーテーションを使った場合\n",
        "#c = \"o-hara\"\n",
        "\n",
        "# 課題：変数cの値を出力しましょう\n",
        "\n",
        "# 変数dに文字列「20」を代入しましょう\n",
        "#d = '20'\n",
        "\n",
        "# 課題：変数dの値を出力しましょう\n",
        "\n",
        "# 変数a（数値）と変数d（文字列）の出力に違いが見えないことを確認しましょう。\n",
        "# 変数eに変数aと変数dを加算した結果を代入しましょう\n",
        "#e = a + d"
      ]
    },
    {
      "cell_type": "markdown",
      "metadata": {
        "id": "uQ00JdlJ8Ia8"
      },
      "source": [
        "TypeError: unsupported operand type(s) for +: 'int' and 'str'が出力されます"
      ]
    },
    {
      "cell_type": "code",
      "execution_count": null,
      "metadata": {
        "id": "HnvUGJZ08EKG"
      },
      "outputs": [],
      "source": [
        "# 変数fに変数b（文字列）と変数c（文字列）を加算した結果を代入しましょう\n",
        "#f = b + c\n",
        "\n",
        "# 課題：変数fの値を出力しましょう\n",
        "\n",
        "# 課題：文字列同士には+演算子が使えることを確認します\n",
        "\n",
        "# 20という数値も文字列も人間から見ると同じものに見えますが、コンピューターは\n",
        "# 明確に区分け分類していますので、必要に応じて型変換する関数を使います\n",
        "\n",
        "# 変数eに変数aと変数dを算術加算した結果を代入したい場合はstrからintへ変換が必要です\n",
        "#e = a + int(d)\n",
        "\n",
        "# 課題：変数eの値を出力しましょう\n",
        "\n",
        "# 変数gに変数aと変数dを文字列連結した結果を代入したい場合はintからstrへ変換が必要です\n",
        "#g = str(a) + d\n",
        "\n",
        "# 課題：変数gの値を出力しましょう"
      ]
    },
    {
      "cell_type": "markdown",
      "metadata": {
        "id": "ztfJGo9fyogc"
      },
      "source": [
        "キーボードからの入力処理を確認しましょう\n",
        "\n",
        "コンピューターからキーボードによる入力を受け付けることができます\n",
        "\n",
        "入力した値をオウム返しするプログラムを作成してみます"
      ]
    },
    {
      "cell_type": "code",
      "execution_count": null,
      "metadata": {
        "id": "FDhHxnziyozV"
      },
      "outputs": [],
      "source": [
        "\n",
        "# キーボードから入力した値を変数aに代入します\n",
        "#a = input()\n",
        "\n",
        "# キーボードから'abc'と入力（シングルクォーテーションは入力しない）しましょう\n",
        "# 課題：変数aの値を出力しましょう\n",
        "\n",
        "# 変数aの値を２倍して出力しましょう\n",
        "#print(a * 2)\n",
        "\n",
        "# 課題：変数aの値を数値に変換して２倍して出力しましょう\n",
        "\n",
        "# 課題：入力を促す質問を出力してみましょう\n"
      ]
    },
    {
      "cell_type": "markdown",
      "metadata": {
        "id": "rWn-KWOazIlI"
      },
      "source": [
        "キーボードからの入力を使って三角形の面積を求めましょう\n",
        "変数の型はintではなくfloatを使いましょう\n",
        "\n",
        "底辺と高さを入力して三角形の面積を求めるプログラムを作成しましょう\n",
        "\n",
        "入力したデータをfloat関数でfloat型にします"
      ]
    },
    {
      "cell_type": "code",
      "execution_count": null,
      "metadata": {
        "id": "j5K1OgAqzGsI"
      },
      "outputs": [],
      "source": []
    }
  ],
  "metadata": {
    "colab": {
      "name": "順次・変数・型.ipynb",
      "provenance": []
    },
    "kernelspec": {
      "display_name": "Python 3.9.9 64-bit",
      "language": "python",
      "name": "python3"
    },
    "language_info": {
      "codemirror_mode": {
        "name": "ipython",
        "version": 3
      },
      "file_extension": ".py",
      "mimetype": "text/x-python",
      "name": "python",
      "nbconvert_exporter": "python",
      "pygments_lexer": "ipython3",
      "version": "3.9.9"
    },
    "vscode": {
      "interpreter": {
        "hash": "82ed002fa2d4956f5c6aec99bcefe0f73a9f79882f3c9e2319b14958a5896ac5"
      }
    }
  },
  "nbformat": 4,
  "nbformat_minor": 0
}
