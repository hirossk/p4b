{
  "cells": [
    {
      "cell_type": "markdown",
      "metadata": {
        "id": "d8tzSAWQO9op"
      },
      "source": [
        "# リスト\n",
        "リストの処理について理解しましょう\n",
        "\n",
        "コンピューターに処理をさせる際に最も重要となる考え方です\n",
        "\n",
        "リストとは複数のデータを連続データとして扱うことができる便利なデータ構造です。今までもlistdataとして操作していますので改めて確認してみましょう"
      ]
    },
    {
      "cell_type": "code",
      "execution_count": null,
      "metadata": {
        "id": "CfjffFk1O2hZ"
      },
      "outputs": [],
      "source": [
        "listdata = [2,10,4,6,5,3,1,9,7,8]\n"
      ]
    },
    {
      "cell_type": "markdown",
      "metadata": {
        "id": "ZjcFzRfdPa5s"
      },
      "source": [
        "listdataの内容を一つずつ取り出して表示しましょう。リストに格納されているデータを取り扱う方法「その１」for文で配列の要素と取得しながら最後まで繰り返します"
      ]
    },
    {
      "cell_type": "code",
      "execution_count": null,
      "metadata": {
        "id": "fIDrZ94PPh3D"
      },
      "outputs": [],
      "source": [
        "#for val in listdata:\n",
        "#    # end = ''を入れると改行を排除します\n",
        "#    print(val, ' ',end = '')\n"
      ]
    },
    {
      "cell_type": "markdown",
      "metadata": {
        "id": "wC4BZIK9Plpt"
      },
      "source": [
        "\n",
        "リストに格納されているデータを取り扱う方法「その２」 添字を使って値を取り出します"
      ]
    },
    {
      "cell_type": "code",
      "execution_count": null,
      "metadata": {
        "id": "bsKhClZNPkOS"
      },
      "outputs": [],
      "source": [
        "#for index in range(0,10):\n",
        "#    # listdata[]の角括弧の中に取り出す番号を入れます\n",
        "#    print(listdata[index], ' ', end = '')\n",
        "\n",
        "# 0番目と3番目のデータを加算した結果を出力します\n",
        "#print(listdata[0] + listdata[3])\n"
      ]
    },
    {
      "cell_type": "markdown",
      "metadata": {
        "id": "M5H5l79aP5M0"
      },
      "source": [
        "\n",
        "Pythonのリストには様々なデータ型が格納できます\n",
        "\n",
        "\n"
      ]
    },
    {
      "cell_type": "code",
      "execution_count": null,
      "metadata": {
        "id": "M2VskRDuP43e"
      },
      "outputs": [],
      "source": [
        "#listdata = [0, 1 , \"Two\", \"Three\", 4]\n",
        "# リストのデータを出力してみます\n",
        "#for val in listdata:\n",
        "#    print(val, ' ', end = '')"
      ]
    },
    {
      "cell_type": "markdown",
      "metadata": {
        "id": "UBthLVdpQBQC"
      },
      "source": [
        "### リストにはリストそのものを操作する機能があります\n",
        "\n",
        " リストの定義で要素を空にして生成することもできます"
      ]
    },
    {
      "cell_type": "code",
      "execution_count": null,
      "metadata": {
        "id": "IWsI9pn8QGTS"
      },
      "outputs": [],
      "source": [
        "listdata = []\n",
        "\n"
      ]
    },
    {
      "cell_type": "markdown",
      "metadata": {
        "id": "MY47OjohQRrW"
      },
      "source": [
        "空のリストにデータを追加することができます。追加後出力します"
      ]
    },
    {
      "cell_type": "code",
      "execution_count": null,
      "metadata": {
        "id": "j2E2d-AYQUej"
      },
      "outputs": [],
      "source": [
        "#listdata.append(1)\n",
        "#listdata.append(2)\n",
        "#listdata.append(3)\n",
        "#listdata.append(4)\n",
        "#listdata.append(1)\n",
        "#listdata.append(2)\n",
        "#listdata.append(3)\n",
        "#listdata.append(4)\n",
        "\n",
        "# リストを出力します\n",
        "#print(listdata)\n"
      ]
    },
    {
      "cell_type": "markdown",
      "metadata": {
        "id": "RBQ0S9OnQeG8"
      },
      "source": [
        "\n",
        "さらにリストを追加することができますので追加後に出力してみます"
      ]
    },
    {
      "cell_type": "code",
      "execution_count": null,
      "metadata": {
        "id": "vQj79uxVQhQQ"
      },
      "outputs": [],
      "source": [
        "#listdata.append(5)\n",
        "\n",
        "# リストを出力します\n",
        "#print(listdata)\n",
        "\n",
        "# リストの長さを出力します（len関数の復習）\n",
        "#print(len(listdata))\n"
      ]
    },
    {
      "cell_type": "markdown",
      "metadata": {
        "id": "aFbc163iQx0-"
      },
      "source": [
        "\n",
        "リストの要素を削除するなどリストの操作ができます。\n",
        "\n",
        "1.   この例ではリストの2番目の要素を取り出します。\n",
        "2.リストの中で一致するものの数を数えることができます\n",
        "2.   値の一致するデータを削除します\n",
        "1.   指定の値と一致した要素番号（インデックス）を取得します\n",
        "\n",
        "先頭のデータは0番目なのを忘れないようにしましょう"
      ]
    },
    {
      "cell_type": "code",
      "execution_count": null,
      "metadata": {
        "id": "irfW0nGWRkHr"
      },
      "outputs": [],
      "source": [
        "# この例ではリストの2番目の要素を取り出します\n",
        "#listdata.pop(2)\n",
        "#print(listdata)\n",
        "\n",
        "# リストの中で一致するものを数えることができます\n",
        "#print(listdata.count(2))\n",
        "\n",
        "# リストの中で指定の値と一致する最初のデータを削除します\n",
        "#listdata.remove(4)\n",
        "#print(listdata)\n",
        "\n",
        "# リストの中で指定の値と一致する最初の場所（インデックス）を\n",
        "# 変数iに取得します\n",
        "#i = listdata.index(3)\n",
        "#print(i)"
      ]
    },
    {
      "cell_type": "markdown",
      "metadata": {
        "id": "DMvZNTU5SLIe"
      },
      "source": [
        "\n",
        "\n",
        "1.   リストに値が含まれているかどうか真理値で求める方法があります\n",
        "2.   リストの並べ替えもできます\n",
        "\n"
      ]
    },
    {
      "cell_type": "code",
      "execution_count": null,
      "metadata": {
        "id": "NB-10g2aRp4d"
      },
      "outputs": [],
      "source": [
        "# リストに値が含まれているかどうかチェック（真理値）します\n",
        "#print(9 in listdata)\n",
        "#print(3 in listdata)\n",
        "\n",
        "# リストの値の並べ替えもできます\n",
        "#listdata.sort()\n",
        "#print(listdata)\n",
        "# 逆順にします\n",
        "#listdata.sort(reverse=True)\n",
        "#print(listdata)"
      ]
    }
  ],
  "metadata": {
    "colab": {
      "name": "リスト処理.ipynb",
      "provenance": []
    },
    "kernelspec": {
      "display_name": "Python 3.9.9 64-bit",
      "language": "python",
      "name": "python3"
    },
    "language_info": {
      "name": "python",
      "version": "3.9.9"
    },
    "vscode": {
      "interpreter": {
        "hash": "82ed002fa2d4956f5c6aec99bcefe0f73a9f79882f3c9e2319b14958a5896ac5"
      }
    }
  },
  "nbformat": 4,
  "nbformat_minor": 0
}
