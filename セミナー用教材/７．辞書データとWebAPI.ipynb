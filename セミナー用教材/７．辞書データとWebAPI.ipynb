{
  "cells": [
    {
      "cell_type": "markdown",
      "metadata": {
        "id": "NPejk1pshQGe"
      },
      "source": [
        "# 辞書データとJSON（WebAPI）\n",
        "\n",
        "一般的な言語の多くがリストや辞書といったデータ形式を利用できるようになっていたJSON（JavaScript Object Notation）データの取り扱いが容易にできるようになっています"
      ]
    },
    {
      "cell_type": "code",
      "execution_count": 1,
      "metadata": {
        "colab": {
          "base_uri": "https://localhost:8080/"
        },
        "id": "fxwRy50MhPXJ",
        "outputId": "300da4a3-5986-4f48-cbd7-aec5e5a820e1"
      },
      "outputs": [
        {
          "name": "stdout",
          "output_type": "stream",
          "text": [
            "key3の値\n"
          ]
        }
      ],
      "source": [
        "# pythonでは辞書データとして取り扱います\n",
        "dictdata = {\n",
        "    \"key1\":\"key1の値\",\n",
        "    \"key2\":\"key2の値\",\n",
        "    \"key3\":\"key3の値\",\n",
        "    #任意の値を追加してみましょう\n",
        "}\n",
        "\n",
        "print(dictdata['key3'])"
      ]
    },
    {
      "cell_type": "markdown",
      "metadata": {
        "id": "NtMkkT8ih3OZ"
      },
      "source": [
        "JSONデータをリストの中の辞書データとして格納します\n",
        "\n",
        "形式をみるとリストの中に辞書データが複数含まれています"
      ]
    },
    {
      "cell_type": "code",
      "execution_count": 1,
      "metadata": {
        "id": "d5057SsDh3aU"
      },
      "outputs": [],
      "source": [
        "jsondata = [\n",
        "{\"City\":\"夕張市\",\"Tree\":\"サクラ\",\"Flower\":\"ツツジ\"},\n",
        "{\"City\":\"岩見沢市\",\"Tree\":\"コブシ\",\"Flower\":\"バラ\"},\n",
        "{\"City\":\"美唄市\",\"Tree\":\"ポプラ\",\"Flower\":\"ツツジ\"},\n",
        "{\"City\":\"芦別市\",\"Tree\":\"ミズナラ\",\"Flower\":\"ユリ\"},\n",
        "{\"City\":\"赤平市\",\"Tree\":\"カエデ\",\"Flower\":\"キク\"},\n",
        "{\"City\":\"三笠市\",\"Tree\":\"ナナカマド\",\"Flower\":\"キク\"},\n",
        "{\"City\":\"滝川市\",\"Tree\":\"プラタナス\",\"Flower\":\"ツツジ、コスモス\"}\n",
        "]\n",
        "\n",
        "# データの中身を確認します\n",
        "#print(jsondata)\n",
        "# dictdataそのものはリストの形式なのでここから2番目の要素を\n",
        "# 出力します\n",
        "#print(jsondata[2])\n",
        "# 一度2番目の要素を変数dictdataに代入します\n",
        "#dictdata = jsondata[2]\n",
        "\n",
        "# jsondataのデータ型とdictdataのデータ型を表示する\n",
        "# ためにtype関数を使います\n",
        "#print('jsondataの型は', type(jsondata))\n",
        "#print('dictdataの型は', type(dictdata))\n",
        "\n",
        "# 探索用の空リストを作成します\n",
        "#listdata = []\n",
        "# リスト内の全データから'Cityを取得しlistdataに格納します\n",
        "#for data in jsondata:\n",
        "#    listdata.append(data['City'])\n",
        "# リストから滝川市の要素番号を取得します\n",
        "#i = listdata.index('滝川市')\n",
        "# 滝川市の木の名称をdictdataから取得します\n",
        "#print('滝川市の木=',jsondata[i]['Tree'])"
      ]
    },
    {
      "cell_type": "markdown",
      "metadata": {
        "id": "rmkpuCYqiBPi"
      },
      "source": [
        "#### ファイルからJSONファイルを読み込みます\n",
        "\n",
        "北海道の市町村の木と花より\n",
        "\n",
        "https://www.pref.hokkaido.lg.jp/sr/sky/homepage/midori/midori-homepage/kitohana_00.html\n",
        "\n",
        "CSVの値をJSON形式に変換しました\n",
        "\n",
        "https://www.aconvert.com/jp/document/csv-to-json\n"
      ]
    },
    {
      "cell_type": "code",
      "execution_count": 3,
      "metadata": {
        "id": "cvvRd2xLiBaE"
      },
      "outputs": [
        {
          "name": "stdout",
          "output_type": "stream",
          "text": [
            "札幌市 の木は ライラック\n",
            "花は スズラン です\n"
          ]
        }
      ],
      "source": [
        "# JSONモジュールの読み込みをします\n",
        "import json\n",
        "\n",
        "# JSONファイルを外部ファイルから開きます\n",
        "jsonfile = open('json/hokkaidotreeflower.json' , 'r', encoding='utf-8') \n",
        "# JSONデータとして取り出します\n",
        "loaded_data = json.load(jsonfile)  \n",
        "\n",
        "# 全データから目的のデータを探します\n",
        "for unitdata in loaded_data:\n",
        "    # ここでunitデータは各市区町村ごとの一つの辞書データ\n",
        "    # 辞書から市町村のデータを取り出す\n",
        "    #print(unitdata['City'])\n",
        "    # 市町村名が一致するかチェックします\n",
        "    if unitdata['City'] == '札幌市':\n",
        "         # 一致した場合市町村名と木の名前、花の名前を辞書から\n",
        "         #取り出して出力します\n",
        "        print(unitdata['City'],'の木は',unitdata['Tree'])\n",
        "        print('花は',unitdata['Flower'],'です')\n",
        "    \n",
        "\n"
      ]
    },
    {
      "cell_type": "markdown",
      "metadata": {},
      "source": [
        "URLを指定して気象庁発表の最新地震データを取得しています。\n",
        "\n",
        "https://www.jma.go.jp/bosai/quake/data/list.json"
      ]
    },
    {
      "cell_type": "code",
      "execution_count": 6,
      "metadata": {},
      "outputs": [],
      "source": [
        "# URLリクエストを行うモジュールを読み込みます\n",
        "import requests\n",
        "\n",
        "# 地震の発生状況を知るためのデータURLを設定します\n",
        "url = \"https://www.jma.go.jp/bosai/quake/data/list.json\"\n",
        "# データの取得を行います\n",
        "data = requests.get(url).json()\n",
        "\n",
        "# 取得したJSONデータはリスト形式であることを確認します\n",
        "#print(type(data))\n",
        "# リストの最初のデータから地域（エリア）を取得します\n",
        "#print(data[0]['anm'])\n",
        "# リストの最初のデータから最大震度を取得します\n",
        "#print(data[0]['maxi'])\n",
        "# リストから発生地震の詳細データのJSONデータ名を取得します\n",
        "#print(data[0]['json'])\n",
        "\n"
      ]
    }
  ],
  "metadata": {
    "colab": {
      "name": "辞書の取り扱い.ipynb",
      "provenance": []
    },
    "kernelspec": {
      "display_name": "Python 3.9.9 64-bit",
      "language": "python",
      "name": "python3"
    },
    "language_info": {
      "codemirror_mode": {
        "name": "ipython",
        "version": 3
      },
      "file_extension": ".py",
      "mimetype": "text/x-python",
      "name": "python",
      "nbconvert_exporter": "python",
      "pygments_lexer": "ipython3",
      "version": "3.9.9"
    },
    "vscode": {
      "interpreter": {
        "hash": "82ed002fa2d4956f5c6aec99bcefe0f73a9f79882f3c9e2319b14958a5896ac5"
      }
    }
  },
  "nbformat": 4,
  "nbformat_minor": 0
}
