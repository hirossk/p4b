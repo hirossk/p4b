{
  "cells": [
    {
      "cell_type": "markdown",
      "metadata": {
        "id": "Gr_NkvGr2kb2"
      },
      "source": [
        "# 反復\n",
        "## 反復は同じような処理を全く同一の表現に書き換えることことで効率よくプログラムをすることができます\n",
        "反復（whiledo）プログラムは反復の範囲と終了条件（継続条件）がポイントになります\n",
        "\n",
        "反復にはwhileとfor文が使えます\n",
        "\n",
        "while文を使って条件が成立している間繰り返すことができます"
      ]
    },
    {
      "cell_type": "markdown",
      "metadata": {
        "id": "BladA6jZ7XAs"
      },
      "source": [
        "変数cntの値が1～5まで値を表示しながら繰り返す文は次のように書けます"
      ]
    },
    {
      "cell_type": "code",
      "execution_count": null,
      "metadata": {
        "id": "OSAZYyDP1-Qu"
      },
      "outputs": [],
      "source": [
        "cnt = 1\n",
        "# 条件が成立していれば繰り返す\n",
        "while cnt <= 5:\n",
        "    print(\"1 cnt = \", cnt)\n",
        "    # cntの値を１増する（インクリメント）\n",
        "    cnt = cnt + 1\n"
      ]
    },
    {
      "cell_type": "markdown",
      "metadata": {
        "id": "stLJCE3q2I_N"
      },
      "source": [
        "同様の記述をfor文を使って記述します\n",
        "\n",
        "rangeは値の塊を作るイメージここでは1,2,3,4,5の値を作ります\n",
        "\n",
        "rangeのカッコの中は整数で（初期値start,停止値stop,増分値step）停止値（stop）はstop - 1の値を最大値とし（増分値がマイナスの場合はstop + 1の値が最小値となります）"
      ]
    },
    {
      "cell_type": "code",
      "execution_count": null,
      "metadata": {
        "id": "6_bHiZCK2WcI"
      },
      "outputs": [],
      "source": [
        "#for cnt in range(1,6):\n",
        "#    print(\"2 cnt = \", cnt)\n"
      ]
    },
    {
      "cell_type": "markdown",
      "metadata": {
        "id": "Ouwt1LGZ2xvi"
      },
      "source": [
        "同様の値の塊を作るイメージはリストやタプルとも言われます\n",
        "\n",
        "リストを使って同じ内容を記述します"
      ]
    },
    {
      "cell_type": "code",
      "execution_count": null,
      "metadata": {
        "id": "_P4DFzQl22SM"
      },
      "outputs": [],
      "source": [
        "#for cnt in [1,2,3,4,5]:\n",
        "#    print(\"3 cnt = \", cnt)"
      ]
    },
    {
      "cell_type": "markdown",
      "metadata": {
        "id": "AsBUusve26rC"
      },
      "source": [
        "タプルを使って同じ内容を記述します"
      ]
    },
    {
      "cell_type": "code",
      "execution_count": null,
      "metadata": {
        "id": "SIkqD-VH3A0s"
      },
      "outputs": [],
      "source": [
        "#for cnt in (1,2,3,4,5):\n",
        "#    print(\"4 cnt = \", cnt)"
      ]
    },
    {
      "cell_type": "markdown",
      "metadata": {
        "id": "DvL05ahi3Ghf"
      },
      "source": [
        "辞書を使って値を取り出します"
      ]
    },
    {
      "cell_type": "code",
      "execution_count": null,
      "metadata": {
        "id": "RVi9ZYOh3JCN"
      },
      "outputs": [],
      "source": [
        "#for cnt in {\"v\":1,\"w\":2,\"x\":3,\"y\":4,\"z\":5}.values():\n",
        "#    print(\"5 cnt = \", cnt)"
      ]
    },
    {
      "cell_type": "markdown",
      "metadata": {
        "id": "th7C9aIx3PUB"
      },
      "source": [
        "繰り返し表現の変更\n",
        "\n",
        "繰り返し加算をすることを考えましょう"
      ]
    },
    {
      "cell_type": "code",
      "execution_count": null,
      "metadata": {
        "id": "bd9F5QHy2Np_"
      },
      "outputs": [],
      "source": [
        "sum = 1 + 2 + 3 + 4 + 5\n",
        "print(sum)\n"
      ]
    },
    {
      "cell_type": "markdown",
      "metadata": {
        "id": "JrYyNjYt38MR"
      },
      "source": [
        "同じ表現への変更します\n",
        "\n",
        "同じような行が表現されていることを確認します"
      ]
    },
    {
      "cell_type": "code",
      "execution_count": null,
      "metadata": {
        "id": "eaV0oMSV3cBR"
      },
      "outputs": [],
      "source": [
        "sum = 0\n",
        "sum = sum + 1\n",
        "sum = sum + 2\n",
        "sum = sum + 3\n",
        "sum = sum + 4\n",
        "sum = sum + 5\n",
        "print(sum)"
      ]
    },
    {
      "cell_type": "markdown",
      "metadata": {
        "id": "pK04PXhr4JNF"
      },
      "source": [
        "増やす値（incv）を変化させるプログラムに変更してみます\n",
        "\n",
        "全く同じ行が繰り返されていることがポイントです\n",
        "\n",
        "incv = incv + 1\n",
        "\n",
        "sum = sum + incv"
      ]
    },
    {
      "cell_type": "code",
      "execution_count": null,
      "metadata": {
        "id": "mihSMmz83hIf"
      },
      "outputs": [],
      "source": [
        "# 　14行目から25行目\n",
        "sum = 0\n",
        "incv = 0\n",
        "\n",
        "incv = incv + 1\n",
        "sum = sum + incv\n",
        "incv = incv + 1\n",
        "sum = sum + incv\n",
        "incv = incv + 1\n",
        "sum = sum + incv\n",
        "incv = incv + 1\n",
        "sum = sum + incv\n",
        "incv = incv + 1\n",
        "sum = sum + incv\n",
        "print(sum)"
      ]
    },
    {
      "cell_type": "markdown",
      "metadata": {
        "id": "r3gtNlC94WoO"
      },
      "source": [
        "for文を使って5回繰り返すプログラムに変更します\n",
        "\n",
        "同じ表現であればプログラム中で繰り返すことが可能になります\n"
      ]
    },
    {
      "cell_type": "code",
      "execution_count": null,
      "metadata": {
        "id": "4U0k6PB43nqU"
      },
      "outputs": [],
      "source": [
        "sum = 0\n",
        "incv = 0\n",
        "# for文で5回繰り返す\n",
        "for times in range(5):\n",
        "    incv = incv + 1\n",
        "    sum = sum + incv\n",
        "print(sum)"
      ]
    },
    {
      "cell_type": "markdown",
      "metadata": {
        "id": "6yNjhAsH481c"
      },
      "source": [
        "1,3,5,7,9と奇数値のみ加算するプログラムに変更してみましょう　2行目と4行目を変更してください"
      ]
    },
    {
      "cell_type": "code",
      "execution_count": null,
      "metadata": {
        "id": "fbtoK3G13vtm"
      },
      "outputs": [],
      "source": [
        "sum = 0\n",
        "incv = 0\n",
        "for times in range(5):\n",
        "    incv = incv + 1\n",
        "    sum = sum + incv\n",
        "print(sum)"
      ]
    },
    {
      "cell_type": "markdown",
      "metadata": {
        "id": "PzaWfGgb5Nyo"
      },
      "source": [
        "1,3,5,7,9と奇数値のみ加算するプログラムを変数incvを使わないように変更してみてください\n",
        "\n",
        "rangeの引数を変更し、for文の変数を活用しましょう"
      ]
    },
    {
      "cell_type": "code",
      "execution_count": null,
      "metadata": {
        "id": "XOU9vvc231sF"
      },
      "outputs": [],
      "source": [
        "for incv in range():\n",
        "    sum = sum + incv\n",
        "\n",
        "print(\"合計 = \",sum)"
      ]
    }
  ],
  "metadata": {
    "colab": {
      "name": "反復.ipynb",
      "provenance": []
    },
    "kernelspec": {
      "display_name": "Python 3.9.9 64-bit",
      "language": "python",
      "name": "python3"
    },
    "language_info": {
      "name": "python",
      "version": "3.9.9"
    },
    "vscode": {
      "interpreter": {
        "hash": "82ed002fa2d4956f5c6aec99bcefe0f73a9f79882f3c9e2319b14958a5896ac5"
      }
    }
  },
  "nbformat": 4,
  "nbformat_minor": 0
}
