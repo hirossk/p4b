{
  "nbformat": 4,
  "nbformat_minor": 0,
  "metadata": {
    "colab": {
      "name": "分岐（選択）.ipynb",
      "provenance": []
    },
    "kernelspec": {
      "name": "python3",
      "display_name": "Python 3"
    },
    "language_info": {
      "name": "python"
    }
  },
  "cells": [
    {
      "cell_type": "markdown",
      "source": [
        "# 分岐・選択\n",
        "## 分岐・選択では問題の意図を理解して条件判定式の意味を理解するが重要です\n",
        "書き方はインデントを理解してどこからどこまでが条件成立したときに実行されるブロックなのか考えて記載します\n",
        "\n",
        "選択（ifthenelse）のプログラムの考え方は論理値（真理値）が重要になります"
      ],
      "metadata": {
        "id": "iGR7DPUR0ywW"
      }
    },
    {
      "cell_type": "code",
      "execution_count": null,
      "metadata": {
        "id": "yRC5g6p2zfvA"
      },
      "outputs": [],
      "source": [
        "# 真（成立）の値を表示\n",
        "#print(True)\n",
        "#print(10 > 1)\n",
        "\n",
        "# 偽（不成立）の値を表示\n",
        "#print(10 < 1)\n",
        "\n",
        "# 課題：変数aを用意して数値-10を入れましょう\n",
        "\n",
        "# 変数aの値がマイナスであれば真となる条件式の値を表示しましょう\n",
        "#print(a < 0)\n",
        "\n",
        "# 変数aの値がマイナスであれば'マイナス'と表示するプログラムを作りましょう\n",
        "#if a < 0 :\n",
        "#    print('マイナス')\n",
        "\n",
        "# 課題：変数aの値がプラスであればなにも表示されないことを確認しましょう"
      ]
    },
    {
      "cell_type": "markdown",
      "source": [
        "下のプログラムはインデントでエラーが発生します\n",
        "正しく動作するように修正しましょう\n",
        "\n",
        "100点満点でテストした結果をscoreという変数に格納します\n",
        "\n",
        "テストの点数が80点以上で優、70点以上で良、60点以上で可、60点未満で不可とします\n",
        "ただし入力データのエラー処理は考えないこととします"
      ],
      "metadata": {
        "id": "XCQs6iXi1dWU"
      }
    },
    {
      "cell_type": "code",
      "source": [
        "# 変数scoreに数値60を格納する\n",
        "score = 60\n",
        "\n",
        "if score >= 80:\n",
        "# インデント（字下げ）がされていないとエラーになります\n",
        "print(\"あなたは優です\")\n",
        "# インデント（字下げ）がおかしいとエラーになります\n",
        "    elif score >= 70:\n",
        "    print(\"あなたは良です\")\n",
        "elif score >= 60:\n",
        "    print(\"あなたは可です\")\n",
        "else:\n",
        "    print(\"あなたは不可です\")\n"
      ],
      "metadata": {
        "colab": {
          "base_uri": "https://localhost:8080/",
          "height": 135
        },
        "id": "47kBoJcJ0om-",
        "outputId": "bcc58dd8-8658-4168-96d3-3e25e2c1fd18"
      },
      "execution_count": 1,
      "outputs": [
        {
          "output_type": "error",
          "ename": "IndentationError",
          "evalue": "ignored",
          "traceback": [
            "\u001b[0;36m  File \u001b[0;32m\"<ipython-input-1-c0f356a4bfcd>\"\u001b[0;36m, line \u001b[0;32m10\u001b[0m\n\u001b[0;31m    print(\"あなたは優です\")\u001b[0m\n\u001b[0m        ^\u001b[0m\n\u001b[0;31mIndentationError\u001b[0m\u001b[0;31m:\u001b[0m expected an indented block\n"
          ]
        }
      ]
    },
    {
      "cell_type": "markdown",
      "source": [
        "条件式に設定する式の意味を理解しましょう\n",
        "割り切れる割り切れないは割った「あまり」で判定することができます\n",
        "\n",
        "キーボードから変数valueに入力した値を読み取り2,3,5,7,11という素数で割り切れるかどうかを判定します"
      ],
      "metadata": {
        "id": "CCAxYWhk1tyO"
      }
    },
    {
      "cell_type": "code",
      "source": [
        "# 数値が入力された場合、対応する素数を表示してください。\n",
        "#value = int(input(\"数値を入力してください：\"))\n",
        "\n",
        "#if :\n",
        "#    print(\"素数2で割り切れます\")\n",
        "#elif :\n",
        "#    print(\"素数3で割り切れます\")\n",
        "#elif :\n",
        "#    print(\"素数5で割り切れます\")\n",
        "#elif :\n",
        "#    print(\"素数7で割り切れます\")\n",
        "#elif :\n",
        "#    print(\"素数11で割り切れます\")\n",
        "#else:\n",
        "#    print(\"素数2,3,5,7,11で割り切れない数値です\")\n"
      ],
      "metadata": {
        "id": "MLwgwaLE0uh2"
      },
      "execution_count": null,
      "outputs": []
    }
  ]
}