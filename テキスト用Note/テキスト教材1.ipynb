{
  "nbformat": 4,
  "nbformat_minor": 0,
  "metadata": {
    "colab": {
      "name": "learner1.ipynb",
      "provenance": [],
      "collapsed_sections": [],
      "toc_visible": true
    },
    "kernelspec": {
      "name": "python3",
      "display_name": "Python 3"
    },
    "language_info": {
      "name": "python"
    }
  },
  "cells": [
    {
      "cell_type": "markdown",
      "metadata": {
        "id": "lY4-l1KiUgxC"
      },
      "source": [
        "#Google ColaboratoryによるPythonプログラミング基礎\n",
        "##Pythonによる計算\n",
        "###コードセルで実行されたプログラムは「表示」メニューの「コードの実行履歴」で参照できます。\n",
        "\n",
        "---\n",
        "Pythonで計算した場合、実行結果として表示されます。<br>\n",
        "※ただし、複数の計算が行われると最後の計算結果のみ表示されます。\n"
      ]
    },
    {
      "cell_type": "markdown",
      "metadata": {
        "id": "8HYxKDwZxNNv"
      },
      "source": [
        "####計算の実行（計算結果の参照）"
      ]
    },
    {
      "cell_type": "code",
      "metadata": {
        "id": "Q35yVaDpDWWN",
        "colab": {
          "base_uri": "https://localhost:8080/"
        },
        "outputId": "dc3c1fd8-7479-4cbd-801b-b0fc25fc7e02"
      },
      "source": [
        "1 + 2"
      ],
      "execution_count": null,
      "outputs": [
        {
          "output_type": "execute_result",
          "data": {
            "text/plain": [
              "3"
            ]
          },
          "metadata": {},
          "execution_count": 1
        }
      ]
    },
    {
      "cell_type": "code",
      "metadata": {
        "colab": {
          "base_uri": "https://localhost:8080/"
        },
        "id": "CEIeoYLWVAfk",
        "outputId": "88bc24d5-1ff8-43ad-cefa-2d0d3b7ff7fd"
      },
      "source": [
        "3 * 4"
      ],
      "execution_count": null,
      "outputs": [
        {
          "output_type": "execute_result",
          "data": {
            "text/plain": [
              "12"
            ]
          },
          "metadata": {},
          "execution_count": 2
        }
      ]
    },
    {
      "cell_type": "code",
      "metadata": {
        "colab": {
          "base_uri": "https://localhost:8080/"
        },
        "id": "bUXMf7XnVWYI",
        "outputId": "ffb9a7f8-b5b4-4c0c-de7f-264426cb0a3d"
      },
      "source": [
        "1 / 3"
      ],
      "execution_count": null,
      "outputs": [
        {
          "output_type": "execute_result",
          "data": {
            "text/plain": [
              "0.3333333333333333"
            ]
          },
          "metadata": {},
          "execution_count": 3
        }
      ]
    },
    {
      "cell_type": "code",
      "metadata": {
        "colab": {
          "base_uri": "https://localhost:8080/"
        },
        "id": "xtMZaklCVYUo",
        "outputId": "e44cd9b2-57bd-4a01-890c-d802601852bc"
      },
      "source": [
        "4 ** 2"
      ],
      "execution_count": null,
      "outputs": [
        {
          "output_type": "execute_result",
          "data": {
            "text/plain": [
              "16"
            ]
          },
          "metadata": {},
          "execution_count": 4
        }
      ]
    },
    {
      "cell_type": "code",
      "metadata": {
        "colab": {
          "base_uri": "https://localhost:8080/"
        },
        "id": "iNt9P_rpVbHa",
        "outputId": "8f5c9a8a-e395-4b7d-e937-373a63a7d61d"
      },
      "source": [
        "( 1 + 2 + 3 )  / 2"
      ],
      "execution_count": null,
      "outputs": [
        {
          "output_type": "execute_result",
          "data": {
            "text/plain": [
              "3.0"
            ]
          },
          "metadata": {},
          "execution_count": 2
        }
      ]
    },
    {
      "cell_type": "markdown",
      "metadata": {
        "id": "aWosDDSHqL46"
      },
      "source": [
        "実行後にコードの実行履歴を参照してみましょう。"
      ]
    },
    {
      "cell_type": "markdown",
      "metadata": {
        "id": "M92oHxYK1_26"
      },
      "source": [
        "#####シェルスクリプト（参考）\n"
      ]
    },
    {
      "cell_type": "code",
      "metadata": {
        "id": "kGDHTMjG2En0"
      },
      "source": [
        "!echo \"facebookyahooapplegooglemicrosoftamazon\" | sed 's/[a-z]\\{5\\}\\(.\\)....\\(.\\)..\\(.\\).\\{13\\}\\(.\\).\\{5\\}\\(.\\).*/\\1\\2\\3\\4\\5/'"
      ],
      "execution_count": null,
      "outputs": []
    },
    {
      "cell_type": "markdown",
      "metadata": {
        "id": "6ewNmq24VsU_"
      },
      "source": [
        "####変数の確認\n",
        "\n",
        "---\n",
        "プログラムでは変数といわれる計算結果を一時的に保存しておくためのデータ領域が使われます。<br>\n",
        "変数に値を代入する方法を見てみましょう。"
      ]
    },
    {
      "cell_type": "code",
      "metadata": {
        "colab": {
          "base_uri": "https://localhost:8080/"
        },
        "id": "zG0xyAwzV6BF",
        "outputId": "2b6282b7-aca8-4649-c870-73ebf1f4d5ca"
      },
      "source": [
        "x = 10\n",
        "x"
      ],
      "execution_count": null,
      "outputs": [
        {
          "output_type": "execute_result",
          "data": {
            "text/plain": [
              "10"
            ]
          },
          "metadata": {},
          "execution_count": 3
        }
      ]
    },
    {
      "cell_type": "code",
      "metadata": {
        "colab": {
          "base_uri": "https://localhost:8080/"
        },
        "id": "n5V3-yM0V_jA",
        "outputId": "75bf670e-75c0-4133-8921-a1f13e220294"
      },
      "source": [
        "x / 4"
      ],
      "execution_count": null,
      "outputs": [
        {
          "output_type": "execute_result",
          "data": {
            "text/plain": [
              "2.5"
            ]
          },
          "metadata": {},
          "execution_count": 8
        }
      ]
    },
    {
      "cell_type": "markdown",
      "metadata": {
        "id": "9Gi41hrysNyl"
      },
      "source": [
        "一度変数に値を保存するとそのコードが実行されたあとは変数に値が保存されます。<br>\n",
        "del文によって変数を未定義にすることができます。"
      ]
    },
    {
      "cell_type": "code",
      "metadata": {
        "id": "izCYjGc2saQ_"
      },
      "source": [
        "del x"
      ],
      "execution_count": null,
      "outputs": []
    },
    {
      "cell_type": "markdown",
      "metadata": {
        "id": "aGElF_hLscU6"
      },
      "source": [
        "ここでdel文を実行後ひとつ前の「 x / 4 」を実行してみてください。"
      ]
    },
    {
      "cell_type": "markdown",
      "metadata": {
        "id": "sDlH9KRjOzHV"
      },
      "source": [
        "####変数（データ）の型\n",
        "Pythonで扱う基本のデータ型は次の７種類あります。<br>\n",
        "データの型を確認するにはtype関数を利用します。\n",
        "\n",
        "---\n",
        "int型：整数<br>\n",
        "float型：小数点<br>\n",
        "str型：文字列<br>\n",
        "bool型：真偽値<br>\n",
        "list型：リスト<br>\n",
        "tuple型：タプル<br>\n",
        "dict型：辞書\n"
      ]
    },
    {
      "cell_type": "code",
      "metadata": {
        "id": "dvZIJY8VPOXn"
      },
      "source": [
        "type(1.5)"
      ],
      "execution_count": null,
      "outputs": []
    },
    {
      "cell_type": "markdown",
      "metadata": {
        "id": "ofd7CoN8WUbQ"
      },
      "source": [
        "##まとまった手順の実行\n",
        "それではまとまった手順を実行するスクリプト（簡易的な）プログラミングを行っていきましょう。<br>以下のプログラムはいくつかの手順を行った後の結果を表示する簡単なプログラムです。"
      ]
    },
    {
      "cell_type": "code",
      "metadata": {
        "colab": {
          "base_uri": "https://localhost:8080/"
        },
        "id": "lg21fDH4WbhU",
        "outputId": "3c7f3d73-f757-4358-fc02-4adeb070c67b"
      },
      "source": [
        "x = 1\n",
        "x = x + 2\n",
        "x = x + 3\n",
        "x = x + 4\n",
        "x = x + 5\n",
        "x"
      ],
      "execution_count": null,
      "outputs": [
        {
          "output_type": "execute_result",
          "data": {
            "text/plain": [
              "15"
            ]
          },
          "metadata": {},
          "execution_count": 18
        }
      ]
    },
    {
      "cell_type": "markdown",
      "metadata": {
        "id": "-Ll3gUDQtKzJ"
      },
      "source": [
        "ColaboratoryによるPythonの実行結果は最後に評価した式の値が表示されますが、明示的に出力するために今後はprint関数を使うようにしましょう。"
      ]
    },
    {
      "cell_type": "code",
      "metadata": {
        "colab": {
          "base_uri": "https://localhost:8080/"
        },
        "id": "8znodjzoWlS9",
        "outputId": "0aa07ff4-e67c-4b8b-ca6d-a5c12786e2aa"
      },
      "source": [
        "print( x )"
      ],
      "execution_count": null,
      "outputs": [
        {
          "output_type": "stream",
          "name": "stdout",
          "text": [
            "15\n"
          ]
        }
      ]
    },
    {
      "cell_type": "markdown",
      "metadata": {
        "id": "XG_ilWOwt5OQ"
      },
      "source": [
        "##式の評価\n",
        "Pythonの条件式は式の評価値がFalseが偽の判定となります。"
      ]
    },
    {
      "cell_type": "code",
      "metadata": {
        "colab": {
          "base_uri": "https://localhost:8080/"
        },
        "id": "uFL0iAd1uk-f",
        "outputId": "4f0ce8a5-8e2b-41b1-c98b-8fd0bd3c8f02"
      },
      "source": [
        "x = 0\n",
        "print(\"式の評価値の出力\")\n",
        "print(x == 0)\n",
        "print(x > 10)\n",
        "print(x < 10)\n",
        "print(x == 1)\n",
        "print(x != 2)"
      ],
      "execution_count": null,
      "outputs": [
        {
          "output_type": "stream",
          "name": "stdout",
          "text": [
            "式の評価値の出力\n",
            "True\n",
            "False\n",
            "True\n",
            "False\n",
            "True\n"
          ]
        }
      ]
    },
    {
      "cell_type": "markdown",
      "metadata": {
        "id": "XyuVzR0QXFTK"
      },
      "source": [
        "##if文\n",
        "式の評価に基づいて処理を分岐するには他の言語同様にif文を使います。<br>\n",
        "Pythonでは実行の単位がブロックであり、ブロックの開始は「:」コロンによって開始が明示されます。<br>\n",
        "また、評価結果がFalse,None,0(ゼロ)の時に「偽」となります。"
      ]
    },
    {
      "cell_type": "code",
      "metadata": {
        "colab": {
          "base_uri": "https://localhost:8080/"
        },
        "id": "K3xYS0VdXJdy",
        "outputId": "a2f13898-9191-438f-c563-91c35aa94cd2"
      },
      "source": [
        "x = 60\n",
        "if x >= 80:\n",
        "    print ( \"A\" )\n",
        "elif x >= 60:\n",
        "    print ( \"B\" )\n",
        "elif x >= 40:\n",
        "    print ( \"C\" )\n",
        "else:\n",
        "    print ( \"D\" )"
      ],
      "execution_count": null,
      "outputs": [
        {
          "output_type": "stream",
          "name": "stdout",
          "text": [
            "B\n"
          ]
        }
      ]
    },
    {
      "cell_type": "markdown",
      "metadata": {
        "id": "rZ8nCl3kXzZX"
      },
      "source": [
        "##入力\n",
        "入力にはinput関数を利用します。<br>\n",
        "input関数はキーボードで入力した値を文字列として＝の左辺へ代入します。"
      ]
    },
    {
      "cell_type": "code",
      "metadata": {
        "colab": {
          "base_uri": "https://localhost:8080/"
        },
        "id": "VtUHq35RX2Mn",
        "outputId": "277be42e-2518-4cd0-bdcf-523caee3613d"
      },
      "source": [
        "x = input ( \"math = \" )\n",
        "m = int ( x ) \n",
        "y = input ( \"english = \" )\n",
        "e = int ( y )\n",
        "print ( \"The average score is \" + str((m + e) / 2) )"
      ],
      "execution_count": null,
      "outputs": [
        {
          "output_type": "stream",
          "name": "stdout",
          "text": [
            "math = 10\n",
            "english = 20\n",
            "The average score is 15.0\n"
          ]
        }
      ]
    },
    {
      "cell_type": "markdown",
      "metadata": {
        "id": "fRIWahaaxDMt"
      },
      "source": [
        "##for文\n",
        "繰り返しにはfor文の他にwhile文もありますが、for文の使い方にフォーカスします。<br>for文も繰り返しの単位がブロックとなりますので、ブロックの開始を「:」コロンで明示します。"
      ]
    },
    {
      "cell_type": "code",
      "metadata": {
        "colab": {
          "base_uri": "https://localhost:8080/"
        },
        "id": "sfT3x2YwxDM2",
        "outputId": "003c4600-3b71-4b92-dc09-eb8e68ff004d"
      },
      "source": [
        "for x in range(3):\n",
        "     print( \"wan\" )\n",
        "     print( \"nyan\" )"
      ],
      "execution_count": null,
      "outputs": [
        {
          "output_type": "stream",
          "name": "stdout",
          "text": [
            "wan\n",
            "nyan\n",
            "wan\n",
            "nyan\n",
            "wan\n",
            "nyan\n"
          ]
        }
      ]
    },
    {
      "cell_type": "markdown",
      "metadata": {
        "id": "9jQ10Hzwxz-b"
      },
      "source": [
        "range関数は連続した値のタプルやリストを作るために利用されます。"
      ]
    },
    {
      "cell_type": "code",
      "metadata": {
        "colab": {
          "base_uri": "https://localhost:8080/"
        },
        "id": "EcOhqfFfyHtp",
        "outputId": "e15b7031-5103-4a0b-acc9-3f44699c8c37"
      },
      "source": [
        "print(\"range(1 , 5)\")\n",
        "for x in range(1 , 5):\n",
        "  print(x)\n",
        "print(\"range(1 , 10 , 2)\")\n",
        "for x in range(1 , 10 , 2):\n",
        "  print(x)\n",
        "print(\"range(2 , 10 , 3)\")\n",
        "for x in range(2 , 10 , 3):\n",
        "  print(x)"
      ],
      "execution_count": null,
      "outputs": [
        {
          "output_type": "stream",
          "name": "stdout",
          "text": [
            "range(1 , 5)\n",
            "1\n",
            "2\n",
            "3\n",
            "4\n",
            "range(1 , 10 , 2)\n",
            "1\n",
            "3\n",
            "5\n",
            "7\n",
            "9\n",
            "range(2 , 10 , 3)\n",
            "2\n",
            "5\n",
            "8\n"
          ]
        }
      ]
    },
    {
      "cell_type": "markdown",
      "metadata": {
        "id": "0mmIgRO6y1C4"
      },
      "source": [
        "1～10までの合計を求めるプログラム"
      ]
    },
    {
      "cell_type": "code",
      "metadata": {
        "colab": {
          "base_uri": "https://localhost:8080/"
        },
        "id": "BeouNlPBxDM3",
        "outputId": "5d46ba10-ff2d-457f-9db5-893bd3dcd1ea"
      },
      "source": [
        "sum = 0\n",
        "for x in range(1,11):\n",
        "     sum = sum + x\n",
        "print ( sum ) "
      ],
      "execution_count": null,
      "outputs": [
        {
          "output_type": "stream",
          "name": "stdout",
          "text": [
            "55\n"
          ]
        }
      ]
    },
    {
      "cell_type": "markdown",
      "metadata": {
        "id": "1mucaakjxRtE"
      },
      "source": [
        "##入力と繰り返し\n",
        "for文による繰り返しとキーボードからの入力を行うプログラムです。"
      ]
    },
    {
      "cell_type": "code",
      "metadata": {
        "colab": {
          "base_uri": "https://localhost:8080/"
        },
        "id": "Eb73ecWXX9DZ",
        "outputId": "8e0542f3-ac37-401b-9417-7d2fd7b9fbce"
      },
      "source": [
        "y = 0\n",
        "for n in range(1, 11):\n",
        "    x = input ( \"subject\" + str(n) + \" = \" ) #文字列の連結は「+」で行うことができます。\n",
        "    y = y + int( x )\n",
        "print( y / 10 )"
      ],
      "execution_count": null,
      "outputs": [
        {
          "output_type": "stream",
          "name": "stdout",
          "text": [
            "subject1 = 10\n",
            "subject2 = 20\n",
            "subject3 = 30\n",
            "subject4 = 40\n",
            "subject5 = 50\n",
            "subject6 = 60\n",
            "subject7 = 70\n",
            "subject8 = 80\n",
            "subject9 = 90\n",
            "subject10 = 100\n",
            "55.0\n"
          ]
        }
      ]
    },
    {
      "cell_type": "markdown",
      "metadata": {
        "id": "vmQjoAwxYLvX"
      },
      "source": [
        "##二重ループ\n",
        "for文の中にfor文を入れることで繰り返しの二重ループを作ることができます。<br>\n",
        "この時字下げ（インデント）に注意する必要があります。"
      ]
    },
    {
      "cell_type": "code",
      "metadata": {
        "colab": {
          "base_uri": "https://localhost:8080/"
        },
        "id": "Y6NnrSBZYO0P",
        "outputId": "2da7d3a6-b930-472b-9665-e0ba23444532"
      },
      "source": [
        "for x in range(1,10): #外ループ\n",
        "    print(\" {:>2d} 行 \".format( x ), end = \"\") \n",
        "    #xの値を出力\n",
        "    #書式を指定して出力するためには\n",
        "    for y in range(1,10): #内ループ\n",
        "        #yの値を出力\n",
        "        print(\" {:>2d}\".format(x * y), end = \"\")\n",
        "        #printは改行するが、改行を禁止するためにはprintの引数に\n",
        "        #end = \"\"を記入する\n",
        "    print()"
      ],
      "execution_count": null,
      "outputs": [
        {
          "output_type": "stream",
          "name": "stdout",
          "text": [
            "  1 行   1  2  3  4  5  6  7  8  9\n",
            "  2 行   2  4  6  8 10 12 14 16 18\n",
            "  3 行   3  6  9 12 15 18 21 24 27\n",
            "  4 行   4  8 12 16 20 24 28 32 36\n",
            "  5 行   5 10 15 20 25 30 35 40 45\n",
            "  6 行   6 12 18 24 30 36 42 48 54\n",
            "  7 行   7 14 21 28 35 42 49 56 63\n",
            "  8 行   8 16 24 32 40 48 56 64 72\n",
            "  9 行   9 18 27 36 45 54 63 72 81\n"
          ]
        }
      ]
    },
    {
      "cell_type": "markdown",
      "metadata": {
        "id": "m_7lS7LmYe2c"
      },
      "source": [
        "#Pythonのデータ構造基礎\n",
        "##リスト\n",
        "他の言語で取り扱われる配列と同様に扱うことができるデータ構造をPythonではリストと言います。<br>\n",
        "\n"
      ]
    },
    {
      "cell_type": "code",
      "metadata": {
        "colab": {
          "base_uri": "https://localhost:8080/"
        },
        "id": "4KMwfFTAYoy2",
        "outputId": "05e75f3c-8f35-4d94-da85-b027ebf68020"
      },
      "source": [
        "subjects = [\"Mathematics\",\"English\",\"Social\",\"Japanese\",\n",
        "            \"Scientific\"]\n",
        "for s in subjects:\n",
        "    print ( s )"
      ],
      "execution_count": null,
      "outputs": [
        {
          "output_type": "stream",
          "name": "stdout",
          "text": [
            "Mathematics\n",
            "English\n",
            "Social\n",
            "Japanese\n",
            "Scientific\n"
          ]
        }
      ]
    },
    {
      "cell_type": "code",
      "metadata": {
        "colab": {
          "base_uri": "https://localhost:8080/"
        },
        "id": "wvnXo7oaYxLf",
        "outputId": "46164b1d-d4b1-481c-91c3-6a589fe45bec"
      },
      "source": [
        "subjects = [\"Mathematics\",\"English\",\"Social\",\n",
        "    \"Japanese\",\"Scientific\"]\n",
        "scores = [] \n",
        "#空のリストを作成\n",
        "for s in subjects:\n",
        "    x = input( s + \" = \" )\n",
        "    y = int ( x )\n",
        "    scores.append( y )\n",
        "    #scoresに要素を追加する\n",
        "\n",
        "l = len(subjects)\n",
        "#配列の長さはlen関数を利用することで求められます（ここでは5となります）\n",
        "for n in range(5):\n",
        "    print ( subjects[n] + \":\" , scores[n])\n",
        "# print命令は「,」（カンマ）でつなぐと改行なしで値を出力できます。"
      ],
      "execution_count": null,
      "outputs": [
        {
          "output_type": "stream",
          "name": "stdout",
          "text": [
            "Mathematics = 10\n",
            "English = 20\n",
            "Social = 30\n",
            "Japanese = 40\n",
            "Scientific = 50\n",
            "Mathematics: 10\n",
            "English: 20\n",
            "Social: 30\n",
            "Japanese: 40\n",
            "Scientific: 50\n"
          ]
        }
      ]
    },
    {
      "cell_type": "code",
      "metadata": {
        "colab": {
          "base_uri": "https://localhost:8080/"
        },
        "id": "BnD-go6_Y7MP",
        "outputId": "6fad6389-6312-45ca-9e75-b02aa7c78507"
      },
      "source": [
        "subjects = [\"Mathematics\",\"English\",\"Social\",\n",
        "    \"Japanese\",\"Scientific\"]\n",
        "scores = [] \n",
        "for s in subjects:\n",
        "    x = input( s + \" = \" )\n",
        "    y = int ( x )\n",
        "    scores.append( y )\n",
        "\n",
        "for n in range(0,5):\n",
        "    if scores[n] >= 60:\n",
        "        mes = \"合格\"\n",
        "    else:\n",
        "        mes = \"不合格\"\n",
        "    print ( subjects[n] + \":\" , scores[n], mes)56"
      ],
      "execution_count": null,
      "outputs": [
        {
          "output_type": "stream",
          "name": "stdout",
          "text": [
            "Mathematics = 10\n",
            "English = 20\n",
            "Social = 30\n",
            "Japanese = 40\n",
            "Scientific = 0\n",
            "Mathematics: 10 不合格\n",
            "English: 20 不合格\n",
            "Social: 30 不合格\n",
            "Japanese: 40 不合格\n",
            "Scientific: 0 不合格\n"
          ]
        }
      ]
    },
    {
      "cell_type": "markdown",
      "metadata": {
        "id": "ky0DaNiFzzYo"
      },
      "source": [
        "リストと同様に配列のように取り扱うことができるデータ構造にタプルもあります。「[]」ではなく「()」を使います。<br>違いはタプルはデータを後から書き換えることができません。"
      ]
    },
    {
      "cell_type": "markdown",
      "metadata": {
        "id": "Rzto_DMrY-Bv"
      },
      "source": [
        "##リストの中のリスト(2次元配列）\n",
        "二次元配列と同じようにリストの中にリストを入れることができます。<br>\n",
        "参照はリストの中身をfor文で反復し取り出しながら繰り返すことで容易にすべての要素に対して処理することができます。"
      ]
    },
    {
      "cell_type": "code",
      "metadata": {
        "colab": {
          "base_uri": "https://localhost:8080/"
        },
        "id": "2oVTWz6RZMIT",
        "outputId": "c554714c-3f8e-4bb9-f383-8f8d5a853413"
      },
      "source": [
        "students_scores = [[60, 80], [70, 90], [80, 100]]\n",
        "m = 0 #数学の合計点\n",
        "e = 0 #英語の合計点\n",
        "\n",
        "for v in students_scores:\n",
        "    m = m + v[0]\n",
        "    e = e + v[1]\n",
        "\n",
        "print (\"数学の合計点数\", m)\n",
        "print (\"英語の合計点数\", e)"
      ],
      "execution_count": null,
      "outputs": [
        {
          "output_type": "stream",
          "name": "stdout",
          "text": [
            "数学の合計点数 210\n",
            "英語の合計点数 270\n"
          ]
        }
      ]
    },
    {
      "cell_type": "code",
      "metadata": {
        "colab": {
          "base_uri": "https://localhost:8080/"
        },
        "id": "oN2k8k37ZTet",
        "outputId": "93c14143-ea2d-4d2f-b0b5-f542c293b2f6"
      },
      "source": [
        "students_scores = [[60, 80], [70, 90], [80, 100]]\n",
        "m = 0 #数学の合計点\n",
        "e = 0 #英語の合計点\n",
        "\n",
        "for i in range (3):\n",
        "    m = m + students_scores[i][0]\n",
        "    e = e + students_scores[i][1]\n",
        "\n",
        "print (\"数学の合計点数\", m)\n",
        "print (\"英語の合計点数\", e)"
      ],
      "execution_count": null,
      "outputs": [
        {
          "output_type": "stream",
          "name": "stdout",
          "text": [
            "数学の合計点数 210\n",
            "英語の合計点数 270\n"
          ]
        }
      ]
    },
    {
      "cell_type": "markdown",
      "metadata": {
        "id": "btxVSBaXZe0R"
      },
      "source": [
        "##リストの操作\n",
        "Pythonで取り扱うリストはオブジェクトと言われる操作するための手続きを持っています。<br>並べ替えやデータの挿入、削除など配列に必要な操作を行うための手段を提供しています。"
      ]
    },
    {
      "cell_type": "code",
      "metadata": {
        "colab": {
          "base_uri": "https://localhost:8080/"
        },
        "id": "mYcDqEzyZdhW",
        "outputId": "68fad687-00a2-44c8-fe3e-a6760f9e726a"
      },
      "source": [
        "l = [ 4 , 5 , 7 , 2 , 1 , 9 ]\n",
        "print(l)\n",
        "l.sort() #昇順ソート\n",
        "print(l)\n",
        "l.sort( reverse = True ) #降順ソート\n",
        "print(l)\n",
        "print(l.pop()) #最後の要素の取り出し\n",
        "print(l.pop(0)) #先頭の要素の取り出し"
      ],
      "execution_count": null,
      "outputs": [
        {
          "output_type": "stream",
          "name": "stdout",
          "text": [
            "[4, 5, 7, 2, 1, 9]\n",
            "[1, 2, 4, 5, 7, 9]\n",
            "[9, 7, 5, 4, 2, 1]\n",
            "1\n",
            "9\n"
          ]
        }
      ]
    },
    {
      "cell_type": "markdown",
      "metadata": {
        "id": "fCW9rfdNaW1J"
      },
      "source": [
        "##辞書\n",
        "辞書は「キー値」と「キー値によって取得される値」の組み合わせで管理されるデータです。<br>\n",
        "辞書の中では「キー値」は重複しないので一意に値を取り出すことができます。"
      ]
    },
    {
      "cell_type": "code",
      "metadata": {
        "colab": {
          "base_uri": "https://localhost:8080/"
        },
        "id": "0fSxadNqadpO",
        "outputId": "4451acf4-c822-430c-c754-ef16c6fa4108"
      },
      "source": [
        "dictdata = {'CTS':'SHINCHITOSE', 'HKD':'HAKODATE', \n",
        "    'HND':'TOKYOKOKUSAI', 'NRT':'NARITAKOKUSAI' }\n",
        "print(dictdata['CTS']) #キー値「'CTS'」で一意に値を取り出す。"
      ],
      "execution_count": null,
      "outputs": [
        {
          "output_type": "stream",
          "name": "stdout",
          "text": [
            "SHINCHITOSE\n"
          ]
        }
      ]
    },
    {
      "cell_type": "markdown",
      "metadata": {
        "id": "CNKn3W5taoby"
      },
      "source": [
        "##JSONとPythonのデータ構造\n",
        "WebAPIによってデータ交換する際のデータ構造はJSON(JavaScript Object Notation)が利用されます。<br>JSONデータとPythonの辞書、リストは親和性が高くPythonによるWebAPIの活用は比較的容易です。"
      ]
    },
    {
      "cell_type": "code",
      "metadata": {
        "colab": {
          "base_uri": "https://localhost:8080/"
        },
        "id": "zBxiaE6Jat3P",
        "outputId": "c45d4829-36b0-4aec-de21-c0377cfd482d"
      },
      "source": [
        "json_data = {\n",
        "  \"class\":\"2年3組\" ,\n",
        "  \"name\":\"佐々木\" ,\n",
        "  \"score\":[60, 70 ,50 , 80, 100]\n",
        "  }\n",
        "  \n",
        "print('json_data[\"name\"] ⇒ ' +json_data['name'])\n",
        "print('json_data[\"score\"] ⇒ ' + str(json_data['score']))\n",
        "print('json_data[\"score\"][1] ⇒ ' + str(json_data['score'][1]))\n",
        "\n",
        "total = 0\n",
        "for score in json_data['score']:\n",
        "\ttotal = total + score\n",
        "print(\"平均点:\" + str(total/5)) "
      ],
      "execution_count": null,
      "outputs": [
        {
          "output_type": "stream",
          "name": "stdout",
          "text": [
            "json_data[\"name\"] ⇒ 佐々木\n",
            "json_data[\"score\"] ⇒ [60, 70, 50, 80, 100]\n",
            "json_data[\"score\"][1] ⇒ 70\n",
            "平均点:72.0\n"
          ]
        }
      ]
    },
    {
      "cell_type": "markdown",
      "metadata": {
        "id": "nTF56NWYbLlr"
      },
      "source": [
        "#Pythonの関数\n",
        "Pythonは処理をまとめるために関数を利用することができます。"
      ]
    },
    {
      "cell_type": "code",
      "metadata": {
        "colab": {
          "base_uri": "https://localhost:8080/"
        },
        "id": "lRX331E4bSGO",
        "outputId": "8c8415d2-9a8a-4c1c-88b5-ba54aea3d6b0"
      },
      "source": [
        "def func(x):\n",
        "    answer = x ** 2 + 2 * x + 3\n",
        "    return answer\n",
        "#ここでインデント（字下げ）を戻すことで関数（まとまった手順）が終わったという意味ことになります。\n",
        "y = func(2) #ここで上に書いた関数funcを呼び出しています。\n",
        "print( y )\n",
        "y = func(4)\n",
        "print( y )"
      ],
      "execution_count": null,
      "outputs": [
        {
          "output_type": "stream",
          "name": "stdout",
          "text": [
            "11\n",
            "27\n"
          ]
        }
      ]
    },
    {
      "cell_type": "markdown",
      "metadata": {
        "id": "aC_igSUC7DXV"
      },
      "source": [
        "関数から関数を呼び出すこともできます。"
      ]
    },
    {
      "cell_type": "code",
      "metadata": {
        "colab": {
          "base_uri": "https://localhost:8080/"
        },
        "id": "PRMOhQVdbX8F",
        "outputId": "691713df-b201-4339-d692-60225ecf9518"
      },
      "source": [
        "def func1(x):\n",
        "    answer = x ** 2 + 2 * x + 3\n",
        "    return answer\n",
        "\n",
        "def func2(n):\n",
        "\tt = 0\n",
        "\tfor i in range(n):\n",
        "\t\ty = func1(i)\n",
        "\t\tt = t + y\n",
        "\treturn t\n",
        "\n",
        "a = func2(5)\n",
        "print( a )"
      ],
      "execution_count": null,
      "outputs": [
        {
          "output_type": "stream",
          "name": "stdout",
          "text": [
            "65\n"
          ]
        }
      ]
    },
    {
      "cell_type": "markdown",
      "metadata": {
        "id": "RM799ZQR7GvF"
      },
      "source": [
        "グローバル変数とローカル変数にはスコープの違いがあります。"
      ]
    },
    {
      "cell_type": "code",
      "metadata": {
        "colab": {
          "base_uri": "https://localhost:8080/"
        },
        "id": "6VT3BEkrbZy3",
        "outputId": "b7e6b12d-60fd-4042-fe61-51e466f9cbb0"
      },
      "source": [
        "#引数にはなにも指定しません。\n",
        "def func():\n",
        "    answer = x ** 2 + 2 * x + 3\n",
        "    return answer\n",
        "\n",
        "x = 2\n",
        "#ここでxに代入するとグローバル変数として扱われます。\n",
        "y = func()\n",
        "print( y )\n",
        "\n",
        "x = 4\n",
        "y = func()\n",
        "print( y )"
      ],
      "execution_count": null,
      "outputs": [
        {
          "output_type": "stream",
          "name": "stdout",
          "text": [
            "11\n",
            "27\n"
          ]
        }
      ]
    },
    {
      "cell_type": "markdown",
      "metadata": {
        "id": "qK2aYgupbmrY"
      },
      "source": [
        "##変数のスコープ\n",
        "スコープが異なれば同じ変数名でも異なる値を保持することになります。"
      ]
    },
    {
      "cell_type": "code",
      "metadata": {
        "colab": {
          "base_uri": "https://localhost:8080/"
        },
        "id": "LRJ-PxsIbfFK",
        "outputId": "60f6dbe8-ab12-4715-bc1a-baa772542ecf"
      },
      "source": [
        "#スコープが異なれば同じ変数名が利用できます。\n",
        "def func(x):\n",
        "    answer = x ** 2 + 2 * x + 3\n",
        "    x = -1\n",
        "    #func内で利用可能なxは他の部分で利用されるxとは異なる変数となります。\n",
        "    return answer\n",
        "\n",
        "x = 2\n",
        "#ここでxに代入するとグローバル変数として扱われます。\n",
        "y = func( x )\n",
        "print( y )\n",
        "print( x ) \n",
        "\n",
        "x = 4\n",
        "y = func( x )\n",
        "print( y )"
      ],
      "execution_count": null,
      "outputs": [
        {
          "output_type": "stream",
          "name": "stdout",
          "text": [
            "11\n",
            "2\n",
            "27\n"
          ]
        }
      ]
    },
    {
      "cell_type": "markdown",
      "metadata": {
        "id": "MIjnzg07btGt"
      },
      "source": [
        "##データ構造と関数\n",
        "制御構造とデータ構造、関数を使ったプログラムサンプルです。"
      ]
    },
    {
      "cell_type": "code",
      "metadata": {
        "colab": {
          "base_uri": "https://localhost:8080/"
        },
        "id": "Xzg78EVjbxbc",
        "outputId": "c040bcb7-c258-4497-db51-a21dbdb88d8d"
      },
      "source": [
        "def evaluation(score):\n",
        "    if score < 0 or score > 100:\n",
        "        mes = \"error\"\n",
        "    elif score >= 80:\n",
        "        mes = \"excelent\"\n",
        "    elif score >= 60:\n",
        "        mes = \"good\"\n",
        "    elif score >= 40:\n",
        "        mes = \"passing\"\n",
        "    else:\n",
        "        mes = \"failing\"\n",
        "    return mes\n",
        "\n",
        "subjects = [\"Mathematics\" ,\"English\",\"Social\",\"Japanese\", \\\n",
        "\t\t\t\"Scientific\"]\n",
        "scores = []\n",
        "for s in subjects:\n",
        "    x = input( s + \" = \" )\n",
        "    y = int ( x )\n",
        "    scores.append( y )\n",
        "for n in range(5):\n",
        "    mes = evaluation(scores[n])\n",
        "    print ( subjects[n] + \":\" , scores[n], mes )"
      ],
      "execution_count": null,
      "outputs": [
        {
          "output_type": "stream",
          "name": "stdout",
          "text": [
            "Mathematics = 50\n",
            "English = 60\n",
            "Social = 70\n",
            "Japanese = 80\n",
            "Scientific = 90\n",
            "Mathematics: 50 passing\n",
            "English: 60 good\n",
            "Social: 70 good\n",
            "Japanese: 80 excelent\n",
            "Scientific: 90 excelent\n"
          ]
        }
      ]
    },
    {
      "cell_type": "markdown",
      "metadata": {
        "id": "YHQKvHcIb75F"
      },
      "source": [
        "#Pythonのモジュール\n",
        "Pythonでは様々な機能を持ったモジュールが用意されています。\n",
        "<br>\n",
        "これらを利用するためにはimport文を利用してモジュールを読み込む必要があります。"
      ]
    },
    {
      "cell_type": "code",
      "metadata": {
        "colab": {
          "base_uri": "https://localhost:8080/"
        },
        "id": "dQTuiNeDcBGY",
        "outputId": "21ee48f4-8e84-4dda-bf8d-98e88641b274"
      },
      "source": [
        "#モジュールを利用する場合import文で読み込みを行う\n",
        "import random\n",
        "import time\n",
        "import math\n",
        "\n",
        "for i in range(3):\n",
        "    #ループの回数を表示する\n",
        "    print( i )\n",
        "    #現在時刻を取得し表示する\n",
        "    print( time.ctime() )\n",
        "    #カウンターの平方根を求め表示する\n",
        "    print( math.sqrt(i) )\n",
        "    #カウンターの平方根を求め表示する\n",
        "    print( math.pow(i , 1 / 3))\n",
        "    #1~3の乱数を生成する\n",
        "    a = random.randint(1,3)\n",
        "    print( a )\n",
        "    #sleepは引数で指定された時間\n",
        "    time.sleep( 1 )\n",
        "    pass\n",
        "\n",
        "else:\n",
        "    print( \"end\" )"
      ],
      "execution_count": null,
      "outputs": [
        {
          "output_type": "stream",
          "name": "stdout",
          "text": [
            "0\n",
            "Thu Sep 23 06:55:57 2021\n",
            "0.0\n",
            "0.0\n",
            "3\n",
            "1\n",
            "Thu Sep 23 06:55:58 2021\n",
            "1.0\n",
            "1.0\n",
            "2\n",
            "2\n",
            "Thu Sep 23 06:55:59 2021\n",
            "1.4142135623730951\n",
            "1.2599210498948732\n",
            "2\n",
            "end\n"
          ]
        }
      ]
    },
    {
      "cell_type": "markdown",
      "metadata": {
        "id": "Rt2TW0XvdIZ6"
      },
      "source": [
        "##図形描画\n",
        "Pythonでは図形描画やイメージファイルの加工を行うライブラリが用意されています。<br>ここではPillowを使った図形描画とイメージ加工の方法を確認します。"
      ]
    },
    {
      "cell_type": "code",
      "metadata": {
        "id": "8ALEE5XdcMSo"
      },
      "source": [
        "#Pillowライブラリを利用する場合は名称PILを使う宣言が必要で、\n",
        "#import文で描画に必要なライブラリを指定する。\n",
        "from PIL import Image\n",
        "\n",
        "im = Image.new('RGB', (500, 300)) #イメージを作成する。'RGB'は赤・緑・青の色指定を意味する\n",
        "im = Image.new('RGB', (500, 300),( 255, 0, 0)) #イメージを作成する。'RGB'は赤・緑・青の色指定を意味する\n",
        "\n",
        "im.show() #イメージを表示する\n",
        "#Colaboratoryでは表示されません。"
      ],
      "execution_count": null,
      "outputs": []
    },
    {
      "cell_type": "code",
      "metadata": {
        "id": "4j_PlrTTcyep"
      },
      "source": [
        "#Pillowライブラリを利用する場合は名称PILを使う宣言が必要で、\n",
        "#import文で描画に必要なライブラリを指定する。\n",
        "from IPython.display import display\n",
        "from PIL import Image\n",
        "\n",
        "im = Image.new('RGB', (500, 300),( 255, 255, 0)) #イメージを作成する。'RGB'は赤・緑・青の色指定を意味する\n",
        "\n",
        "#im.show() #PC上でイメージを表示する\n",
        "display(im)"
      ],
      "execution_count": null,
      "outputs": []
    },
    {
      "cell_type": "code",
      "metadata": {
        "id": "jpB6eR59dLV0"
      },
      "source": [
        "from IPython.display import display\n",
        "from PIL import Image,ImageDraw #ImageDrawのインポートを追加する\n",
        "\n",
        "im = Image.new('RGB', (500, 300))\n",
        "draw = ImageDraw.Draw(im) #描画用のオブジェクトを生成する\n",
        "\n",
        "draw.line((50,50,150,50)) #x,y座標を指定して線を引く \n",
        "draw.line((50,100,150,150))\n",
        "\n",
        "display(im)"
      ],
      "execution_count": null,
      "outputs": []
    },
    {
      "cell_type": "code",
      "metadata": {
        "id": "_75hlcnTdXCB"
      },
      "source": [
        "from IPython.display import display\n",
        "from PIL import Image,ImageDraw\n",
        "\n",
        "im = Image.new('RGB', (500, 300),(255,255,255))\n",
        "draw = ImageDraw.Draw(im)\n",
        "draw.line((50,50,150,50),fill=(255,0,0)) #引数に色指定を追加する\n",
        "draw.line((50,100,150,150),fill=(255,0,0), width = 4)\n",
        "  #引数に線の幅を指定する\n",
        "draw.ellipse((150,150,300,300),fill=(0,255,0))\n",
        "\n",
        "display(im)"
      ],
      "execution_count": null,
      "outputs": []
    },
    {
      "cell_type": "code",
      "metadata": {
        "id": "50DeN8bYdg_R"
      },
      "source": [
        "from IPython.display import display\n",
        "from PIL import Image,ImageDraw\n",
        "\n",
        "im = Image.new('RGB', (500, 500),(255,240,230))\n",
        "#背景をクリーム色で描画用のエリアを作成します。\n",
        "\n",
        "draw = ImageDraw.Draw(im)\n",
        "black=( 0 , 0 , 0 )\n",
        "draw.ellipse((100,100,400,400),fill=(230,150,110))\n",
        "draw.ellipse((190,155,220,210),fill=black)\n",
        "draw.ellipse((280,155,310,210),fill=black)\n",
        "draw.ellipse((200,210,300,290),fill=(230,50,12))\n",
        "draw.rectangle((250,230,270,250),fill=(255,255,255))\n",
        "\n",
        "draw.arc((150,140,260,250),-120,-60,fill=black,width=5)\n",
        "draw.arc((240,140,350,250),-120,-60,fill=black,width=5)\n",
        "\n",
        "draw.chord((190,240,310,350),start=-10,end=190,fill=(210,80,82))\n",
        "\n",
        "display(im)\n"
      ],
      "execution_count": null,
      "outputs": []
    },
    {
      "cell_type": "markdown",
      "metadata": {
        "id": "pBtfM_Gbevc7"
      },
      "source": [
        "##イメージファイル\n",
        "Pillowを使ったイメージファイルの加工方法を確認します。"
      ]
    },
    {
      "cell_type": "markdown",
      "metadata": {
        "id": "Pt6mW0shgaY-"
      },
      "source": [
        "####ファイルのアップロード（環境リサイクル時に削除されます）"
      ]
    },
    {
      "cell_type": "code",
      "metadata": {
        "id": "PfpG2fu-gRne"
      },
      "source": [
        "from google.colab import files\n",
        "files.upload()"
      ],
      "execution_count": null,
      "outputs": []
    },
    {
      "cell_type": "markdown",
      "metadata": {
        "id": "Xpap8-wDghNR"
      },
      "source": [
        "####アップロードしたファイルの表示"
      ]
    },
    {
      "cell_type": "code",
      "metadata": {
        "id": "Tj2POjxdexgV"
      },
      "source": [
        "from IPython.display import display\n",
        "from PIL import Image\n",
        "\n",
        "img = Image.open(\"imagesample/sample01.jpg\").resize((180,150))  # 画像の読み込み\n",
        "\n",
        "display(img)  # 画像表示"
      ],
      "execution_count": null,
      "outputs": []
    },
    {
      "cell_type": "code",
      "metadata": {
        "id": "vICLQaN3fsdy"
      },
      "source": [
        "from IPython.display import display\n",
        "from PIL import Image,ImageDraw,ImageFilter\n",
        "\n",
        "img1 = Image.open(\"imagesample/sample01.jpg\").resize((400,300))\n",
        "img2 = Image.open(\"imagesample/sample02.jpg\").resize((400,300))\n",
        "img3 = Image.open(\"imagesample/sample02.jpg\").resize((80,60))\n",
        "# 画像の読み込み\n",
        "display(img1)\n",
        "display(img2)\n",
        "\n",
        "img4 = Image.new(\"RGB\", img1.size)\n",
        "img4.paste(img3)\n",
        "display(img4)\n",
        "\n",
        "mask = Image.new(\"L\", img1.size, 128)\n",
        "im = Image.composite(img1, img4, mask)\n",
        "im = Image.blend(img1, img4, 0.5)\n",
        "display(im)\n",
        "\n",
        "mask = Image.new(\"L\", img1.size, 0)\n",
        "draw = ImageDraw.Draw(mask)\n",
        "draw.ellipse((0, 0, 79, 59), fill=255)\n",
        "im = Image.composite(img4, img1, mask)\n",
        "display(im)\n",
        "\n",
        "mask = Image.new(\"L\", img1.size, 0)\n",
        "draw = ImageDraw.Draw(mask)\n",
        "draw.ellipse((0, 0, 79, 59), fill=255)\n",
        "mask_blur = mask.filter(ImageFilter.GaussianBlur(3))\n",
        "im = Image.composite(img4, img1, mask_blur)\n",
        "display(im)\n",
        "# 画像表示"
      ],
      "execution_count": null,
      "outputs": []
    },
    {
      "cell_type": "markdown",
      "metadata": {
        "id": "E5FexHneg8yS"
      },
      "source": [
        "#クラス\n"
      ]
    },
    {
      "cell_type": "markdown",
      "metadata": {
        "id": "4tBzM_sSGEPT"
      },
      "source": [
        "オブジェクト指向の基礎であるクラスの作成方法を確認します。"
      ]
    },
    {
      "cell_type": "markdown",
      "metadata": {
        "id": "Nko6y7dkGEnw"
      },
      "source": [
        "##クラス基礎\n",
        "プロパティ（属性値）のみのクラスです。"
      ]
    },
    {
      "cell_type": "code",
      "metadata": {
        "colab": {
          "base_uri": "https://localhost:8080/"
        },
        "id": "E6yrG3kshIv1",
        "outputId": "d7b147aa-befb-4dc9-8d05-49bca33c38d9"
      },
      "source": [
        "class Person:\n",
        "    pass #なんの命令もない空クラス（型）\n",
        "    \n",
        "#実体の作成　１つ目　変数a、二つ目　変数b\n",
        "a = Person()\n",
        "b = Person()\n",
        "#１つ目の実体のxという変数に10を代入\n",
        "a.x = 10\n",
        "#２つ目の実体のxという変数に20を代入\n",
        "b.x = 20\n",
        "#１つ目aと二つ目bの実体のxという変数を出力 \n",
        "print(\"a.x = \", a.x)\n",
        "print(\"b.x = \", b.x)"
      ],
      "execution_count": null,
      "outputs": [
        {
          "output_type": "stream",
          "name": "stdout",
          "text": [
            "a.x =  10\n",
            "b.x =  20\n"
          ]
        }
      ]
    },
    {
      "cell_type": "code",
      "metadata": {
        "colab": {
          "base_uri": "https://localhost:8080/"
        },
        "id": "e_uBbe0ehKB8",
        "outputId": "496dd086-f891-4248-ae6e-b4bc8966d7d8"
      },
      "source": [
        "class Person:\n",
        "    pass\n",
        "\n",
        "a = Person()\n",
        "b = Person()\n",
        "#クラス名の後に変数を記述するとクラス変数となる。\n",
        "Person.x = 10\n",
        "#また実体の__class__を利用するとクラス変数となる。\n",
        "b.__class__.x = 20\n",
        "#凡例class-1と同じ書き方ですが、それぞれクラス変数と解釈されると\n",
        "#実体１と実体２で共通の値を参照していることがわかります。\n",
        "print(\"a.x = \", a.x)\n",
        "print(\"b.x = \", b.x)"
      ],
      "execution_count": null,
      "outputs": [
        {
          "output_type": "stream",
          "name": "stdout",
          "text": [
            "a.x =  20\n",
            "b.x =  20\n"
          ]
        }
      ]
    },
    {
      "cell_type": "markdown",
      "metadata": {
        "id": "ABN683NLGKnk"
      },
      "source": [
        "##クラスとメソッド\n",
        "プロパティとメソッド（手続き）をセットにした構造です。"
      ]
    },
    {
      "cell_type": "code",
      "metadata": {
        "colab": {
          "base_uri": "https://localhost:8080/"
        },
        "id": "1QVe64b5hOEy",
        "outputId": "4253fe97-9dbb-417a-bb98-40f0b996a0dc"
      },
      "source": [
        "class Student: \n",
        "    #数学の点数を管理する処理\n",
        "    def set_m(self,m):\n",
        "        #第二引数は17行目以降のset_mの引数となり\n",
        "        #実体のデータmとして管理・操作できるように保存\n",
        "        self.m = m\n",
        "        if m >= 50:\n",
        "            #合否を実体のデータgradingとして設定\n",
        "            self.grading = \"good\"\n",
        "        else:\n",
        "            self.grading = \"bad\"\n",
        "\n",
        "a = Student()\n",
        "b = Student()\n",
        "c = Student()\n",
        "#Studentの中身を知らなくてもset_mが何をするのか知っていればOK\n",
        "a.set_m(75)\n",
        "b.set_m(48)\n",
        "c.set_m(95)\n",
        "print(\"a \", a.m ,a.grading)\n",
        "print(\"b \", b.m ,b.grading)\n",
        "print(\"c \", c.m ,c.grading)"
      ],
      "execution_count": null,
      "outputs": [
        {
          "output_type": "stream",
          "name": "stdout",
          "text": [
            "a  75 good\n",
            "b  48 bad\n",
            "c  95 good\n"
          ]
        }
      ]
    },
    {
      "cell_type": "markdown",
      "metadata": {
        "id": "kWC7jY2AGS3u"
      },
      "source": [
        "##クラスと継承\n",
        "オブジェクト指向の特徴であるクラスの継承（コードの再利用）のサンプルです。"
      ]
    },
    {
      "cell_type": "code",
      "metadata": {
        "colab": {
          "base_uri": "https://localhost:8080/"
        },
        "id": "thapoxN2hSCK",
        "outputId": "76949fbb-fa41-4b7a-c97d-0b748b8a8d17"
      },
      "source": [
        "class Student: \n",
        "    def set_m(self,m):\n",
        "        self.m = m\n",
        "        if m >= 50:\n",
        "            self.grading = \"good\"\n",
        "        else:\n",
        "            self.grading = \"bad\"\n",
        "#クラス宣言の括弧の中に利用したい機能のスーパークラスを記載します。\n",
        "class SubStudent(Student): \n",
        "    def set_e(self,e):\n",
        "        self.e = e\n",
        "        if e >= 50:\n",
        "            #合否を実体のデータe_gradingとして設定\n",
        "            self.e_grading = \"good\"\n",
        "        else:\n",
        "            self.e_grading = \"bad\"\n",
        "a = SubStudent()\n",
        "a.set_m(80)\n",
        "a.set_e(30)\n",
        "print(\"a Mathematics\", a.m ,a.grading)\n",
        "print(\"a English\", a.e ,a.e_grading)"
      ],
      "execution_count": null,
      "outputs": [
        {
          "output_type": "stream",
          "name": "stdout",
          "text": [
            "a Mathematics 80 good\n",
            "a English 30 bad\n"
          ]
        }
      ]
    },
    {
      "cell_type": "markdown",
      "metadata": {
        "id": "ctCA3pFdDf0X"
      },
      "source": [
        "#練習問題解答\n"
      ]
    },
    {
      "cell_type": "markdown",
      "metadata": {
        "id": "omvlGIKsFZg4"
      },
      "source": [
        "####practice1"
      ]
    },
    {
      "cell_type": "code",
      "metadata": {
        "id": "Sxo-AnoLDklO",
        "colab": {
          "base_uri": "https://localhost:8080/"
        },
        "outputId": "453e7c68-bcc3-4de5-dd5c-25b65ad9eabe"
      },
      "source": [
        "x = 3\n",
        "y = 4\n",
        "print ( (x * y) /2)"
      ],
      "execution_count": null,
      "outputs": [
        {
          "output_type": "stream",
          "name": "stdout",
          "text": [
            "6.0\n"
          ]
        }
      ]
    },
    {
      "cell_type": "markdown",
      "metadata": {
        "id": "HGlQFs9sFdvr"
      },
      "source": [
        "####practice2"
      ]
    },
    {
      "cell_type": "code",
      "metadata": {
        "id": "fhYLbc3yDvOH",
        "colab": {
          "base_uri": "https://localhost:8080/"
        },
        "outputId": "3567bf0a-9239-4543-cc19-aae42f151383"
      },
      "source": [
        "x = 60\n",
        "if x >= 50:\n",
        "    print ( \" goukaku \" ) \n",
        "else:\n",
        "    print ( \" fugoukaku \" )"
      ],
      "execution_count": null,
      "outputs": [
        {
          "output_type": "stream",
          "name": "stdout",
          "text": [
            " goukaku \n"
          ]
        }
      ]
    },
    {
      "cell_type": "markdown",
      "metadata": {
        "id": "Rh42NTCqFgye"
      },
      "source": [
        "####practice3"
      ]
    },
    {
      "cell_type": "code",
      "metadata": {
        "id": "oXqObtUPD1i3",
        "colab": {
          "base_uri": "https://localhost:8080/"
        },
        "outputId": "dc3ada92-0010-47ae-b0d8-e31a7b99bed3"
      },
      "source": [
        "x = 1 \n",
        "y = 2\n",
        "#それぞれ大小等しいとなる値は何でも構いません\n",
        "if x > y:\n",
        "\tprint(\"x is large.\")\n",
        "elif x < y:\n",
        "\tprint(\"y is large.\")\n",
        "else:\n",
        "\tprint(\"x and y are equal.\")"
      ],
      "execution_count": null,
      "outputs": [
        {
          "output_type": "stream",
          "name": "stdout",
          "text": [
            "y is large.\n"
          ]
        }
      ]
    },
    {
      "cell_type": "markdown",
      "metadata": {
        "id": "HE8iQETLFj0l"
      },
      "source": [
        "####practice4"
      ]
    },
    {
      "cell_type": "code",
      "metadata": {
        "id": "A1qMDW9oD1qO",
        "colab": {
          "base_uri": "https://localhost:8080/"
        },
        "outputId": "df5ec4f5-2ad7-4ef2-f034-5c176f4ef385"
      },
      "source": [
        "x = 60\n",
        "if 100 >= x >= 80:\n",
        "    print ( \"A\" )\n",
        "elif x >= 60:\n",
        "    print ( \"B\" )\n",
        "elif x >= 40:\n",
        "    print ( \"C\" )\n",
        "elif x >= 0:\n",
        "    print ( \"D\" )\n",
        "else:\n",
        "    print ( \"error\" )"
      ],
      "execution_count": null,
      "outputs": [
        {
          "output_type": "stream",
          "name": "stdout",
          "text": [
            "B\n"
          ]
        }
      ]
    },
    {
      "cell_type": "markdown",
      "metadata": {
        "id": "j7fmNiPeFmMP"
      },
      "source": [
        "####practice5"
      ]
    },
    {
      "cell_type": "code",
      "metadata": {
        "id": "OgpzpsAeD9Co",
        "colab": {
          "base_uri": "https://localhost:8080/"
        },
        "outputId": "44ac1089-989d-48bd-daf1-24e4f5d1d406"
      },
      "source": [
        "x = input ( \"math = \" )\n",
        "m = int ( x ) \n",
        "x = input ( \"english = \" )\n",
        "e = int ( x )\n",
        "z = input ( \"social = \" )\n",
        "s = int ( z )\n",
        "print ( (m + e + s) / 3 )"
      ],
      "execution_count": null,
      "outputs": [
        {
          "output_type": "stream",
          "name": "stdout",
          "text": [
            "math = 50\n",
            "english = 60\n",
            "social = 70\n",
            "60.0\n"
          ]
        }
      ]
    },
    {
      "cell_type": "markdown",
      "metadata": {
        "id": "rBsax4VhFobE"
      },
      "source": [
        "####practice6"
      ]
    },
    {
      "cell_type": "code",
      "metadata": {
        "id": "bjCwIdXoEAlB",
        "colab": {
          "base_uri": "https://localhost:8080/"
        },
        "outputId": "b7bc4a43-30c7-435c-9f19-4aa3c51851dc"
      },
      "source": [
        "for x in range(1):\n",
        "    print( \"wan\" )\n",
        "    print( \"nyan\" )"
      ],
      "execution_count": null,
      "outputs": [
        {
          "output_type": "stream",
          "name": "stdout",
          "text": [
            "wan\n",
            "nyan\n"
          ]
        }
      ]
    },
    {
      "cell_type": "markdown",
      "metadata": {
        "id": "DQyx_oMQFqsy"
      },
      "source": [
        "####practice7"
      ]
    },
    {
      "cell_type": "code",
      "metadata": {
        "id": "30VOUEtpEE9R",
        "colab": {
          "base_uri": "https://localhost:8080/"
        },
        "outputId": "629dc9cb-f4ca-4f21-d0a3-f9e3b8af84d3"
      },
      "source": [
        "sum = 0\n",
        "for x in range(1,1001):\n",
        "    sum = sum + x\n",
        "print ( sum ) \n",
        "\n",
        "sum = 0\n",
        "for x in range(1, 11):\n",
        "    sum = sum + 1 / 2 ** x\n",
        "print ( sum )"
      ],
      "execution_count": null,
      "outputs": [
        {
          "output_type": "stream",
          "name": "stdout",
          "text": [
            "500500\n",
            "0.9990234375\n"
          ]
        }
      ]
    },
    {
      "cell_type": "markdown",
      "metadata": {
        "id": "wB5a8kFQFsmd"
      },
      "source": [
        "####practice8"
      ]
    },
    {
      "cell_type": "code",
      "metadata": {
        "id": "EIX6XNurEMjF",
        "colab": {
          "base_uri": "https://localhost:8080/"
        },
        "outputId": "8c0812bb-9b0d-4b39-fbd6-db38a5f66e94"
      },
      "source": [
        "y = 0\n",
        "for n in range(1,6):\n",
        "    x = input ( \"subject\" + str(n) + \" = \" )\n",
        "    y = y + int( x )\n",
        "print( y / 5 )"
      ],
      "execution_count": null,
      "outputs": [
        {
          "output_type": "stream",
          "name": "stdout",
          "text": [
            "subject1 = 10\n",
            "subject2 = 20\n",
            "subject3 = 30\n",
            "subject4 = 40\n",
            "subject5 = 50\n",
            "30.0\n"
          ]
        }
      ]
    },
    {
      "cell_type": "markdown",
      "metadata": {
        "id": "9SsJq3vsFxpu"
      },
      "source": [
        "####practice9"
      ]
    },
    {
      "cell_type": "code",
      "metadata": {
        "id": "xI0YYY4pEXE6",
        "colab": {
          "base_uri": "https://localhost:8080/"
        },
        "outputId": "e5fc8af2-1621-45c7-f1e5-72026abe3c3d"
      },
      "source": [
        "subjects = [\"Mathematics\" ,\"English\",\"Social\",\"Japanese\",\"Scientific\"]\n",
        "scores = []\n",
        "for s in subjects:\n",
        "    x = input( s + \" = \" )\n",
        "    y = int ( x )\n",
        "    if y > 100 or y < 0 :\n",
        "        y = -1\n",
        "        print ( \"error\" )\n",
        "    scores.append( y )\n",
        "\n",
        "for n in range(0,5):\n",
        "    if scores[n] == -1:\n",
        "        mes = \"error\"\n",
        "    elif scores[n] >= 80:\n",
        "        mes = \"excelent\"\n",
        "    elif scores[n] >= 60:\n",
        "        mes = \"good\"\n",
        "    elif scores[n] >= 40:\n",
        "        mes = \"passing\"\n",
        "    else:\n",
        "        mes = \"failing\"\n",
        "    print ( subjects[n] + \":\" , scores[n], mes )"
      ],
      "execution_count": null,
      "outputs": [
        {
          "output_type": "stream",
          "name": "stdout",
          "text": [
            "Mathematics = 30\n",
            "English = 40\n",
            "Social = 50\n",
            "Japanese = 60\n",
            "Scientific = 70\n",
            "Mathematics: 30 failing\n",
            "English: 40 passing\n",
            "Social: 50 passing\n",
            "Japanese: 60 good\n",
            "Scientific: 70 good\n"
          ]
        }
      ]
    },
    {
      "cell_type": "markdown",
      "metadata": {
        "id": "LGPZ1S2eFvdo"
      },
      "source": [
        "####practicd10"
      ]
    },
    {
      "cell_type": "code",
      "metadata": {
        "id": "uL1fdYSnEbM4",
        "colab": {
          "base_uri": "https://localhost:8080/"
        },
        "outputId": "8d2345cf-f89b-41d7-d62a-f84950c1c228"
      },
      "source": [
        "students_scores = []\n",
        "#配列の準備\n",
        "students_scores.append([60, 80]) #Aさんのデータを追加\n",
        "students_scores.append([70, 90]) #Bさんのデータを追加\n",
        "students_scores.append([80, 100]) #Cさんのデータを追加\n",
        "students_scores.append([50, 70]) #Dさんのデータを追加\n",
        "students_scores.append([60, 60]) #Eさんのデータを追加\n",
        "\n",
        "m = 0\n",
        "e = 0\n",
        "\n",
        "for v in students_scores:\n",
        "    m = m + v[0]\n",
        "    e = e + v[1]\n",
        "\n",
        "print(\"数学の平均点\", m / len(students_scores))\n",
        "print(\"英語の平均点\", e / len(students_scores))"
      ],
      "execution_count": null,
      "outputs": [
        {
          "output_type": "stream",
          "name": "stdout",
          "text": [
            "数学の平均点 64.0\n",
            "英語の平均点 80.0\n"
          ]
        }
      ]
    },
    {
      "cell_type": "markdown",
      "metadata": {
        "id": "8qiOUNm_F32U"
      },
      "source": [
        "####practice11"
      ]
    },
    {
      "cell_type": "code",
      "metadata": {
        "id": "vBFugHNkEha_",
        "colab": {
          "base_uri": "https://localhost:8080/"
        },
        "outputId": "7d6f1838-cc80-4744-a8ad-502671677bf0"
      },
      "source": [
        "subjects = [\"Mathematics\" ,\"English\",\"Social\",\"Japanese\",\"Scientific\"]\n",
        "scores = []\n",
        "for n in range(3):\n",
        "    print(n + 1, \"人目の入力\")\n",
        "    scores.append([])\n",
        "    for s in subjects:\n",
        "        x = input( s + \" = \" )\n",
        "        y = int ( x )\n",
        "        if y > 100 or y < 0 :\n",
        "            y = -1\n",
        "            print ( \"error\" )\n",
        "        scores[n].append( y )\n",
        "s_l = len(subjects) #科目数の取得\n",
        "\n",
        "for m in range(s_l):\n",
        "    sum = 0\n",
        "    m_l = len(scores) #人数の取得\n",
        "    for n in range(m_l):\n",
        "        sum = sum + scores[n][m]\n",
        "    print(subjects[m] , \"の平均点\", sum / 3)534"
      ],
      "execution_count": null,
      "outputs": [
        {
          "output_type": "stream",
          "name": "stdout",
          "text": [
            "1 人目の入力\n",
            "Mathematics = 20\n",
            "English = 30\n",
            "Social = 40\n",
            "Japanese = 60\n",
            "Scientific = 70\n",
            "2 人目の入力\n",
            "Mathematics = 10\n",
            "English = 20\n",
            "Social = 0\n",
            "Japanese = 0\n",
            "Scientific = 50\n",
            "3 人目の入力\n",
            "Mathematics = 50\n",
            "English = 60\n",
            "Social = 70\n",
            "Japanese = 80\n",
            "Scientific = 90\n",
            "Mathematics の平均点 26.666666666666668\n",
            "English の平均点 36.666666666666664\n",
            "Social の平均点 36.666666666666664\n",
            "Japanese の平均点 46.666666666666664\n",
            "Scientific の平均点 70.0\n"
          ]
        }
      ]
    },
    {
      "cell_type": "markdown",
      "metadata": {
        "id": "xLZg56qzF54I"
      },
      "source": [
        "####practice12"
      ]
    },
    {
      "cell_type": "code",
      "metadata": {
        "id": "oVxo8J6gEryb",
        "colab": {
          "base_uri": "https://localhost:8080/"
        },
        "outputId": "a9c7b71a-dc21-4ee0-d2b5-1e7080bdfee5"
      },
      "source": [
        "def func1(n):\n",
        "    a = (n - 65)**2\n",
        "    return a\n",
        "\n",
        "def func2():\n",
        "    t = 0\n",
        "    for i in range(5):\n",
        "        x = input()\n",
        "        y = int(x)\n",
        "        t = t + func1(y)\n",
        "    return t\n",
        "\n",
        "z = func2()\n",
        "print( z / 5 )"
      ],
      "execution_count": null,
      "outputs": [
        {
          "output_type": "stream",
          "name": "stdout",
          "text": [
            "50\n",
            "80\n",
            "85\n",
            "70\n",
            "40\n",
            "300.0\n"
          ]
        }
      ]
    },
    {
      "cell_type": "markdown",
      "metadata": {
        "id": "vY5Tr1g-F8gy"
      },
      "source": [
        "####practice13"
      ]
    },
    {
      "cell_type": "code",
      "metadata": {
        "id": "z4umliW1FJsa",
        "colab": {
          "base_uri": "https://localhost:8080/"
        },
        "outputId": "1207d2c8-aef4-4cc4-8000-2a2723dcf191"
      },
      "source": [
        "#グローバル変数（配列）の準備\n",
        "subjects = [\"Mathematics\" ,\"English\",\"Social\",\"Japanese\",\"Scientific\"]\n",
        "scores = []\n",
        "#関数input_dataの記述\n",
        "def input_data():\n",
        "    for n in range(3):\n",
        "        cnt = 0\n",
        "        scores.append([])\n",
        "        name = input(\"Name = \")\n",
        "        scores[n].append(name)\n",
        "        for s in subjects:\n",
        "            x = input( s + \" = \" )\n",
        "            y = int ( x )\n",
        "            if y > 100 or y < 0 :\n",
        "                y = -1\n",
        "                print ( \"error score\" )\n",
        "            else:\n",
        "                cnt = cnt + 1\n",
        "            scores[n].append( y )\n",
        "        scores[n].append(cnt)\n",
        "#関数get_averageの記述\n",
        "def get_average(m):\n",
        "    sum = 0\n",
        "    for n in range(1,6):\n",
        "        if scores[m][n] != -1:\n",
        "            sum = sum + scores[m][n]\n",
        "    return sum / scores[m][6]\n",
        "\n",
        "#プログラムはここから開始\n",
        "input_data()\n",
        "for m in range(3):\n",
        "    ave = get_average(m)\n",
        "    print(scores[m][0],\"の\",scores[m][6],\"科目の平均点\",ave)3480"
      ],
      "execution_count": null,
      "outputs": [
        {
          "output_type": "stream",
          "name": "stdout",
          "text": [
            "Name = sasaki\n",
            "Mathematics = 50\n",
            "English = 60\n",
            "Social = 70\n",
            "Japanese = 80\n",
            "Scientific = 90\n",
            "Name = hiroyuki\n",
            "Mathematics = 10\n",
            "English = 20\n",
            "Social = 0\n",
            "Japanese = 05\n",
            "Scientific = 50\n",
            "Name = naoi\n",
            "Mathematics = 10\n",
            "English = 30\n",
            "Social = 050\n",
            "Japanese = 60\n",
            "Scientific = 70\n",
            "sasaki の 5 科目の平均点 70.0\n",
            "hiroyuki の 5 科目の平均点 17.0\n",
            "naoi の 5 科目の平均点 44.0\n"
          ]
        }
      ]
    }
  ]
}