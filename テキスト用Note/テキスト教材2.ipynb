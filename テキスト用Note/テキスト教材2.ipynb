{
  "cells": [
    {
      "cell_type": "markdown",
      "metadata": {
        "id": "ZEjSqssAh1y6"
      },
      "source": [
        "#Pythonによる統計とグラフ\n",
        "\n"
      ]
    },
    {
      "cell_type": "markdown",
      "metadata": {
        "id": "A_IV96nYiN20"
      },
      "source": [
        "#グラフ"
      ]
    },
    {
      "cell_type": "code",
      "execution_count": null,
      "metadata": {
        "colab": {
          "base_uri": "https://localhost:8080/",
          "height": 265
        },
        "id": "4CchaIHqiQ9b",
        "outputId": "7065b7a6-22db-4cb9-9ea1-103010e7cc02"
      },
      "outputs": [
        {
          "data": {
            "image/png": "[encoded data removed]",
            "text/plain": [
              "<Figure size 432x288 with 1 Axes>"
            ]
          },
          "metadata": {
            "needs_background": "light"
          },
          "output_type": "display_data"
        }
      ],
      "source": [
        "import matplotlib.pyplot as plt\n",
        "\n",
        "x = [ 1, 2, 3, 4, 5, 6 ]\n",
        "data = [ 100, 50, 200, 300, 350, 500 ]\n",
        "plt.plot( x, data )\n",
        "plt.show()"
      ]
    },
    {
      "cell_type": "code",
      "execution_count": null,
      "metadata": {
        "colab": {
          "base_uri": "https://localhost:8080/",
          "height": 265
        },
        "id": "optE-eyoiaGQ",
        "outputId": "5c831350-9f72-4421-c5eb-4a138ce9bbeb"
      },
      "outputs": [
        {
          "data": {
            "image/png": "[encoded data removed]",
            "text/plain": [
              "<Figure size 432x288 with 1 Axes>"
            ]
          },
          "metadata": {
            "needs_background": "light"
          },
          "output_type": "display_data"
        }
      ],
      "source": [
        "import matplotlib.pyplot as plt\n",
        "\n",
        "x = [ 1, 2, 3, 4, 5, 6 ]\n",
        "data = [ 200, 220, 240, 220, 260, 210 ]\n",
        "\n",
        "plt.bar( x, data )\n",
        "plt.show()"
      ]
    },
    {
      "cell_type": "code",
      "execution_count": null,
      "metadata": {
        "colab": {
          "base_uri": "https://localhost:8080/",
          "height": 248
        },
        "id": "Q5UdYb04ieYg",
        "outputId": "bf3d4a3a-9a03-47c5-fc0c-a0fc88f6f096"
      },
      "outputs": [
        {
          "data": {
            "image/png": "[encoded data removed]",
            "text/plain": [
              "<Figure size 432x288 with 1 Axes>"
            ]
          },
          "metadata": {},
          "output_type": "display_data"
        }
      ],
      "source": [
        "import matplotlib.pyplot as plt\n",
        "\n",
        "data = [ 100, 200, 300, 400, 500, 600 ]\n",
        "plt.pie( data )\n",
        "#pieを使ってデータを指定します。\n",
        "plt.show()"
      ]
    },
    {
      "cell_type": "code",
      "execution_count": 1,
      "metadata": {
        "colab": {
          "base_uri": "https://localhost:8080/"
        },
        "id": "t7huvWEnizeH",
        "outputId": "3c523d56-b08c-49aa-d284-ccdda6544e60"
      },
      "outputs": [
        {
          "name": "stdout",
          "output_type": "stream",
          "text": [
            "Requirement already satisfied: japanize-matplotlib in c:\\users\\user\\appdata\\local\\programs\\python\\python39\\lib\\site-packages (1.1.3)\n",
            "Requirement already satisfied: matplotlib in c:\\users\\user\\appdata\\local\\programs\\python\\python39\\lib\\site-packages (from japanize-matplotlib) (3.4.2)\n",
            "Requirement already satisfied: cycler>=0.10 in c:\\users\\user\\appdata\\local\\programs\\python\\python39\\lib\\site-packages (from matplotlib->japanize-matplotlib) (0.10.0)\n",
            "Requirement already satisfied: pyparsing>=2.2.1 in c:\\users\\user\\appdata\\local\\programs\\python\\python39\\lib\\site-packages (from matplotlib->japanize-matplotlib) (2.4.7)\n",
            "Requirement already satisfied: numpy>=1.16 in c:\\users\\user\\appdata\\local\\programs\\python\\python39\\lib\\site-packages (from matplotlib->japanize-matplotlib) (1.21.1)\n",
            "Requirement already satisfied: kiwisolver>=1.0.1 in c:\\users\\user\\appdata\\local\\programs\\python\\python39\\lib\\site-packages (from matplotlib->japanize-matplotlib) (1.3.1)\n",
            "Requirement already satisfied: pillow>=6.2.0 in c:\\users\\user\\appdata\\local\\programs\\python\\python39\\lib\\site-packages (from matplotlib->japanize-matplotlib) (8.3.1)\n",
            "Requirement already satisfied: python-dateutil>=2.7 in c:\\users\\user\\appdata\\local\\programs\\python\\python39\\lib\\site-packages (from matplotlib->japanize-matplotlib) (2.8.2)\n",
            "Requirement already satisfied: six in c:\\users\\user\\appdata\\local\\programs\\python\\python39\\lib\\site-packages (from cycler>=0.10->matplotlib->japanize-matplotlib) (1.16.0)\n"
          ]
        },
        {
          "name": "stderr",
          "output_type": "stream",
          "text": [
            "WARNING: There was an error checking the latest version of pip.\n"
          ]
        }
      ],
      "source": [
        "!pip install japanize-matplotlib"
      ]
    },
    {
      "cell_type": "code",
      "execution_count": 2,
      "metadata": {
        "colab": {
          "base_uri": "https://localhost:8080/",
          "height": 264
        },
        "id": "VZBbFs0Fihcy",
        "outputId": "c031af7e-71f7-425f-ef16-a3d6dfaa7a59"
      },
      "outputs": [
        {
          "data": {
            "image/png": "[encoded data removed]",
            "text/plain": [
              "<Figure size 432x288 with 1 Axes>"
            ]
          },
          "metadata": {
            "needs_background": "light"
          },
          "output_type": "display_data"
        }
      ],
      "source": [
        "import matplotlib.pyplot as plt\n",
        "import japanize_matplotlib\n",
        "#日本語matplotlibを設定\n",
        "\n",
        "x = [ 1, 2, 3, 4, 5, 6 ]\n",
        "data = [ 200, 220, 240, 220, 260, 210 ]\n",
        "label = [ '西区','東区','南区','北区','豊平区','手稲区']\n",
        "#データラベルを指定することもできる\n",
        "plt.bar( x, data ,tick_label = label)\n",
        "\n",
        "plt.show()"
      ]
    },
    {
      "cell_type": "markdown",
      "metadata": {
        "id": "CAPsC9a8i_ID"
      },
      "source": [
        "#numpyによる数値計算\n"
      ]
    },
    {
      "cell_type": "code",
      "execution_count": null,
      "metadata": {
        "colab": {
          "base_uri": "https://localhost:8080/"
        },
        "id": "HNKf6u7ajOG2",
        "outputId": "3a22c636-24f9-4e0a-bbc3-525c992d281c"
      },
      "outputs": [
        {
          "name": "stdout",
          "output_type": "stream",
          "text": [
            "[1, 2, 3, 4, 5]\n",
            "[1 2 3 4 5]\n",
            "[1, 2, 3, 4, 5, 1, 2, 3, 4, 5]\n",
            "[ 2  4  6  8 10]\n",
            "[ 1  4  9 16 25]\n"
          ]
        }
      ],
      "source": [
        "import numpy as np\n",
        "\n",
        "#listの生成\n",
        "a = [ 1, 2, 3, 4, 5]\n",
        "print(a)\n",
        "#配列要素の生成\n",
        "b = np.array([ 1, 2, 3, 4, 5])\n",
        "print(b)\n",
        "\n",
        "#listの長さが2倍\n",
        "print( a * 2 )\n",
        "#配列要素の中身がそれぞれ２倍\n",
        "print( b * 2 )\n",
        "#配列要素の要素同士が乗算される\n",
        "print( b * b )"
      ]
    },
    {
      "cell_type": "code",
      "execution_count": null,
      "metadata": {
        "colab": {
          "base_uri": "https://localhost:8080/"
        },
        "id": "tqttxvvcjU5k",
        "outputId": "e3b2b4f6-5489-463e-cc3e-4479bd461dc9"
      },
      "outputs": [
        {
          "name": "stdout",
          "output_type": "stream",
          "text": [
            "[0 1 2 3 4]\n",
            "[0.  0.4 0.8 1.2 1.6]\n"
          ]
        }
      ],
      "source": [
        "import numpy as np\n",
        "\n",
        "#rangeとよく似ていますが、整数以外も生成可能\n",
        "print(np.arange(5))\n",
        "#print(np.arange(0, 2, 0.4))\n",
        "#linspaceを使うと値を等分したリストを生成可能\n",
        "#print(np.linspace(0,100,5))\n",
        "#10個の配列要素としての乱数を同時生成\n",
        "#print(np.random.rand(10))"
      ]
    },
    {
      "cell_type": "code",
      "execution_count": null,
      "metadata": {
        "colab": {
          "base_uri": "https://localhost:8080/"
        },
        "id": "3-RcG_F6jZ9c",
        "outputId": "0d0962e6-eb49-48bf-fe28-3b57de440350"
      },
      "outputs": [
        {
          "name": "stdout",
          "output_type": "stream",
          "text": [
            "[2 1 1 1 3 1 3 3 3 1]\n"
          ]
        }
      ],
      "source": [
        "import numpy as np\n",
        "\n",
        "ransu = np.random.randint(1, 4, 10)\n",
        "print(ransu)\n",
        "#3のところを確認する\n",
        "#print(ransu == 3)\n",
        "#3の数を数える\n",
        "#print(np.count_nonzero(ransu == 3))"
      ]
    },
    {
      "cell_type": "code",
      "execution_count": null,
      "metadata": {
        "colab": {
          "base_uri": "https://localhost:8080/",
          "height": 567
        },
        "id": "ksoZsxVJji_7",
        "outputId": "841e9f48-1934-45b6-a984-d76707ab23b8"
      },
      "outputs": [
        {
          "data": {
            "image/png": "[encoded data removed]",
            "text/plain": [
              "<Figure size 432x288 with 1 Axes>"
            ]
          },
          "metadata": {
            "needs_background": "light"
          },
          "output_type": "display_data"
        },
        {
          "data": {
            "image/png": "[encoded data removed]",
            "text/plain": [
              "<Figure size 432x288 with 1 Axes>"
            ]
          },
          "metadata": {
            "needs_background": "light"
          },
          "output_type": "display_data"
        }
      ],
      "source": [
        "import numpy as np # 整数をカウントするための関数呼び出し\n",
        "import matplotlib.pyplot as plt # グラフプロットの呼び出し\n",
        "\n",
        "for times in range(1,3):\n",
        "    saikoro = np.random.randint(1, 6+1, 6 ** times) # サイコロを 100 回振る\n",
        "    deme = [ ] # 出目の数を数える配列\n",
        "    for i in range(6):\n",
        "        deme.append(np.count_nonzero(saikoro==i+1)) # 数を数えて配列に追加\n",
        "    left = [1, 2, 3, 4, 5, 6] # グラフの左方向の値指定用\n",
        "    plt.cla()\n",
        "    plt.title(\"SAIKORO SIMULATION \" + str(6 ** times) + \" KAI\") \n",
        "                    # グラフのタイトル\n",
        "    plt.xlabel(\"ME\") #X 軸のラベル\n",
        "    plt.ylabel(\"KAISUU\") #Y 軸のラベル\n",
        "    plt.bar(left, deme, align=\"center\") # グラフをプロット\n",
        "    plt.draw() \n",
        "    plt.pause(2)\n",
        "\n",
        "plt.show()\n"
      ]
    },
    {
      "cell_type": "code",
      "execution_count": null,
      "metadata": {
        "colab": {
          "base_uri": "https://localhost:8080/",
          "height": 264
        },
        "id": "WS6nUx_Ojy8A",
        "outputId": "5bda0454-7325-4a46-b267-7777e551dd4e"
      },
      "outputs": [
        {
          "data": {
            "image/png": "[encoded data removed]",
            "text/plain": [
              "<Figure size 432x288 with 1 Axes>"
            ]
          },
          "metadata": {
            "needs_background": "light"
          },
          "output_type": "display_data"
        }
      ],
      "source": [
        "import numpy as np \n",
        "import matplotlib.pyplot as plt\n",
        "\n",
        "#sinカーブの描画のための-180°～180までのradian設定\n",
        "kakudo = np.linspace( -np.pi, np.pi, 361)\n",
        "x = np.linspace(-180,180,361)\n",
        "plt.plot(x, np.sin(kakudo))\n",
        "plt.show()"
      ]
    },
    {
      "cell_type": "code",
      "execution_count": null,
      "metadata": {
        "colab": {
          "base_uri": "https://localhost:8080/"
        },
        "id": "rUq2jXvhj3f-",
        "outputId": "5d422d41-e9ed-405c-deb5-ea47cb8549a1"
      },
      "outputs": [
        {
          "name": "stdout",
          "output_type": "stream",
          "text": [
            "[1.05 1.05 1.05 1.05 1.05 1.05 1.05 1.05 1.05 1.05] [ 1  2  3  4  5  6  7  8  9 10]\n",
            "[1.05       1.1025     1.157625   1.21550625 1.27628156 1.34009564\n",
            " 1.40710042 1.47745544 1.55132822 1.62889463]\n"
          ]
        }
      ],
      "source": [
        "import numpy as np\n",
        "\n",
        "a = np.full(10,1.05)\n",
        "b = np.arange(1, 11)\n",
        "c = a ** b\n",
        "print(a,b)\n",
        "print(c)"
      ]
    },
    {
      "cell_type": "markdown",
      "metadata": {
        "id": "i1cQhb4EkPku"
      },
      "source": [
        "#WebAPIによる統計データ利用\n"
      ]
    },
    {
      "cell_type": "code",
      "execution_count": null,
      "metadata": {
        "colab": {
          "base_uri": "https://localhost:8080/"
        },
        "id": "35gKUrRwkWA-",
        "outputId": "b8b8d5cc-bfc7-44af-8459-2697da9c2eef"
      },
      "outputs": [
        {
          "name": "stdout",
          "output_type": "stream",
          "text": [
            "{'help': 'https://ckan.pf-sapporo.jp/api/3/action/help_show?name=datastore_search', 'success': True, 'result': {'include_total': True, 'limit': 100, 'records_format': 'objects', 'resource_id': '710b0236-6b28-441e-8500-f5c9be2e4c4a', 'total_estimation_threshold': None, 'records': [{'_id': 1, '項目': '', '17年（2005）': '1）', '22年（2010）': '1）', '27年（2015）': '2）', '32年（2020）': '2）', '37年（2025）': '2）', '42年（2030）': '2）', '47年（2035）': '2）'}, {'_id': 2, '項目': '', '17年（2005）': '千人（％）', '22年（2010）': '千人（％）', '27年（2015）': '千人（％）', '32年（2020）': '千人（％）', '37年（2025）': '千人（％）', '42年（2030）': '千人（％）', '47年（2035）': '千人（％）'}, {'_id': 3, '項目': '総人口', '17年（2005）': '1,881（100.0）', '22年（2010）': '1,914（100.0）', '27年（2015）': '1,937（100.0）', '32年（2020）': '1,933（100.0）', '37年（2025）': '1,911（100.0）', '42年（2030）': '1,871（100.0）', '47年（2035）': '1,818（100.0）'}, {'_id': 4, '項目': '年少人口（0～14歳）', '17年（2005）': '234（ 12.4）', '22年（2010）': '224（ 11.7）', '27年（2015）': '217（ 11.2）', '32年（2020）': '205（ 10.6）', '37年（2025）': '189（ 9.9）', '42年（2030）': '171（ 9.1）', '47年（2035）': '156（\\xa08.6）'}, {'_id': 5, '項目': '生産年齢人口（15～64歳）', '17年（2005）': '1,318（ 70.1）', '22年（2010）': '1,292（ 67.5）', '27年（2015）': '1,234（ 63.7）', '32年（2020）': '1,179（ 61.0）', '37年（2025）': '1,139（ 59.6）', '42年（2030）': '1,089（ 58.2）', '47年（2035）': '1,024（ 56.3）'}, {'_id': 6, '項目': '老年人口（65歳以上）', '17年（2005）': '325（ 17.3）', '22年（2010）': '392（ 20.5）', '27年（2015）': '486（ 25.1）', '32年（2020）': '549（ 28.4）', '37年（2025）': '583（ 30.5）', '42年（2030）': '611（ 32.7）', '47年（2035）': '638（ 35.1）'}, {'_id': 7, '項目': '', '17年（2005）': '', '22年（2010）': '', '27年（2015）': '', '32年（2020）': '', '37年（2025）': '', '42年（2030）': '', '47年（2035）': ''}, {'_id': 8, '項目': '注：1）国勢調査人口による。総人口には年齢不詳も含む。2）推計値である。', '17年（2005）': '', '22年（2010）': '', '27年（2015）': '', '32年（2020）': '', '37年（2025）': '', '42年（2030）': '', '47年（2035）': ''}, {'_id': 9, '項目': '＜資料＞総務省統計局「国勢調査」、市長政策室政策企画部企画課', '17年（2005）': '', '22年（2010）': '', '27年（2015）': '', '32年（2020）': '', '37年（2025）': '', '42年（2030）': '', '47年（2035）': ''}], 'fields': [{'id': '_id', 'type': 'int'}, {'id': '項目', 'type': 'text'}, {'id': '17年（2005）', 'type': 'text'}, {'id': '22年（2010）', 'type': 'text'}, {'id': '27年（2015）', 'type': 'text'}, {'id': '32年（2020）', 'type': 'text'}, {'id': '37年（2025）', 'type': 'text'}, {'id': '42年（2030）', 'type': 'text'}, {'id': '47年（2035）', 'type': 'text'}], '_links': {'start': '/api/3/action/datastore_search?resource_id=710b0236-6b28-441e-8500-f5c9be2e4c4a', 'next': '/api/3/action/datastore_search?resource_id=710b0236-6b28-441e-8500-f5c9be2e4c4a&offset=100'}, 'total': 9, 'total_was_estimated': False}}\n"
          ]
        }
      ],
      "source": [
        "import urllib\n",
        "import urllib.request\n",
        "import json\n",
        "\n",
        "url = 'https://ckan.pf-sapporo.jp/api/3/action/datastore_search?resource_id=710b0236-6b28-441e-8500-f5c9be2e4c4a'\n",
        "response = urllib.request.urlopen(url)\n",
        "content = json.loads(response.read().decode('utf8'))\n",
        "\n",
        "print(content)"
      ]
    },
    {
      "cell_type": "code",
      "execution_count": 3,
      "metadata": {
        "colab": {
          "base_uri": "https://localhost:8080/"
        },
        "id": "LxNlJLe4kcrR",
        "outputId": "38059170-80de-4923-fb8e-600013ef8205"
      },
      "outputs": [
        {
          "name": "stdout",
          "output_type": "stream",
          "text": [
            "_id:3\n",
            "項目:総人口\n",
            "17年（2005）:1,881（100.0）\n",
            "22年（2010）:1,914（100.0）\n",
            "27年（2015）:1,937（100.0）\n",
            "32年（2020）:1,933（100.0）\n",
            "37年（2025）:1,911（100.0）\n",
            "42年（2030）:1,871（100.0）\n",
            "47年（2035）:1,818（100.0）\n"
          ]
        }
      ],
      "source": [
        "import urllib\n",
        "import urllib.request\n",
        "import json\n",
        "\n",
        "url = 'https://ckan.pf-sapporo.jp/api/3/action/datastore_search?resource_id=710b0236-6b28-441e-8500-f5c9be2e4c4a'\n",
        "response = urllib.request.urlopen(url)\n",
        "content = json.loads(response.read().decode('utf8'))\n",
        "\n",
        "#値を取り出すための変数を用意\n",
        "recode = content[\"result\"][\"records\"][2]\n",
        "for k, v in recode.items():\n",
        "    print(k + \":\" + str(v))"
      ]
    },
    {
      "cell_type": "code",
      "execution_count": 4,
      "metadata": {
        "colab": {
          "base_uri": "https://localhost:8080/",
          "height": 291
        },
        "id": "GHMaXwvXkgTL",
        "outputId": "4ef75fdc-dc97-4787-a4d1-52b7e0fdf016"
      },
      "outputs": [
        {
          "name": "stdout",
          "output_type": "stream",
          "text": [
            "['17年', '22年', '27年', '32年', '37年', '42年', '47年'] [1881000, 1914000, 1937000, 1933000, 1911000, 1871000, 1818000]\n"
          ]
        },
        {
          "data": {
            "image/png": "[encoded data removed]",
            "text/plain": [
              "<Figure size 432x288 with 1 Axes>"
            ]
          },
          "metadata": {
            "needs_background": "light"
          },
          "output_type": "display_data"
        }
      ],
      "source": [
        "import urllib\n",
        "import urllib.request\n",
        "import json\n",
        "import re\n",
        "import matplotlib.pyplot as plt\n",
        "import japanize_matplotlib\n",
        "\n",
        "url = 'https://ckan.pf-sapporo.jp/api/3/action/datastore_search?resource_id=710b0236-6b28-441e-8500-f5c9be2e4c4a'\n",
        "response = urllib.request.urlopen(url)\n",
        "content = json.loads(response.read().decode('utf8'))\n",
        "\n",
        "#値を取り出すための変数を用意\n",
        "recode = content[\"result\"][\"records\"][2]\n",
        "#データラベルを初期化\n",
        "label = []\n",
        "#グラフデータを初期化\n",
        "data = []\n",
        "\n",
        "listdata = list(recode.items()) \n",
        "listdata.pop(0)\n",
        "listdata.pop(0)\n",
        "for k, v in listdata:\n",
        "    l = re.search('[0-9]+年', k).group()\n",
        "    label.append(l)\n",
        "    v = v.replace(',','')\n",
        "    n = int(re.search('[0-9]+', v).group())\n",
        "    data.append(n*1000)\n",
        "print(label, data)\n",
        "x = [ 1, 2, 3, 4, 5, 6, 7 ]\n",
        "plt.bar( x, data ,tick_label = label)\n",
        "\n",
        "plt.show()"
      ]
    },
    {
      "cell_type": "code",
      "execution_count": 6,
      "metadata": {
        "colab": {
          "base_uri": "https://localhost:8080/"
        },
        "id": "hcHUMK0Skm-J",
        "outputId": "1e29849e-f2d6-4ab1-ffc8-cbe2e6f570ba"
      },
      "outputs": [
        {
          "name": "stdout",
          "output_type": "stream",
          "text": [
            "　北海道付近は、２４日は気圧の谷の中ですが、夜には高気圧に覆われてくるでしょう。２５日は高気圧に覆われる見込みです。\n",
            "\n",
            "　石狩・空知・後志地方の２４日３時の天気は、曇りとなっています。\n",
            "\n",
            "　２４日は、曇りのち時々晴れでしょう。\n",
            "\n",
            "　２５日は、晴れ時々曇りの見込みです。\n",
            "\n",
            "　海の波の高さは、２４日から２５日にかけて１メートルでしょう。\n"
          ]
        }
      ],
      "source": [
        "import urllib\n",
        "import urllib.request\n",
        "import json\n",
        "#全国JSONはこちらからhttps://www.jma.go.jp/bosai/forecast/data/forecast/010000.json\n",
        "#詳細データ\n",
        "url = 'https://www.jma.go.jp/bosai/forecast/data/forecast/016000.json'\n",
        "#概況\n",
        "url = 'https://www.jma.go.jp/bosai/forecast/data/overview_forecast/016000.json'\n",
        "response = urllib.request.urlopen(url)\n",
        "content = json.loads(response.read().decode('utf8'))\n",
        "\n",
        "#概況の表示\n",
        "print(content[\"text\"])"
      ]
    }
  ],
  "metadata": {
    "colab": {
      "collapsed_sections": [],
      "name": "learner2.ipynb",
      "provenance": [],
      "toc_visible": true
    },
    "kernelspec": {
      "display_name": "Python 3.9.9 64-bit",
      "language": "python",
      "name": "python3"
    },
    "language_info": {
      "codemirror_mode": {
        "name": "ipython",
        "version": 3
      },
      "file_extension": ".py",
      "mimetype": "text/x-python",
      "name": "python",
      "nbconvert_exporter": "python",
      "pygments_lexer": "ipython3",
      "version": "3.9.9"
    },
    "vscode": {
      "interpreter": {
        "hash": "82ed002fa2d4956f5c6aec99bcefe0f73a9f79882f3c9e2319b14958a5896ac5"
      }
    }
  },
  "nbformat": 4,
  "nbformat_minor": 0
}
