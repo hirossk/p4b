{
  "cells": [
    {
      "cell_type": "markdown",
      "metadata": {
        "id": "ZEjSqssAh1y6"
      },
      "source": [
        "# Pythonによる統計とグラフ、オブジェクト指向\n",
        "\n"
      ]
    },
    {
      "cell_type": "markdown",
      "metadata": {
        "id": "A_IV96nYiN20"
      },
      "source": [
        "# グラフ\n",
        "グラフを表示するためにmatplotlibモジュールをインポートします。\n",
        "\n",
        "\n",
        "---\n",
        "matplotlibには折れ線グラフ、棒グラフ、円グラフ、散布図、ヒストグラムなど多様なグラフを表現する機能を持っています。<br>\n",
        "グラフの種類はこちらのサイトが参考になります。\n",
        "<br>\n",
        "https://future-chem.com/matplotlib-plot-type/"
      ]
    },
    {
      "cell_type": "markdown",
      "metadata": {
        "id": "QO7dG-5Z8H7i"
      },
      "source": [
        "## 折れ線グラフ"
      ]
    },
    {
      "cell_type": "code",
      "execution_count": null,
      "metadata": {
        "colab": {
          "base_uri": "https://localhost:8080/",
          "height": 265
        },
        "id": "4CchaIHqiQ9b",
        "outputId": "7065b7a6-22db-4cb9-9ea1-103010e7cc02"
      },
      "outputs": [
        {
          "data": {
            "image/png": "[encoded data removed]",
            "text/plain": [
              "<Figure size 432x288 with 1 Axes>"
            ]
          },
          "metadata": {
            "needs_background": "light"
          },
          "output_type": "display_data"
        }
      ],
      "source": [
        "import matplotlib.pyplot as plt\n",
        "\n",
        "x = [ 1, 2, 3, 4, 5, 6 ]\n",
        "data = [ 100, 50, 200, 300, 350, 500 ]\n",
        "plt.plot( x, data )\n",
        "plt.show()"
      ]
    },
    {
      "cell_type": "markdown",
      "metadata": {
        "id": "2kaX7mOk8Mtl"
      },
      "source": [
        "## 棒グラフ"
      ]
    },
    {
      "cell_type": "code",
      "execution_count": null,
      "metadata": {
        "colab": {
          "base_uri": "https://localhost:8080/",
          "height": 265
        },
        "id": "optE-eyoiaGQ",
        "outputId": "5c831350-9f72-4421-c5eb-4a138ce9bbeb"
      },
      "outputs": [
        {
          "data": {
            "image/png": "[encoded data removed]",
            "text/plain": [
              "<Figure size 432x288 with 1 Axes>"
            ]
          },
          "metadata": {
            "needs_background": "light"
          },
          "output_type": "display_data"
        }
      ],
      "source": [
        "import matplotlib.pyplot as plt\n",
        "\n",
        "x = [ 1, 2, 3, 4, 5, 6 ]\n",
        "data = [ 200, 220, 240, 220, 260, 210 ]\n",
        "\n",
        "plt.bar( x, data )\n",
        "plt.show()"
      ]
    },
    {
      "cell_type": "markdown",
      "metadata": {
        "id": "na9775zE8RNl"
      },
      "source": [
        "## 円グラフ"
      ]
    },
    {
      "cell_type": "code",
      "execution_count": null,
      "metadata": {
        "colab": {
          "base_uri": "https://localhost:8080/",
          "height": 248
        },
        "id": "Q5UdYb04ieYg",
        "outputId": "bf3d4a3a-9a03-47c5-fc0c-a0fc88f6f096"
      },
      "outputs": [
        {
          "data": {
            "image/png": "[encoded data removed]",
            "text/plain": [
              "<Figure size 432x288 with 1 Axes>"
            ]
          },
          "metadata": {},
          "output_type": "display_data"
        }
      ],
      "source": [
        "import matplotlib.pyplot as plt\n",
        "\n",
        "data = [ 100, 200, 300, 400, 500, 600 ]\n",
        "plt.pie( data )\n",
        "#pieを使ってデータを指定します。\n",
        "plt.show()"
      ]
    },
    {
      "cell_type": "markdown",
      "metadata": {
        "id": "P_HB46hn3xG2"
      },
      "source": [
        "#### ランタイムの追加（matplotlibの日本語対応版）\n",
        "グラフに日本語を表示する方法はいくつかありますが、ここではmatplotlibの日本語対応版をランタイムに追加することで表示するようにします。<br>\n",
        "※　Coraboratoryのランタイムは１２時間でリセットされることに注意してください。"
      ]
    },
    {
      "cell_type": "code",
      "execution_count": null,
      "metadata": {
        "colab": {
          "base_uri": "https://localhost:8080/"
        },
        "id": "t7huvWEnizeH",
        "outputId": "3c523d56-b08c-49aa-d284-ccdda6544e60"
      },
      "outputs": [
        {
          "name": "stdout",
          "output_type": "stream",
          "text": [
            "Collecting japanize-matplotlib\n",
            "  Downloading japanize-matplotlib-1.1.3.tar.gz (4.1 MB)\n",
            "\u001b[K     |████████████████████████████████| 4.1 MB 7.2 MB/s \n",
            "\u001b[?25hRequirement already satisfied: matplotlib in /usr/local/lib/python3.7/dist-packages (from japanize-matplotlib) (3.2.2)\n",
            "Requirement already satisfied: pyparsing!=2.0.4,!=2.1.2,!=2.1.6,>=2.0.1 in /usr/local/lib/python3.7/dist-packages (from matplotlib->japanize-matplotlib) (2.4.7)\n",
            "Requirement already satisfied: cycler>=0.10 in /usr/local/lib/python3.7/dist-packages (from matplotlib->japanize-matplotlib) (0.10.0)\n",
            "Requirement already satisfied: python-dateutil>=2.1 in /usr/local/lib/python3.7/dist-packages (from matplotlib->japanize-matplotlib) (2.8.2)\n",
            "Requirement already satisfied: numpy>=1.11 in /usr/local/lib/python3.7/dist-packages (from matplotlib->japanize-matplotlib) (1.19.5)\n",
            "Requirement already satisfied: kiwisolver>=1.0.1 in /usr/local/lib/python3.7/dist-packages (from matplotlib->japanize-matplotlib) (1.3.2)\n",
            "Requirement already satisfied: six in /usr/local/lib/python3.7/dist-packages (from cycler>=0.10->matplotlib->japanize-matplotlib) (1.15.0)\n",
            "Building wheels for collected packages: japanize-matplotlib\n",
            "  Building wheel for japanize-matplotlib (setup.py) ... \u001b[?25l\u001b[?25hdone\n",
            "  Created wheel for japanize-matplotlib: filename=japanize_matplotlib-1.1.3-py3-none-any.whl size=4120274 sha256=0035db431579df0f7a9e412fe21d1a55d10f9c28690207203376137db6399b1f\n",
            "  Stored in directory: /root/.cache/pip/wheels/83/97/6b/e9e0cde099cc40f972b8dd23367308f7705ae06cd6d4714658\n",
            "Successfully built japanize-matplotlib\n",
            "Installing collected packages: japanize-matplotlib\n",
            "Successfully installed japanize-matplotlib-1.1.3\n"
          ]
        }
      ],
      "source": [
        "!pip install japanize-matplotlib"
      ]
    },
    {
      "cell_type": "code",
      "execution_count": null,
      "metadata": {
        "colab": {
          "base_uri": "https://localhost:8080/",
          "height": 393
        },
        "id": "VZBbFs0Fihcy",
        "outputId": "9a312c9a-1214-4393-f700-d4b9951bdfc3"
      },
      "outputs": [
        {
          "ename": "ModuleNotFoundError",
          "evalue": "ignored",
          "output_type": "error",
          "traceback": [
            "\u001b[0;31m---------------------------------------------------------------------------\u001b[0m",
            "\u001b[0;31mModuleNotFoundError\u001b[0m                       Traceback (most recent call last)",
            "\u001b[0;32m<ipython-input-1-2442d7306eb3>\u001b[0m in \u001b[0;36m<module>\u001b[0;34m()\u001b[0m\n\u001b[1;32m      1\u001b[0m \u001b[0;32mimport\u001b[0m \u001b[0mmatplotlib\u001b[0m\u001b[0;34m.\u001b[0m\u001b[0mpyplot\u001b[0m \u001b[0;32mas\u001b[0m \u001b[0mplt\u001b[0m\u001b[0;34m\u001b[0m\u001b[0;34m\u001b[0m\u001b[0m\n\u001b[0;32m----> 2\u001b[0;31m \u001b[0;32mimport\u001b[0m \u001b[0mjapanize_matplotlib\u001b[0m\u001b[0;34m\u001b[0m\u001b[0;34m\u001b[0m\u001b[0m\n\u001b[0m\u001b[1;32m      3\u001b[0m \u001b[0;31m#日本語matplotlibを設定\u001b[0m\u001b[0;34m\u001b[0m\u001b[0;34m\u001b[0m\u001b[0;34m\u001b[0m\u001b[0m\n\u001b[1;32m      4\u001b[0m \u001b[0;34m\u001b[0m\u001b[0m\n\u001b[1;32m      5\u001b[0m \u001b[0mx\u001b[0m \u001b[0;34m=\u001b[0m \u001b[0;34m[\u001b[0m \u001b[0;36m1\u001b[0m\u001b[0;34m,\u001b[0m \u001b[0;36m2\u001b[0m\u001b[0;34m,\u001b[0m \u001b[0;36m3\u001b[0m\u001b[0;34m,\u001b[0m \u001b[0;36m4\u001b[0m\u001b[0;34m,\u001b[0m \u001b[0;36m5\u001b[0m\u001b[0;34m,\u001b[0m \u001b[0;36m6\u001b[0m \u001b[0;34m]\u001b[0m\u001b[0;34m\u001b[0m\u001b[0;34m\u001b[0m\u001b[0m\n",
            "\u001b[0;31mModuleNotFoundError\u001b[0m: No module named 'japanize_matplotlib'",
            "",
            "\u001b[0;31m---------------------------------------------------------------------------\u001b[0;32m\nNOTE: If your import is failing due to a missing package, you can\nmanually install dependencies using either !pip or !apt.\n\nTo view examples of installing some common dependencies, click the\n\"Open Examples\" button below.\n\u001b[0;31m---------------------------------------------------------------------------\u001b[0m\n"
          ]
        }
      ],
      "source": [
        "import matplotlib.pyplot as plt\n",
        "import japanize_matplotlib\n",
        "#日本語matplotlibを設定\n",
        "\n",
        "x = [ 1, 2, 3, 4, 5, 6 ]\n",
        "data = [ 200, 220, 240, 220, 260, 210 ]\n",
        "label = [ '西区','東区','南区','北区','豊平区','手稲区']\n",
        "#データラベルを指定することもできる\n",
        "plt.bar( x, data ,tick_label = label)\n",
        "\n",
        "plt.show()"
      ]
    },
    {
      "cell_type": "markdown",
      "metadata": {
        "id": "CAPsC9a8i_ID"
      },
      "source": [
        "# numpyによる数値計算\n",
        "numpyはPythonの数値計算を効率よく行うためのライブラリです。\n",
        "ベクトルや行列といった機械学習によく使われる演算に向いているので、利用頻度が高くなっています。\n",
        "<br>すでに学習したリストに似ていますが、機能が追加されています。"
      ]
    },
    {
      "cell_type": "markdown",
      "metadata": {
        "id": "FWZvSuej8bT4"
      },
      "source": [
        "##リストに対する演算"
      ]
    },
    {
      "cell_type": "code",
      "execution_count": null,
      "metadata": {
        "colab": {
          "base_uri": "https://localhost:8080/"
        },
        "id": "HNKf6u7ajOG2",
        "outputId": "3a22c636-24f9-4e0a-bbc3-525c992d281c"
      },
      "outputs": [
        {
          "name": "stdout",
          "output_type": "stream",
          "text": [
            "[1, 2, 3, 4, 5]\n",
            "[1 2 3 4 5]\n",
            "[1, 2, 3, 4, 5, 1, 2, 3, 4, 5]\n",
            "[ 2  4  6  8 10]\n",
            "[ 1  4  9 16 25]\n"
          ]
        }
      ],
      "source": [
        "import numpy as np\n",
        "\n",
        "#listの生成\n",
        "a = [ 1, 2, 3, 4, 5]\n",
        "print(a)\n",
        "#配列要素の生成\n",
        "b = np.array([ 1, 2, 3, 4, 5])\n",
        "print(b)\n",
        "\n",
        "#listの長さが2倍\n",
        "print( a * 2 )\n",
        "#配列要素の中身がそれぞれ２倍\n",
        "print( b * 2 )\n",
        "#配列要素の要素同士が乗算される\n",
        "print( b * b )"
      ]
    },
    {
      "cell_type": "markdown",
      "metadata": {
        "id": "iep5dSze8gBg"
      },
      "source": [
        "## numpyによる数列リストの生成"
      ]
    },
    {
      "cell_type": "code",
      "execution_count": null,
      "metadata": {
        "colab": {
          "base_uri": "https://localhost:8080/"
        },
        "id": "tqttxvvcjU5k",
        "outputId": "e3b2b4f6-5489-463e-cc3e-4479bd461dc9"
      },
      "outputs": [
        {
          "name": "stdout",
          "output_type": "stream",
          "text": [
            "[0 1 2 3 4]\n",
            "[0.  0.4 0.8 1.2 1.6]\n"
          ]
        }
      ],
      "source": [
        "import numpy as np\n",
        "\n",
        "#rangeとよく似ていますが、整数以外も生成可能\n",
        "print(np.arange(5))\n",
        "#print(np.arange(0, 2, 0.4))\n",
        "#linspaceを使うと値を等分したリストを生成可能\n",
        "#print(np.linspace(0,100,5))\n",
        "#10個の配列要素としての乱数を同時生成\n",
        "#print(np.random.rand(10))"
      ]
    },
    {
      "cell_type": "markdown",
      "metadata": {
        "id": "C-nIdwSh8qiZ"
      },
      "source": [
        "## numpyによる効率的な判定"
      ]
    },
    {
      "cell_type": "code",
      "execution_count": null,
      "metadata": {
        "colab": {
          "base_uri": "https://localhost:8080/"
        },
        "id": "3-RcG_F6jZ9c",
        "outputId": "0d0962e6-eb49-48bf-fe28-3b57de440350"
      },
      "outputs": [
        {
          "name": "stdout",
          "output_type": "stream",
          "text": [
            "[2 1 1 1 3 1 3 3 3 1]\n"
          ]
        }
      ],
      "source": [
        "import numpy as np\n",
        "\n",
        "ransu = np.random.randint(1, 4, 10)\n",
        "print(ransu)\n",
        "#3のところを確認する\n",
        "#print(ransu == 3)\n",
        "#3の数を数える\n",
        "#print(np.count_nonzero(ransu == 3))"
      ]
    },
    {
      "cell_type": "markdown",
      "metadata": {
        "id": "DV5w7fXF8yH4"
      },
      "source": [
        "## numpyとグラフの応用"
      ]
    },
    {
      "cell_type": "code",
      "execution_count": null,
      "metadata": {
        "colab": {
          "base_uri": "https://localhost:8080/",
          "height": 567
        },
        "id": "ksoZsxVJji_7",
        "outputId": "841e9f48-1934-45b6-a984-d76707ab23b8"
      },
      "outputs": [
        {
          "data": {
            "image/png": "[encoded data removed]",
            "text/plain": [
              "<Figure size 432x288 with 1 Axes>"
            ]
          },
          "metadata": {
            "needs_background": "light"
          },
          "output_type": "display_data"
        },
        {
          "data": {
            "image/png": "[encoded data removed]",
            "text/plain": [
              "<Figure size 432x288 with 1 Axes>"
            ]
          },
          "metadata": {
            "needs_background": "light"
          },
          "output_type": "display_data"
        }
      ],
      "source": [
        "import numpy as np # 整数をカウントするための関数呼び出し\n",
        "import matplotlib.pyplot as plt # グラフプロットの呼び出し\n",
        "\n",
        "for times in range(1,3):\n",
        "    saikoro = np.random.randint(1, 6+1, 6 ** times) # サイコロを 100 回振る\n",
        "    deme = [ ] # 出目の数を数える配列\n",
        "    for i in range(6):\n",
        "        deme.append(np.count_nonzero(saikoro==i+1)) # 数を数えて配列に追加\n",
        "    left = [1, 2, 3, 4, 5, 6] # グラフの左方向の値指定用\n",
        "    plt.cla()\n",
        "    plt.title(\"SAIKORO SIMULATION \" + str(6 ** times) + \" KAI\") \n",
        "                    # グラフのタイトル\n",
        "    plt.xlabel(\"ME\") #X 軸のラベル\n",
        "    plt.ylabel(\"KAISUU\") #Y 軸のラベル\n",
        "    plt.bar(left, deme, align=\"center\") # グラフをプロット\n",
        "    plt.draw() \n",
        "    plt.pause(2)\n",
        "\n",
        "plt.show()\n"
      ]
    },
    {
      "cell_type": "markdown",
      "metadata": {
        "id": "zHAfsrQJ_NYc"
      },
      "source": [
        "三角関数のsinカーブを生成します。"
      ]
    },
    {
      "cell_type": "code",
      "execution_count": null,
      "metadata": {
        "colab": {
          "base_uri": "https://localhost:8080/",
          "height": 264
        },
        "id": "WS6nUx_Ojy8A",
        "outputId": "5bda0454-7325-4a46-b267-7777e551dd4e"
      },
      "outputs": [
        {
          "data": {
            "image/png": "[encoded data removed]",
            "text/plain": [
              "<Figure size 432x288 with 1 Axes>"
            ]
          },
          "metadata": {
            "needs_background": "light"
          },
          "output_type": "display_data"
        }
      ],
      "source": [
        "import numpy as np \n",
        "import matplotlib.pyplot as plt\n",
        "\n",
        "#sinカーブの描画のための-180°～180までのradian設定\n",
        "kakudo = np.linspace( -np.pi, np.pi, 361)\n",
        "x = np.linspace(-180,180,361)\n",
        "plt.plot(x, np.sin(kakudo))\n",
        "plt.show()"
      ]
    },
    {
      "cell_type": "markdown",
      "metadata": {
        "id": "yVxIMsEf_XT7"
      },
      "source": [
        "##### numpyによる複利計算のシミュレーション（グラフ無し）"
      ]
    },
    {
      "cell_type": "code",
      "execution_count": null,
      "metadata": {
        "colab": {
          "base_uri": "https://localhost:8080/"
        },
        "id": "rUq2jXvhj3f-",
        "outputId": "5d422d41-e9ed-405c-deb5-ea47cb8549a1"
      },
      "outputs": [
        {
          "name": "stdout",
          "output_type": "stream",
          "text": [
            "[1.05 1.05 1.05 1.05 1.05 1.05 1.05 1.05 1.05 1.05] [ 1  2  3  4  5  6  7  8  9 10]\n",
            "[1.05       1.1025     1.157625   1.21550625 1.27628156 1.34009564\n",
            " 1.40710042 1.47745544 1.55132822 1.62889463]\n"
          ]
        }
      ],
      "source": [
        "import numpy as np\n",
        "import matplotlib.pyplot as plt\n",
        "\n",
        "a = np.full(10,1.05)\n",
        "b = np.arange(1, 11)\n",
        "c = a ** b\n",
        "print(a,b)\n",
        "print(c)\n"
      ]
    },
    {
      "cell_type": "markdown",
      "metadata": {
        "id": "sNetkR2TnYsg"
      },
      "source": [
        "##### numpyによる複利計算のグラフサンプル"
      ]
    },
    {
      "cell_type": "code",
      "execution_count": null,
      "metadata": {
        "id": "XUFoToMOnei9"
      },
      "outputs": [],
      "source": [
        "import numpy as np\n",
        "import matplotlib.pyplot as plt\n",
        "\n",
        "a = np.full(20,1.2)\n",
        "b = np.arange(1, 21)\n",
        "\n",
        "#複利計算\n",
        "c = a ** b\n",
        "\n",
        "plt.plot(b,c)\n",
        "ax = plt.gca() \n",
        "y_min, y_max = ax.get_ylim()\n",
        "#Y軸の目盛の下限を設定\n",
        "ax.set_ylim(0, y_max)\n",
        "\n",
        "plt.show()"
      ]
    },
    {
      "cell_type": "markdown",
      "metadata": {
        "id": "5dTZCamWwAT2"
      },
      "source": [
        "# JSONデータの読み込み\n",
        "JSONの外部ファイルを読み込みグラフ化します。\n"
      ]
    },
    {
      "cell_type": "markdown",
      "metadata": {
        "id": "4Mu6qSsm9ARV"
      },
      "source": [
        "## ColaboratoryのJSONサンプルデータを使った散布図\n",
        "ここではColaboratoryのランタイムに標準で用意されているアンスコムの数値例を使って、同じ回帰直線となる散布図をグラフ表示してみます。"
      ]
    },
    {
      "cell_type": "code",
      "execution_count": null,
      "metadata": {
        "colab": {
          "base_uri": "https://localhost:8080/",
          "height": 318
        },
        "id": "5y9LBxnjwEYK",
        "outputId": "ea20e084-9445-4aba-8dea-a2a2d8715af2"
      },
      "outputs": [
        {
          "name": "stdout",
          "output_type": "stream",
          "text": [
            "[{'Series': 'I', 'X': 10.0, 'Y': 8.04}, {'Series': 'I', 'X': 8.0, 'Y': 6.95}, {'Series': 'I', 'X': 13.0, 'Y': 7.58}, {'Series': 'I', 'X': 9.0, 'Y': 8.81}, {'Series': 'I', 'X': 11.0, 'Y': 8.33}, {'Series': 'I', 'X': 14.0, 'Y': 9.96}, {'Series': 'I', 'X': 6.0, 'Y': 7.24}, {'Series': 'I', 'X': 4.0, 'Y': 4.26}, {'Series': 'I', 'X': 12.0, 'Y': 10.84}, {'Series': 'I', 'X': 7.0, 'Y': 4.81}, {'Series': 'I', 'X': 5.0, 'Y': 5.68}, {'Series': 'II', 'X': 10.0, 'Y': 9.14}, {'Series': 'II', 'X': 8.0, 'Y': 8.14}, {'Series': 'II', 'X': 13.0, 'Y': 8.74}, {'Series': 'II', 'X': 9.0, 'Y': 8.77}, {'Series': 'II', 'X': 11.0, 'Y': 9.26}, {'Series': 'II', 'X': 14.0, 'Y': 8.1}, {'Series': 'II', 'X': 6.0, 'Y': 6.13}, {'Series': 'II', 'X': 4.0, 'Y': 3.1}, {'Series': 'II', 'X': 12.0, 'Y': 9.13}, {'Series': 'II', 'X': 7.0, 'Y': 7.26}, {'Series': 'II', 'X': 5.0, 'Y': 4.74}, {'Series': 'III', 'X': 10.0, 'Y': 7.46}, {'Series': 'III', 'X': 8.0, 'Y': 6.77}, {'Series': 'III', 'X': 13.0, 'Y': 12.74}, {'Series': 'III', 'X': 9.0, 'Y': 7.11}, {'Series': 'III', 'X': 11.0, 'Y': 7.81}, {'Series': 'III', 'X': 14.0, 'Y': 8.84}, {'Series': 'III', 'X': 6.0, 'Y': 6.08}, {'Series': 'III', 'X': 4.0, 'Y': 5.39}, {'Series': 'III', 'X': 12.0, 'Y': 8.15}, {'Series': 'III', 'X': 7.0, 'Y': 6.42}, {'Series': 'III', 'X': 5.0, 'Y': 5.73}, {'Series': 'IV', 'X': 8.0, 'Y': 6.58}, {'Series': 'IV', 'X': 8.0, 'Y': 5.76}, {'Series': 'IV', 'X': 8.0, 'Y': 7.71}, {'Series': 'IV', 'X': 8.0, 'Y': 8.84}, {'Series': 'IV', 'X': 8.0, 'Y': 8.47}, {'Series': 'IV', 'X': 8.0, 'Y': 7.04}, {'Series': 'IV', 'X': 8.0, 'Y': 5.25}, {'Series': 'IV', 'X': 19.0, 'Y': 12.5}, {'Series': 'IV', 'X': 8.0, 'Y': 5.56}, {'Series': 'IV', 'X': 8.0, 'Y': 7.91}, {'Series': 'IV', 'X': 8.0, 'Y': 6.89}]\n"
          ]
        },
        {
          "data": {
            "image/png": "[encoded data removed]",
            "text/plain": [
              "<Figure size 432x288 with 1 Axes>"
            ]
          },
          "metadata": {
            "needs_background": "light"
          },
          "output_type": "display_data"
        }
      ],
      "source": [
        "import matplotlib.pyplot as plt\n",
        "import json\n",
        "\n",
        "jsonfile = open('sample_data/anscombe.json' , 'r', encoding='utf-8') \n",
        "#JSONデータとして取り出す\n",
        "loaded_data = json.load(jsonfile)\n",
        "print(loaded_data)  \n",
        "\n",
        "#辞書データの作成\n",
        "scdata={}\n",
        "\n",
        "for data in loaded_data:\n",
        "    series = data['Series']\n",
        "    if series not in scdata:\n",
        "        scdata[series]=[[],[]]\n",
        "    scdata[series][0].append(data['X'])\n",
        "    scdata[series][1].append(data['Y'])\n",
        "\n",
        "for x,y in scdata.values():\n",
        "    plt.scatter( x , y )\n",
        "\n",
        "plt.title('Scatter Plot Example')\n",
        "plt.show()\n"
      ]
    },
    {
      "cell_type": "markdown",
      "metadata": {
        "id": "i1cQhb4EkPku"
      },
      "source": [
        "# WebAPIによる統計データ利用\n"
      ]
    },
    {
      "cell_type": "markdown",
      "metadata": {
        "id": "j2fMiiHgd498"
      },
      "source": [
        "#### WebAPIとして公開されているデータサンプル例\n",
        "https://www.e-gov.go.jp/digital-government/api<br>\n",
        "https://www.harp.lg.jp/opendata/dataset/1369.html<br>\n",
        "https://data.pf-sapporo.jp/<br>\n",
        "https://www.jma.go.jp/bosai/quake/data/list.json\n"
      ]
    },
    {
      "cell_type": "markdown",
      "metadata": {
        "id": "gWHr8RhX9gXh"
      },
      "source": [
        "##札幌市の将来人口推計を読み込み処理を行うプログラム<br>\n",
        "https://ckan.pf-sapporo.jp/dataset/suikeijinkou/resource/710b0236-6b28-441e-8500-f5c9be2e4c4a\n"
      ]
    },
    {
      "cell_type": "code",
      "execution_count": null,
      "metadata": {
        "colab": {
          "base_uri": "https://localhost:8080/"
        },
        "id": "35gKUrRwkWA-",
        "outputId": "ade563f2-b263-4565-a740-5fa4ade29dbe"
      },
      "outputs": [
        {
          "name": "stdout",
          "output_type": "stream",
          "text": [
            "{'help': 'https://ckan.pf-sapporo.jp/api/3/action/help_show?name=datastore_search', 'success': True, 'result': {'include_total': True, 'limit': 100, 'records_format': 'objects', 'resource_id': '710b0236-6b28-441e-8500-f5c9be2e4c4a', 'total_estimation_threshold': None, 'records': [{'_id': 1, '項目': '', '17年（2005）': '1）', '22年（2010）': '1）', '27年（2015）': '2）', '32年（2020）': '2）', '37年（2025）': '2）', '42年（2030）': '2）', '47年（2035）': '2）'}, {'_id': 2, '項目': '', '17年（2005）': '千人（％）', '22年（2010）': '千人（％）', '27年（2015）': '千人（％）', '32年（2020）': '千人（％）', '37年（2025）': '千人（％）', '42年（2030）': '千人（％）', '47年（2035）': '千人（％）'}, {'_id': 3, '項目': '総人口', '17年（2005）': '1,881（100.0）', '22年（2010）': '1,914（100.0）', '27年（2015）': '1,937（100.0）', '32年（2020）': '1,933（100.0）', '37年（2025）': '1,911（100.0）', '42年（2030）': '1,871（100.0）', '47年（2035）': '1,818（100.0）'}, {'_id': 4, '項目': '年少人口（0～14歳）', '17年（2005）': '234（ 12.4）', '22年（2010）': '224（ 11.7）', '27年（2015）': '217（ 11.2）', '32年（2020）': '205（ 10.6）', '37年（2025）': '189（ 9.9）', '42年（2030）': '171（ 9.1）', '47年（2035）': '156（\\xa08.6）'}, {'_id': 5, '項目': '生産年齢人口（15～64歳）', '17年（2005）': '1,318（ 70.1）', '22年（2010）': '1,292（ 67.5）', '27年（2015）': '1,234（ 63.7）', '32年（2020）': '1,179（ 61.0）', '37年（2025）': '1,139（ 59.6）', '42年（2030）': '1,089（ 58.2）', '47年（2035）': '1,024（ 56.3）'}, {'_id': 6, '項目': '老年人口（65歳以上）', '17年（2005）': '325（ 17.3）', '22年（2010）': '392（ 20.5）', '27年（2015）': '486（ 25.1）', '32年（2020）': '549（ 28.4）', '37年（2025）': '583（ 30.5）', '42年（2030）': '611（ 32.7）', '47年（2035）': '638（ 35.1）'}, {'_id': 7, '項目': '', '17年（2005）': '', '22年（2010）': '', '27年（2015）': '', '32年（2020）': '', '37年（2025）': '', '42年（2030）': '', '47年（2035）': ''}, {'_id': 8, '項目': '注：1）国勢調査人口による。総人口には年齢不詳も含む。2）推計値である。', '17年（2005）': '', '22年（2010）': '', '27年（2015）': '', '32年（2020）': '', '37年（2025）': '', '42年（2030）': '', '47年（2035）': ''}, {'_id': 9, '項目': '＜資料＞総務省統計局「国勢調査」、市長政策室政策企画部企画課', '17年（2005）': '', '22年（2010）': '', '27年（2015）': '', '32年（2020）': '', '37年（2025）': '', '42年（2030）': '', '47年（2035）': ''}], 'fields': [{'id': '_id', 'type': 'int'}, {'id': '項目', 'type': 'text'}, {'id': '17年（2005）', 'type': 'text'}, {'id': '22年（2010）', 'type': 'text'}, {'id': '27年（2015）', 'type': 'text'}, {'id': '32年（2020）', 'type': 'text'}, {'id': '37年（2025）', 'type': 'text'}, {'id': '42年（2030）', 'type': 'text'}, {'id': '47年（2035）', 'type': 'text'}], '_links': {'start': '/api/3/action/datastore_search?resource_id=710b0236-6b28-441e-8500-f5c9be2e4c4a', 'next': '/api/3/action/datastore_search?resource_id=710b0236-6b28-441e-8500-f5c9be2e4c4a&offset=100'}, 'total': 9, 'total_was_estimated': False}}\n"
          ]
        }
      ],
      "source": [
        "import urllib\n",
        "import urllib.request\n",
        "import json\n",
        "\n",
        "url = 'https://ckan.pf-sapporo.jp/api/3/action/datastore_search?resource_id=710b0236-6b28-441e-8500-f5c9be2e4c4a'\n",
        "response = urllib.request.urlopen(url)\n",
        "content = json.loads(response.read().decode('utf8'))\n",
        "\n",
        "print(content)"
      ]
    },
    {
      "cell_type": "markdown",
      "metadata": {
        "id": "JszU_MB_9lqa"
      },
      "source": [
        "#### 統計データ（JSON）から目的のデータの抽出"
      ]
    },
    {
      "cell_type": "code",
      "execution_count": null,
      "metadata": {
        "colab": {
          "base_uri": "https://localhost:8080/"
        },
        "id": "LxNlJLe4kcrR",
        "outputId": "c05d2dce-f75c-46be-d889-70b6683cdb72"
      },
      "outputs": [
        {
          "name": "stdout",
          "output_type": "stream",
          "text": [
            "_id:3\n",
            "項目:総人口\n",
            "17年（2005）:1,881（100.0）\n",
            "22年（2010）:1,914（100.0）\n",
            "27年（2015）:1,937（100.0）\n",
            "32年（2020）:1,933（100.0）\n",
            "37年（2025）:1,911（100.0）\n",
            "42年（2030）:1,871（100.0）\n",
            "47年（2035）:1,818（100.0）\n"
          ]
        }
      ],
      "source": [
        "import urllib\n",
        "import urllib.request\n",
        "import json\n",
        "\n",
        "url = 'https://ckan.pf-sapporo.jp/api/3/action/datastore_search?resource_id=710b0236-6b28-441e-8500-f5c9be2e4c4a'\n",
        "response = urllib.request.urlopen(url)\n",
        "content = json.loads(response.read().decode('utf8'))\n",
        "\n",
        "#値を取り出すための変数を用意\n",
        "recode = content[\"result\"][\"records\"][2]\n",
        "for k, v in recode.items():\n",
        "    print(k + \":\" + str(v))"
      ]
    },
    {
      "cell_type": "markdown",
      "metadata": {
        "id": "An33dnX2998m"
      },
      "source": [
        "## WebAPIを利用し取得したJSONデータのグラフ化\n",
        "データ構造が分かると目的のデータを取得することができる"
      ]
    },
    {
      "cell_type": "code",
      "execution_count": null,
      "metadata": {
        "colab": {
          "base_uri": "https://localhost:8080/",
          "height": 382
        },
        "id": "GHMaXwvXkgTL",
        "outputId": "ce0893cc-37f4-4917-a57a-9bc527807cbc"
      },
      "outputs": [
        {
          "ename": "ModuleNotFoundError",
          "evalue": "ignored",
          "output_type": "error",
          "traceback": [
            "\u001b[0;31m---------------------------------------------------------------------------\u001b[0m",
            "\u001b[0;31mModuleNotFoundError\u001b[0m                       Traceback (most recent call last)",
            "\u001b[0;32m<ipython-input-4-9c355ca34026>\u001b[0m in \u001b[0;36m<module>\u001b[0;34m()\u001b[0m\n\u001b[1;32m      4\u001b[0m \u001b[0;32mimport\u001b[0m \u001b[0mre\u001b[0m\u001b[0;34m\u001b[0m\u001b[0;34m\u001b[0m\u001b[0m\n\u001b[1;32m      5\u001b[0m \u001b[0;32mimport\u001b[0m \u001b[0mmatplotlib\u001b[0m\u001b[0;34m.\u001b[0m\u001b[0mpyplot\u001b[0m \u001b[0;32mas\u001b[0m \u001b[0mplt\u001b[0m\u001b[0;34m\u001b[0m\u001b[0;34m\u001b[0m\u001b[0m\n\u001b[0;32m----> 6\u001b[0;31m \u001b[0;32mimport\u001b[0m \u001b[0mjapanize_matplotlib\u001b[0m\u001b[0;34m\u001b[0m\u001b[0;34m\u001b[0m\u001b[0m\n\u001b[0m\u001b[1;32m      7\u001b[0m \u001b[0;34m\u001b[0m\u001b[0m\n\u001b[1;32m      8\u001b[0m \u001b[0murl\u001b[0m \u001b[0;34m=\u001b[0m \u001b[0;34m'https://ckan.pf-sapporo.jp/api/3/action/datastore_search?resource_id=710b0236-6b28-441e-8500-f5c9be2e4c4a'\u001b[0m\u001b[0;34m\u001b[0m\u001b[0;34m\u001b[0m\u001b[0m\n",
            "\u001b[0;31mModuleNotFoundError\u001b[0m: No module named 'japanize_matplotlib'",
            "",
            "\u001b[0;31m---------------------------------------------------------------------------\u001b[0;32m\nNOTE: If your import is failing due to a missing package, you can\nmanually install dependencies using either !pip or !apt.\n\nTo view examples of installing some common dependencies, click the\n\"Open Examples\" button below.\n\u001b[0;31m---------------------------------------------------------------------------\u001b[0m\n"
          ]
        }
      ],
      "source": [
        "import urllib\n",
        "import urllib.request\n",
        "import json\n",
        "import re\n",
        "import matplotlib.pyplot as plt\n",
        "import japanize_matplotlib\n",
        "\n",
        "url = 'https://ckan.pf-sapporo.jp/api/3/action/datastore_search?resource_id=710b0236-6b28-441e-8500-f5c9be2e4c4a'\n",
        "response = urllib.request.urlopen(url)\n",
        "content = json.loads(response.read().decode('utf8'))\n",
        "\n",
        "#値を取り出すための変数を用意\n",
        "recode = content[\"result\"][\"records\"][2]\n",
        "#データラベルを初期化\n",
        "label = []\n",
        "#グラフデータを初期化\n",
        "data = []\n",
        "\n",
        "listdata = list(recode.items()) \n",
        "listdata.pop(0)\n",
        "listdata.pop(0)\n",
        "for k, v in listdata:\n",
        "    l = re.search('[0-9]+年', k).group()\n",
        "    label.append(l)\n",
        "    v = v.replace(',','')\n",
        "    n = int(re.search('[0-9]+', v).group())\n",
        "    data.append(n*1000)\n",
        "print(label, data)\n",
        "x = [ 1, 2, 3, 4, 5, 6, 7 ]\n",
        "plt.bar( x, data ,tick_label = label)\n",
        "\n",
        "plt.show()"
      ]
    },
    {
      "cell_type": "markdown",
      "metadata": {
        "id": "E8BH5K8wfdit"
      },
      "source": []
    },
    {
      "cell_type": "markdown",
      "metadata": {
        "id": "S12stsdeBHD4"
      },
      "source": [
        "## 気象庁のデータを取得し天気概況を表示するプログラム\n",
        "気象庁が公開している防災情報からWebAPIを使ってアクセスする場合<br>\n",
        "https://www.jma.go.jp/bosai/<br>\n",
        "一日に数回更新されるデータとなりますので、WebAPIとしての利用価値を感じられると思います。\n",
        "\n"
      ]
    },
    {
      "cell_type": "code",
      "execution_count": null,
      "metadata": {
        "id": "hcHUMK0Skm-J"
      },
      "outputs": [],
      "source": [
        "import urllib\n",
        "import urllib.request\n",
        "import json\n",
        "#全国JSONはこちらからhttps://www.jma.go.jp/bosai/forecast/data/forecast/010000.json\n",
        "#詳細データ\n",
        "url = 'https://www.jma.go.jp/bosai/forecast/data/forecast/016000.json'\n",
        "#概況\n",
        "url = 'https://www.jma.go.jp/bosai/forecast/data/overview_forecast/016000.json'\n",
        "response = urllib.request.urlopen(url)\n",
        "content = json.loads(response.read().decode('utf8'))\n",
        "\n",
        "#概況の表示\n",
        "print(content[\"text\"])"
      ]
    },
    {
      "cell_type": "markdown",
      "metadata": {
        "id": "l1N1CIrwkKVX"
      },
      "source": [
        "# オブジェクト指向（class）について(参考)\n",
        "\n",
        "この方法の一つがオブジェクト指向プログラミングと言われています。オブジェクト指向プログラミングではプログラムコードの\n",
        "再利用を効率よく行うことできることがメリットです。\n",
        "\n",
        "この中で重要なキーワードがクラスといわれる考え方で扱うデータと処理（メソッド）を一体化した仕組みを指します。\n",
        "\n",
        "クラス名は慣例として最初の１文字を大文字にします"
      ]
    },
    {
      "cell_type": "code",
      "execution_count": null,
      "metadata": {
        "id": "NW0wlRxpkZBt"
      },
      "outputs": [],
      "source": [
        "#クラス定義\n",
        "class Person:\n",
        "    pass #なんの命令もない空クラス（型）\n",
        "    \n",
        "#実体の作成　１つ目　変数a、二つ目　変数b\n",
        "a = Person()\n",
        "b = Person()\n",
        "#１つ目の実体のxという変数に10を代入\n",
        "a.x = 10\n",
        "#２つ目の実体のxという変数に20を代入\n",
        "b.x = 20\n",
        "#１つ目aと二つ目bの実体のxという変数を出力 \n",
        "print(\"a.x = \", a.x)\n",
        "print(\"b.x = \", b.x)"
      ]
    },
    {
      "cell_type": "markdown",
      "metadata": {
        "id": "m-7p5xDjlKCw"
      },
      "source": [
        "## クラスのメソッド定義\n",
        "\n",
        "クラスにはメソッド（処理）を追加することができます\n",
        "\n",
        "一つ一つの実態にデータを保持させることで別のデータとして取り扱うことができます"
      ]
    },
    {
      "cell_type": "code",
      "execution_count": null,
      "metadata": {
        "id": "BOnF_GwdlQUv"
      },
      "outputs": [],
      "source": [
        "class Student: \n",
        "    #数学の点数を管理する処理\n",
        "    def set_m(self,m):\n",
        "        #第二引数は17行目以降のset_mの引数となり\n",
        "        #実体のデータmとして管理・操作できるように保存\n",
        "        self.m = m\n",
        "        if m >= 50:\n",
        "            #合否を実体のデータgradingとして設定\n",
        "            self.grading = \"good\"\n",
        "        else:\n",
        "            self.grading = \"bad\"\n",
        "\n",
        "a = Student()\n",
        "b = Student()\n",
        "c = Student()\n",
        "# Studentの中身を知らなくてもset_mが何をするのか知っていればOK\n",
        "a.set_m(75)\n",
        "b.set_m(48)\n",
        "c.set_m(95)\n",
        "print(\"a \", a.m ,a.grading)\n",
        "print(\"b \", b.m ,b.grading)\n",
        "print(\"c \", c.m ,c.grading)"
      ]
    },
    {
      "cell_type": "markdown",
      "metadata": {
        "id": "m5df7sSBl2Tz"
      },
      "source": [
        "## クラスの継承\n",
        "\n",
        "クラスはデータと処理を再利用するために継承という機能を使うことができます"
      ]
    },
    {
      "cell_type": "code",
      "execution_count": null,
      "metadata": {
        "id": "w54gJjc-l-sx"
      },
      "outputs": [],
      "source": [
        "class Student: \n",
        "    def set_m(self,m):\n",
        "        self.m = m\n",
        "        if m >= 50:\n",
        "            self.grading = \"good\"\n",
        "        else:\n",
        "            self.grading = \"bad\"\n",
        "#クラス宣言の括弧の中に利用したい機能のスーパークラスを記載します。\n",
        "class SubStudent(Student): \n",
        "    def set_e(self,e):\n",
        "        self.e = e\n",
        "        if e >= 50:\n",
        "            #合否を実体のデータe_gradingとして設定\n",
        "            self.e_grading = \"good\"\n",
        "        else:\n",
        "            self.e_grading = \"bad\"\n",
        "a = SubStudent()\n",
        "a.set_m(80)\n",
        "a.set_e(30)\n",
        "print(\"a Mathematics\", a.m ,a.grading)\n",
        "print(\"a English\", a.e ,a.e_grading)"
      ]
    },
    {
      "cell_type": "markdown",
      "metadata": {
        "id": "dJw2eijC6lpj"
      },
      "source": [
        "# 機械学習\n",
        "https://colab.research.google.com/drive/12N4m_RYKqrpozRzh9qe7nQE_sIqQH9U8"
      ]
    },
    {
      "cell_type": "markdown",
      "metadata": {
        "id": "ei08kmR37CGR"
      },
      "source": [
        "# LaTeX\n",
        "https://colab.research.google.com/github/kalz2q/mycolabnotebooks/blob/master/learnlatex.ipynb"
      ]
    }
  ],
  "metadata": {
    "colab": {
      "collapsed_sections": [],
      "name": "統計とグラフとクラス.ipynb",
      "provenance": [],
      "toc_visible": true
    },
    "kernelspec": {
      "display_name": "Python 3.9.9 64-bit",
      "language": "python",
      "name": "python3"
    },
    "language_info": {
      "name": "python",
      "version": "3.9.9"
    },
    "vscode": {
      "interpreter": {
        "hash": "82ed002fa2d4956f5c6aec99bcefe0f73a9f79882f3c9e2319b14958a5896ac5"
      }
    }
  },
  "nbformat": 4,
  "nbformat_minor": 0
}
