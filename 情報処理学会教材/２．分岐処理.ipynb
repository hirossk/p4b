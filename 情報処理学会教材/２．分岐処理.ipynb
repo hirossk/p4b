{
  "cells": [
    {
      "cell_type": "markdown",
      "metadata": {
        "id": "mh2o9mk0F76k"
      },
      "source": [
        "# `分岐処理`"
      ]
    },
    {
      "cell_type": "markdown",
      "metadata": {
        "id": "aUxFGau00iSl"
      },
      "source": [
        "**コンテンツ一覧**\n",
        "*   [プログラムの構造，順次処理，計算](https://colab.research.google.com/drive/1p9pSDwnozHR7tYctQuNFsuCTo0fLcDch?usp=sharing)\n",
        "*   分岐処理（本コンテンツ）\n",
        "*   [反復処理](https://colab.research.google.com/drive/1gwUs1jp9U_zQ4xGc3J9k54EQe67D42ZK?usp=sharing)\n",
        "*   [応用的プログラミング1](https://colab.research.google.com/drive/1ONXeLMq3lpmHJN55UGctxq_rAc-zLXWC?usp=sharing)\n",
        "*   [応用的プログラミング2](https://colab.research.google.com/drive/11C6Z_4cX9OW8heGiyGGQJuaqelss_UWs?usp=sharing)"
      ]
    },
    {
      "cell_type": "markdown",
      "metadata": {
        "id": "Kp5ZUjPWSZI0"
      },
      "source": [
        "# 分岐処理(2分岐)"
      ]
    },
    {
      "cell_type": "markdown",
      "metadata": {
        "id": "bJ8T7ZkiDoZD"
      },
      "source": [
        "「分岐」とは条件となる式を書き，場合分けの処理をする構造です．"
      ]
    },
    {
      "cell_type": "markdown",
      "metadata": {
        "id": "AMTiqGrIGcH7"
      },
      "source": [
        "例）点数x が60 点以上ならば，「合格」を表示し，そうでなければ「不合格」を表示するプログラム"
      ]
    },
    {
      "cell_type": "code",
      "execution_count": null,
      "metadata": {
        "id": "Pn3Z0URaF3x-"
      },
      "outputs": [],
      "source": [
        "x = 80\n",
        "if x >= 60:\n",
        "  print(\"合格\")\n",
        "else:\n",
        "  print(\"不合格\")"
      ]
    },
    {
      "cell_type": "markdown",
      "metadata": {
        "id": "ljAy3_bKKqT2"
      },
      "source": [
        "このプログラムでは，x≧60 という条件を判定し，成り立てば「合格」，成り立たなければ「不合格」と表示します．"
      ]
    },
    {
      "cell_type": "markdown",
      "metadata": {
        "id": "Z13ghMqKLCAE"
      },
      "source": [
        "**if構文**\n",
        "```python\n",
        "if 条件:\n",
        "  条件が成り立ったときの処理\n",
        "else:\n",
        "  条件が成り立たなかったときの処理\n",
        "```\n",
        "* if 条件:の後で改行\n",
        "  * 字下げ（インデント）して，条件が成立したときの処理を書く\n",
        "    * 字下げは同じ文字数の空白・タブで（エディタに任せるとよい）\n",
        "  * 同じ字下げをして，複数行書くことができる\n",
        "* else:の後で改行\n",
        "  * 同じ字下げをして，条件が成立しなかったときの処理を書く\n",
        "    * 同じ字下げでなければ，エラーになる\n",
        "  * 成立したときと同様に，複数行書くことができる\n",
        "\n",
        "> 注意:　見た目が同じでも文字（空白とタブ）が違うとエラーになるので，字下げはエディタに任せましょう"
      ]
    },
    {
      "cell_type": "markdown",
      "metadata": {
        "id": "N9qBqpDAQBv_"
      },
      "source": [
        "**条件の書き方**\n",
        "* ifなどに使う条件は変数や値や計算式を以下のような演算子を使って比較します．"
      ]
    },
    {
      "cell_type": "markdown",
      "metadata": {
        "id": "ExGZeSR5Okkh"
      },
      "source": [
        "|比較演算|意味|\n",
        "|:-:|:-:|\n",
        "|a == b|aとbは等しい|\n",
        "|a != b|aとbは等しくない|\n",
        "|a < b|aはbより小さい|\n",
        "|a <= b|aはb以下|\n",
        "|a > b|aはbより大きい|\n",
        "|a >= b|aはb以上|\n",
        "\n",
        "\n",
        "\n",
        "\n",
        "\n",
        "\n"
      ]
    },
    {
      "cell_type": "markdown",
      "metadata": {
        "id": "EiwpSBr8HCXb"
      },
      "source": [
        "演習）上の例のプログラムで，x の値だけを変更して「不合格」と表示されるようにプログラムを変更しましょう。"
      ]
    },
    {
      "cell_type": "code",
      "execution_count": null,
      "metadata": {
        "id": "A7SlhWFcHaB0"
      },
      "outputs": [],
      "source": []
    },
    {
      "cell_type": "markdown",
      "metadata": {
        "id": "liyiGI2nHXhx"
      },
      "source": [
        "演習）上の例のプログラムを参考に『30 点未満ならば「再試験」そうでなければ「合格」と表示される』プログラムを作成しましょう。"
      ]
    },
    {
      "cell_type": "code",
      "execution_count": null,
      "metadata": {
        "id": "IkEh3k6aHnAw"
      },
      "outputs": [],
      "source": []
    },
    {
      "cell_type": "markdown",
      "metadata": {
        "id": "7oreMWFoUrsH"
      },
      "source": [
        "演習）これまでの例のプログラムを参考に，点数を入力してらい，それが60 点以上ならば，「合格」を表示し，そうでなければ「不合格」を表示するプログラムを作成しましょう。"
      ]
    },
    {
      "cell_type": "code",
      "execution_count": null,
      "metadata": {
        "id": "UK4qXnPHU7Pk"
      },
      "outputs": [],
      "source": []
    },
    {
      "cell_type": "markdown",
      "metadata": {
        "id": "0C8Oivd9p2yi"
      },
      "source": [
        "# 分岐処理(多分岐)"
      ]
    },
    {
      "cell_type": "markdown",
      "metadata": {
        "id": "rwP4Jhz3Pa3W"
      },
      "source": [
        "例）3つ以上の分岐"
      ]
    },
    {
      "cell_type": "code",
      "execution_count": null,
      "metadata": {
        "id": "iM3V1I3qPjVY"
      },
      "outputs": [],
      "source": [
        "x = 70\n",
        "if x >= 80:\n",
        "  print(\"A\")\n",
        "elif x >= 60:          # x>=80が不成立でx>=60すなわち60<=x<80のとき\n",
        "  print(\"B\")\n",
        "else:\n",
        "  print(\"不合格\")"
      ]
    },
    {
      "cell_type": "markdown",
      "metadata": {
        "id": "dY62qG0eQNp5"
      },
      "source": [
        "このプログラムでは，x≧80 という条件を判定し，成り立てば「A」，成り立たなくて60以上（つまり80未満60以上）であれば「B」，そうでなければ（つまり60未満ならば）「不合格」と表示します．"
      ]
    },
    {
      "cell_type": "markdown",
      "metadata": {
        "id": "xp7xG0vIQvfZ"
      },
      "source": [
        "**elif**\n",
        "```python\n",
        "if 条件1:\n",
        "  条件1が成り立ったときの処理\n",
        "elif 条件2:\n",
        "  条件1が成り立たず，条件2が成り立ったときの処理\n",
        "else:\n",
        "  どの条件も成り立たなかったときの処理\n",
        "```\n",
        "* ifの後に書かれた「条件1」が成り立たなかったときに別の「条件2」で判定する構文\n",
        "  * 条件2:の後，改行し，同じ字下げをする（複数行書ける）\n",
        "  * 同じ字下げをして，複数行書くことができる\n",
        "* さらにelifを使い，別の条件をいくつでも書くこともできる\n",
        "```python\n",
        "if 条件1:\n",
        "  条件1が成り立ったときの処理\n",
        "elif 条件2:\n",
        "  条件1が成り立たず，条件2が成り立ったときの処理\n",
        "elif 条件3:\n",
        "  条件1,2が成り立たず，条件3が成り立ったときの処理\n",
        "elif 条件4:\n",
        "  条件1,2,3が成り立たず，条件4が成り立ったときの処理\n",
        "  …\n",
        "else:\n",
        "  どの条件も成り立たなかったときの処理\n",
        "```"
      ]
    },
    {
      "cell_type": "markdown",
      "metadata": {
        "id": "mHgQpa9HQYKF"
      },
      "source": [
        "演習）これまでのプログラムを参考に，点数を入力してらい，以下の基準で評価を表示するプログラムを作成しましょう。\n",
        "\n",
        "|評価|点数|\n",
        "|---|----|\n",
        "|S|90〜100|\n",
        "|A|80〜89|\n",
        "|B|60〜79|\n",
        "|C|40〜59|\n",
        "|X|0〜39|\n"
      ]
    },
    {
      "cell_type": "code",
      "execution_count": null,
      "metadata": {
        "id": "51UDQGLdTwjq"
      },
      "outputs": [],
      "source": []
    },
    {
      "cell_type": "markdown",
      "metadata": {
        "id": "x4p0XZZrXxcj"
      },
      "source": [
        "演習）これまでのプログラムを参考に，最高気温を入力してもらい，以下の基準で種別を表示するプログラムを作成しましょう。\n",
        "\n",
        "|最高気温|種別|\n",
        "|---|----|\n",
        "|35℃以上|猛暑日|\n",
        "|30℃以上35℃未満|真夏日|\n",
        "|25℃以上30℃未満|夏日|\n",
        "|0℃以上25℃未満|なし|\n",
        "|0℃未満|真冬日|"
      ]
    },
    {
      "cell_type": "code",
      "execution_count": null,
      "metadata": {
        "id": "8iHeHZwJx4rD"
      },
      "outputs": [],
      "source": []
    },
    {
      "cell_type": "markdown",
      "metadata": {
        "id": "wSmvEoD8Soae"
      },
      "source": [
        "# 時刻を使う"
      ]
    },
    {
      "cell_type": "markdown",
      "metadata": {
        "id": "Us9AOApIZsjQ"
      },
      "source": [
        "例）時間であいさつを変える（１）"
      ]
    },
    {
      "cell_type": "code",
      "execution_count": null,
      "metadata": {
        "id": "yO_qn7vaZxkD"
      },
      "outputs": [],
      "source": [
        "h = int(input(\"今，何時かを入力してください: \"))\n",
        "if h <= 10:            # 10時台まで\n",
        "  print(\"おはよう\")\n",
        "elif h <= 16:          # 11時台から16時台まで\n",
        "  print(\"こんにちは\")\n",
        "elif h <= 22:          # 17時台から22時台まで\n",
        "  print(\"こんばんは\")\n",
        "else:                  # 23時以降\n",
        "  print(\"おやすみ\")"
      ]
    },
    {
      "cell_type": "markdown",
      "metadata": {
        "id": "mVKBdmQcS_Bo"
      },
      "source": [
        "このプログラムでは，入力された時間hをもとに，10時台までなら「おはよう」，それ以降16時台までならば「こんにちは」，それ以降22時台までならば「こんばんは」，それ以外（つまり，23時以降）ならば「おやすみ」と表示します．"
      ]
    },
    {
      "cell_type": "markdown",
      "metadata": {
        "id": "0wcZRgtaZtWD"
      },
      "source": [
        "例）時間であいさつを変える（２）"
      ]
    },
    {
      "cell_type": "code",
      "execution_count": null,
      "metadata": {
        "id": "DSnueiEkaIh_"
      },
      "outputs": [],
      "source": [
        "h = int(input(\"今，何時かを入力してください: \"))\n",
        "if h < 0 or h >= 24:       # 0-23 の範囲を外れている\n",
        "  print(\"入力が正しくありません\")\n",
        "elif h <= 4 or h == 23:    # 0時台から4時台，23時台\n",
        "  print(\"おやすみ\")\n",
        "elif h <= 10:            # 10時台まで\n",
        "  print(\"おはよう\")\n",
        "elif h <= 16:            # 11時台から16時台まで\n",
        "  print(\"こんにちは\")\n",
        "else:                    # 17時台から22時台まで\n",
        "  print(\"こんばんは\")"
      ]
    },
    {
      "cell_type": "markdown",
      "metadata": {
        "id": "JBxC_04NTihA"
      },
      "source": [
        "このプログラムでは，先程の例に，入力された時間hが，0から23の範囲かをまずチェックして，外れていれば「入力が正しくありません」と表示します．hが0から23の間であることが保証された後，hが4以下もしくは23（つまり0〜4時台と23時台）ならば「おやすみ」，5〜10時台ならば「おはよう」，11時台から16時までならば「こんにちは」，それ以外（つまり17時台から22時台まで）ならば「こんばんは」を表示します．\n",
        "0から23の範囲かのチェックは，0未満もしくは24以上かを調べることになります．2つの条件式を並べ，どちらかが成立すれば処理を実行するというようにしたいので，下に示す論理演算子*or*を使います．"
      ]
    },
    {
      "cell_type": "markdown",
      "metadata": {
        "id": "xm_n3dFb2IFG"
      },
      "source": [
        "**論理演算**\n",
        "* 条件式など真（成立すること），偽（成立しないこと）の値の演算を行うためのものです．条件式の以下のような記述と意味になり，それらを組み合わせることができます．\n",
        "\n",
        "|種類|「条件」での記述|意味|\n",
        "|:--:|:--:|:--|\n",
        "|論理和|条件1 or 条件2|条件1か条件2のどちらかが成立していれば成立（真）|\n",
        "|論理積|条件1 and 条件2|条件1が条件2ともに成立していれば成立（真）|\n",
        "|否定|not 条件|条件の成立(真)，不成立(偽)を逆にする|\n"
      ]
    },
    {
      "cell_type": "markdown",
      "metadata": {
        "id": "maZ7VHKfbBil"
      },
      "source": [
        "ここまで，時間はキーボードから入力していましたが，現在の時間からメッセージを変えるようなプログラムを考えていこうと思います．"
      ]
    },
    {
      "cell_type": "markdown",
      "metadata": {
        "id": "sG9eA5C3ectH"
      },
      "source": [
        "例）現在の時間を得る"
      ]
    },
    {
      "cell_type": "code",
      "execution_count": null,
      "metadata": {
        "id": "klECGxhMeiQJ"
      },
      "outputs": [],
      "source": [
        "import datetime\n",
        "\n",
        "now = datetime.datetime.now()   # datatimeモジュールを使い，現在の日時を得る\n",
        "print(now)                      # now の値を表示\n",
        "print(now.hour)                 # 「時」だけを抜き出す"
      ]
    },
    {
      "cell_type": "markdown",
      "metadata": {
        "id": "TSl9pLsebP7Z"
      },
      "source": [
        "datetimeは日時，時刻に関するモジュールです．datetime.datetime.now()で，\n",
        "\n",
        "```\n",
        "2020-02-21 06:41:58.515864\n",
        "```\n",
        "という形で，現在の年月日，時刻を得ることができます．さらに，**.hour** をつけることにより，時間だけを取り出すことができます．\n"
      ]
    },
    {
      "cell_type": "markdown",
      "metadata": {
        "id": "M7VGqBXVcF2k"
      },
      "source": [
        "こうやって，現在の時間を得ることができましたが，なにかおかしいと感じないでしょうか？ Google Colaboratory で得られる時間は，世界標準時(協定世界時:UTC)なので，+9時間の時差があります．"
      ]
    },
    {
      "cell_type": "markdown",
      "metadata": {
        "id": "gF_DyGxuelVo"
      },
      "source": [
        "例）現在の時間を得る（日本の時間を得る）"
      ]
    },
    {
      "cell_type": "code",
      "execution_count": null,
      "metadata": {
        "id": "r7OcBWjqet9k"
      },
      "outputs": [],
      "source": [
        "import datetime\n",
        "\n",
        "now = datetime.datetime.now(datetime.timezone(datetime.timedelta(hours=9))) # 日本は標準時(UTC)より+9時間の時差\n",
        "print(now)\n",
        "print(now.hour)"
      ]
    },
    {
      "cell_type": "markdown",
      "metadata": {
        "id": "wPPHOX0ccgS8"
      },
      "source": [
        "そこで，この例のように,\n",
        "\n",
        "```\n",
        "now = datetime.datetime.now(\n",
        "    datetime.timezone(datetime.timedelta(hours=9))) \n",
        "```\n",
        "\n",
        "として，タイムゾーンを+9時間の時差でセットして現在時刻を得ると，\n",
        "\n",
        "```\n",
        "15\n",
        "```\n",
        "\n",
        "というように日本の時間を得ることができます．\n"
      ]
    },
    {
      "cell_type": "markdown",
      "metadata": {
        "id": "5hryYgDRfPc2"
      },
      "source": [
        "演習）これまでのプログラムを参考に，現在の時間であいさつを表示するプログラムを作成しましょう。"
      ]
    },
    {
      "cell_type": "code",
      "execution_count": null,
      "metadata": {
        "id": "xfea7Q5VfW_d"
      },
      "outputs": [],
      "source": []
    },
    {
      "cell_type": "markdown",
      "metadata": {
        "id": "DEoXWgU7ISgO"
      },
      "source": [
        "[前のコンテンツ](https://colab.research.google.com/drive/1p9pSDwnozHR7tYctQuNFsuCTo0fLcDch?usp=sharing)　[次のコンテンツ](https://colab.research.google.com/drive/1gwUs1jp9U_zQ4xGc3J9k54EQe67D42ZK?usp=sharing)"
      ]
    }
  ],
  "metadata": {
    "colab": {
      "collapsed_sections": [],
      "name": "IPSJ-Mooc-1-2.ipynb",
      "provenance": []
    },
    "kernelspec": {
      "display_name": "Python 3.9.9 64-bit",
      "language": "python",
      "name": "python3"
    },
    "language_info": {
      "name": "python",
      "version": "3.9.9"
    },
    "vscode": {
      "interpreter": {
        "hash": "82ed002fa2d4956f5c6aec99bcefe0f73a9f79882f3c9e2319b14958a5896ac5"
      }
    }
  },
  "nbformat": 4,
  "nbformat_minor": 0
}
