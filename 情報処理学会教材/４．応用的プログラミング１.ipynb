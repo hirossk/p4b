{
  "nbformat": 4,
  "nbformat_minor": 0,
  "metadata": {
    "colab": {
      "name": "IPSJ-Mooc-1-4-1.ipynb",
      "provenance": [],
      "collapsed_sections": []
    },
    "kernelspec": {
      "name": "python3",
      "display_name": "Python 3"
    }
  },
  "cells": [
    {
      "cell_type": "markdown",
      "metadata": {
        "id": "wNkVNuurD05h"
      },
      "source": [
        "# 応用的プログラミング1"
      ]
    },
    {
      "cell_type": "markdown",
      "metadata": {
        "id": "C-5B1ieg3oR2"
      },
      "source": [
        "**コンテンツ一覧**\n",
        "*   [プログラムの構造，順次処理，計算](https://colab.research.google.com/drive/1p9pSDwnozHR7tYctQuNFsuCTo0fLcDch?usp=sharing)\n",
        "*   [分岐処理](https://colab.research.google.com/drive/19ieYeHeSSmodPkkO2dcWz06_KQxaerCq?usp=sharing)\n",
        "*   [反復処理](https://colab.research.google.com/drive/1gwUs1jp9U_zQ4xGc3J9k54EQe67D42ZK?usp=sharing)\n",
        "*   応用的プログラミング1（本コンテンツ）\n",
        "*   [応用的プログラミング2](https://colab.research.google.com/drive/11C6Z_4cX9OW8heGiyGGQJuaqelss_UWs?usp=sharing)"
      ]
    },
    {
      "cell_type": "markdown",
      "metadata": {
        "id": "LBYFtHJiFHma"
      },
      "source": [
        "# リスト"
      ]
    },
    {
      "cell_type": "markdown",
      "metadata": {
        "id": "oUkN4vfjFGRI"
      },
      "source": [
        "並べたデータを扱うために一般的なプログラミング言語では，変数名とそれが何番目であるかを\n",
        "表す添字（そえじ）を組にして扱う*配列*が用いられます．\n",
        "一般的なプログラミング言語で配列は，同じ型のデータをあらかじめ宣言した個数，並べて扱います．\n",
        "これに対して，Pythonのリストは任意の型のデータを順序のみを決めて並べるもので，個数の制限等はなく，データの追加，削除が柔軟にできます．このように柔軟な形で利用できるリストですが，ここでは，配列と同等の形で扱う基本的なプログラムを紹介していきます．\n"
      ]
    },
    {
      "cell_type": "markdown",
      "metadata": {
        "id": "MszrYE8WE492"
      },
      "source": [
        "例）(0から数え始めて）3番目と7番目の要素を加えるプログラム"
      ]
    },
    {
      "cell_type": "code",
      "metadata": {
        "id": "XxCMnw7ZDyiZ"
      },
      "source": [
        "a = [56,3,62,17,87,22,36,83,21,12]    # リストa の定義\n",
        "goukei = 0\n",
        "goukei = a[3] + a[7]\n",
        "print(goukei)"
      ],
      "execution_count": null,
      "outputs": []
    },
    {
      "cell_type": "markdown",
      "metadata": {
        "id": "QcfAoo0vMiLN"
      },
      "source": [
        "このプログラムでは最初の行で10個の値が並んだリストをaに代入し，その中の特定の値を足して，表示しています．リストは，**[ ]**の中に，値を**,**で区切って列挙します．リストの中の値は，変数名の後に**[添字]**を付けることによって値を参照したり，値を書き換えたりすることができます．添字にはリストの最初を0としたデータの順序を表す数を指定します．上のプログラムで**a[3]**には0から数えるので17が，**a[7]**には83が入っています．この2つを加えるので，goukeiの値は100になり，それが表示されます．"
      ]
    },
    {
      "cell_type": "markdown",
      "metadata": {
        "id": "oYMb0xU1EBOS"
      },
      "source": [
        "例）リスト内の数値の合計を求めるプログラム"
      ]
    },
    {
      "cell_type": "code",
      "metadata": {
        "id": "rplKjoe8ERoM"
      },
      "source": [
        "a = [56,3,62,17,87,22,36,83,21,12]\n",
        "goukei = 0\n",
        "for i in range(0,10,1):\n",
        "  goukei = goukei + a[i]\n",
        "print(goukei)"
      ],
      "execution_count": null,
      "outputs": []
    },
    {
      "cell_type": "markdown",
      "metadata": {
        "id": "l04Si_kvPE07"
      },
      "source": [
        "これは，反復処理を使って，リスト中のすべての値を足していくプログラムです．最初に変数goukeiを0にし，for文で，iに0,1,...,8,9の値を入れて，goukei = goukei+a[i]を計算するので，リストの中のすべての値の合計を求めることができます．"
      ]
    },
    {
      "cell_type": "markdown",
      "metadata": {
        "id": "9OSF3xcHFRaa"
      },
      "source": [
        "演習）上の例のプログラムを参考に『リストa の中の最小値を表示する』プログラムを作成しましょう。"
      ]
    },
    {
      "cell_type": "code",
      "metadata": {
        "id": "27vYKTfiFarv"
      },
      "source": [
        "a = [56,3,62,17,87,22,36,83,21,12]\n"
      ],
      "execution_count": null,
      "outputs": []
    },
    {
      "cell_type": "markdown",
      "metadata": {
        "id": "wExsmvEHg5JY"
      },
      "source": [
        "演習）上のプログラムのリストの点数を，以下の基準で評価して，それぞれの点数とともに表示するプログラムを作成しましょう。\n",
        "\n",
        "|評価|点数|\n",
        "|---|----|\n",
        "|S|90〜100|\n",
        "|A|80〜89|\n",
        "|B|60〜79|\n",
        "|C|40〜59|\n",
        "|X|0〜39|"
      ]
    },
    {
      "cell_type": "code",
      "metadata": {
        "id": "uO1FGPyvknYc"
      },
      "source": [
        "a = [56,3,62,17,87,22,36,83,21,12]\n"
      ],
      "execution_count": null,
      "outputs": []
    },
    {
      "cell_type": "markdown",
      "metadata": {
        "id": "dYTwGEg6Fz0F"
      },
      "source": [
        "# 乱数"
      ]
    },
    {
      "cell_type": "markdown",
      "metadata": {
        "id": "HCB81PHFQx6V"
      },
      "source": [
        "乱数とはある一定の範囲内において規則性なく生成される数です．乱数を使うことによって，実行するたびに挙動が変わる不規則性を生じさせることができるので，ゲームやシミュレーションなどのプログラムを作成するために利用されます．"
      ]
    },
    {
      "cell_type": "markdown",
      "metadata": {
        "id": "HPJ2_NGxS8tT"
      },
      "source": [
        "例）「0 ～ 9」までの乱数を5個表示するプログラム"
      ]
    },
    {
      "cell_type": "code",
      "metadata": {
        "id": "P6dsASY_vm4G"
      },
      "source": [
        "import random\n",
        "for i in range(5):\n",
        "  print(random.randrange(10))"
      ],
      "execution_count": null,
      "outputs": []
    },
    {
      "cell_type": "markdown",
      "metadata": {
        "id": "FS7-efSRwtUl"
      },
      "source": [
        "このプログラムは，randomパッケージを使い，random.randrange(10)で0から9までの整数の乱数の生成・表示を5回繰り返しています。"
      ]
    },
    {
      "cell_type": "markdown",
      "metadata": {
        "id": "uF_Lbdd0F057"
      },
      "source": [
        "例）ある値a があるときに，0 ～ 9 までの数をランダムに発生させる乱数r と比較して，大きい場合に「a の方が大きい」，小さい場合に「a の方が小さい」，等しい場合に「当たり」と表示するプログラム"
      ]
    },
    {
      "cell_type": "code",
      "metadata": {
        "id": "UpBxJCWHF-Ar"
      },
      "source": [
        "import random             # random モジュールを読み込む\n",
        "a = 5\n",
        "r = random.randrange(10)  # 0～9までの整数をランダムに発生\n",
        "if a==r:\n",
        "  print(\"当たり\")\n",
        "elif a>r:\n",
        "  print(\"a の方が大きい\")\n",
        "elif a<r:\n",
        "  print(\"a の方が小さい\")"
      ],
      "execution_count": null,
      "outputs": []
    },
    {
      "cell_type": "markdown",
      "metadata": {
        "id": "UM2PLbIcSASf"
      },
      "source": [
        "このプログラムは，randomパッケージを使い，random.randrange(10)で0から9までの整数の乱数を生成して，rに代入します．これを，5という値が代入されているaと比較し，等しければ「当たり」，a>rならば「aの方が大きい」，a<rならば「aの方が小さい」と表示します．a=rとa>rが成り立たなければ，a<rであるので，以下のように書き換えても問題ありません．"
      ]
    },
    {
      "cell_type": "code",
      "metadata": {
        "id": "P0OgGy6ZTCX4"
      },
      "source": [
        "import random\n",
        "a = 5\n",
        "r = random.randrange(10)\n",
        "if a==r:\n",
        "  print(\"当たり\")\n",
        "elif a>r:\n",
        "  print(\"a の方が大きい\")\n",
        "else:\n",
        "  print(\"a の方が小さい\")"
      ],
      "execution_count": null,
      "outputs": []
    },
    {
      "cell_type": "markdown",
      "metadata": {
        "id": "o8B9ctosHt5a"
      },
      "source": [
        "例）「1 ～ 10」までの乱数を表示するプログラム"
      ]
    },
    {
      "cell_type": "code",
      "metadata": {
        "id": "tRzjbZYZHxc6"
      },
      "source": [
        "import random\n",
        "r = random.randrange(10)+1\n",
        "print(r)"
      ],
      "execution_count": null,
      "outputs": []
    },
    {
      "cell_type": "markdown",
      "metadata": {
        "id": "iN6Nt5UUTVfU"
      },
      "source": [
        "このプログラムは1から10までの乱数を生成するプログラムです．randrangeは前回紹介したrange関数と同様に引数を指定することで開始値が指定できるので，以下のようにも書くことができます．"
      ]
    },
    {
      "cell_type": "code",
      "metadata": {
        "id": "6ibZOu4NTqTG"
      },
      "source": [
        "import random\n",
        "r = random.randrange(1,11)\n",
        "print(r)"
      ],
      "execution_count": null,
      "outputs": []
    },
    {
      "cell_type": "markdown",
      "metadata": {
        "id": "m9z9ILKDUzhO"
      },
      "source": [
        "**random.randrange()**\n",
        "* 引数が1個：random.randrange(値)\n",
        "  * 0から値-1までの整数の乱数を生成\n",
        "* 引数が2個：random.randrange(開始値, 終了値)\n",
        "  * 開始値から終了値-1までの整数の乱数を生成"
      ]
    },
    {
      "cell_type": "markdown",
      "metadata": {
        "id": "yCWQCiRiH7B0"
      },
      "source": [
        "演習）上の例のプログラムに『a とr の値を表示』するよう追加を行い，「当たり」と表示されているときには確かに a=r であるなど，メッセージが正しいことを確認しましょう。"
      ]
    },
    {
      "cell_type": "code",
      "metadata": {
        "id": "XRDMuWf1IJDi"
      },
      "source": [
        ""
      ],
      "execution_count": null,
      "outputs": []
    },
    {
      "cell_type": "markdown",
      "metadata": {
        "id": "fYYou-Oyf7WE"
      },
      "source": [
        "**while構文**\n",
        "```python\n",
        "while 条件式:\n",
        "  繰り返す処理\n",
        "```\n",
        "* 条件式が成立している間，繰り返し処理を行う\n",
        "* 繰り返す処理は，同じ字下げをして，複数行書くことができる"
      ]
    },
    {
      "cell_type": "markdown",
      "metadata": {
        "id": "082rMD01fyU3"
      },
      "source": [
        "演習）上の演習のプログラムをキーボードから当たるまでメッセージを表示しながら繰り返し入力を受け付ける「数あてゲーム」にしてみましょう。"
      ]
    },
    {
      "cell_type": "code",
      "metadata": {
        "id": "LVWHRmXzgF9g"
      },
      "source": [
        ""
      ],
      "execution_count": null,
      "outputs": []
    },
    {
      "cell_type": "markdown",
      "metadata": {
        "id": "urVydKBTwF_q"
      },
      "source": [
        "[前のコンテンツ](https://colab.research.google.com/drive/1gwUs1jp9U_zQ4xGc3J9k54EQe67D42ZK?usp=sharing)　[次のコンテンツ](https://colab.research.google.com/drive/11C6Z_4cX9OW8heGiyGGQJuaqelss_UWs?usp=sharing)"
      ]
    }
  ]
}