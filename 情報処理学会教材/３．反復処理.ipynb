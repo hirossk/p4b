{
  "cells": [
    {
      "cell_type": "markdown",
      "metadata": {
        "id": "OvvcRZA5thWU"
      },
      "source": [
        "# `反復処理`"
      ]
    },
    {
      "cell_type": "markdown",
      "metadata": {
        "id": "8-4ziLtw27mt"
      },
      "source": [
        "**コンテンツ一覧**\n",
        "*   [プログラムの構造，順次処理，計算](https://colab.research.google.com/drive/1p9pSDwnozHR7tYctQuNFsuCTo0fLcDch?usp=sharing)\n",
        "*   [分岐処理](https://colab.research.google.com/drive/19ieYeHeSSmodPkkO2dcWz06_KQxaerCq?usp=sharing)\n",
        "*   反復処理（本コンテンツ）\n",
        "*   [応用的プログラミング1](https://colab.research.google.com/drive/1ONXeLMq3lpmHJN55UGctxq_rAc-zLXWC?usp=sharing)\n",
        "*   [応用的プログラミング2](https://colab.research.google.com/drive/11C6Z_4cX9OW8heGiyGGQJuaqelss_UWs?usp=sharing)"
      ]
    },
    {
      "cell_type": "markdown",
      "metadata": {
        "id": "vAwMfckTfAtk"
      },
      "source": [
        "# 反復処理(for)"
      ]
    },
    {
      "cell_type": "markdown",
      "metadata": {
        "id": "uHZ8b4QdlzBZ"
      },
      "source": [
        "for文は，指定された値の範囲で変数を変化させながら反復（繰り返し）処理を行います．"
      ]
    },
    {
      "cell_type": "markdown",
      "metadata": {
        "id": "TSyQA-KNeew8"
      },
      "source": [
        "例）変数x に対して 10 を5 回加算をしながらその都度 x の値を表示するプログラム"
      ]
    },
    {
      "cell_type": "code",
      "execution_count": null,
      "metadata": {
        "id": "obr5Nz76ejWI"
      },
      "outputs": [],
      "source": [
        "x = 0\n",
        "print(\"x = \" , x)\n",
        "for i in range(1, 6, 1):    # 1から6未満の間1ずつカウントを増やしながら繰り返す\n",
        "  x = x + 10\n",
        "  print(\"x = \" , x)"
      ]
    },
    {
      "cell_type": "markdown",
      "metadata": {
        "id": "Oeyk4kF1fR4a"
      },
      "source": [
        "このプログラムではiを1から1ずつ増やしながら5まで変化させ，その繰り返しのたびにxに10を加え，その途中経過を表示します．"
      ]
    },
    {
      "cell_type": "markdown",
      "metadata": {
        "id": "fYYou-Oyf7WE"
      },
      "source": [
        "**for構文**\n",
        "```python\n",
        "for 変数 in range(値1, 値2, 増減値):\n",
        "  繰り返す処理\n",
        "```\n",
        "* 変数を値1から増減値ずつ変化させ，値2に等しいか超えたときに繰り返しを終了する\n",
        "  * 増減値が正の場合，変数の取る最大値は値2-1\n",
        "  * 増減値が負の場合，変数の取る最小値は値2+1\n",
        "* 同じ字下げをして，複数行書くことができる"
      ]
    },
    {
      "cell_type": "markdown",
      "metadata": {
        "id": "7izPbDeSjF2c"
      },
      "source": [
        "**range()関数**\n",
        "：指定された範囲の整数列を生成\n",
        "* 引数が1個：range(終了値)\n",
        "    * 0から終了値-1まで1刻みで（0, 1, ..., 終了値-1）\n",
        "      * range(5): 0,1,2,3,4\n",
        "* 引数が2個：range(開始値, 終了値)\n",
        "    * 開始値から終了値-1まで1刻みで（開始値, 開始値+1, ..., 終了値-1）\n",
        "      * range(2,5): 2,3,4\n",
        "* 引数が3個：range(開始値, 終了値, 増分)\n",
        "    * 増分が正：開始値から終了値以上にならない範囲で増分刻みで\n",
        "      * range(1,10,2): 1,3,5,7,9\n",
        "    * 増分が負：開始値から終了値以下にならない範囲で増分刻みで\n",
        "      * range(10,1,-2): 10,8,6,4,2"
      ]
    },
    {
      "cell_type": "markdown",
      "metadata": {
        "id": "J7XxV1lAeuLB"
      },
      "source": [
        "演習）上の例のプログラムを参考に『x の値を表示すると同時に繰り返している回数をその都度表示する』プログラムを作成しましょう。"
      ]
    },
    {
      "cell_type": "code",
      "execution_count": null,
      "metadata": {
        "id": "iMTbp6tJe4hg"
      },
      "outputs": [],
      "source": []
    },
    {
      "cell_type": "markdown",
      "metadata": {
        "id": "Oijwt1iWgIsZ"
      },
      "source": [
        "演習）上の例のプログラムを参考に繰り返す回数だけを変更して『x の値が100 になる』プログラムを作成しましょう。"
      ]
    },
    {
      "cell_type": "code",
      "execution_count": null,
      "metadata": {
        "id": "el_Dv5i8gUY1"
      },
      "outputs": [],
      "source": []
    },
    {
      "cell_type": "markdown",
      "metadata": {
        "id": "zgW3YzzNhkbu"
      },
      "source": [
        "演習）上の例のプログラムを参考に『x = x + 10』の部分だけを変更し，『1+2+3+4+5』の値を表示するプログラムを作成しましょう。"
      ]
    },
    {
      "cell_type": "code",
      "execution_count": null,
      "metadata": {
        "id": "uvQ57KK6hwco"
      },
      "outputs": [],
      "source": []
    },
    {
      "cell_type": "markdown",
      "metadata": {
        "id": "cR0ulKe1ItCL"
      },
      "source": [
        "# 反復処理と分岐処理の組み合わせ"
      ]
    },
    {
      "cell_type": "markdown",
      "metadata": {
        "id": "K6AWCloXiXQu"
      },
      "source": [
        "例）変数x に対して 10 を ５回加算をするが，『繰り返している回数が奇数回の場合だけ』 x の値を表示するプログラム"
      ]
    },
    {
      "cell_type": "code",
      "execution_count": null,
      "metadata": {
        "id": "7S1vSf3ziaXq"
      },
      "outputs": [],
      "source": [
        "x = 0\n",
        "print(\"x = \" , x)\n",
        "for i in range(1, 6, 1):\n",
        "  x = x + 10\n",
        "  if i%2==1:   # i を2 で割ったときの余りが1 のとき\n",
        "    print(\"x = \" , x)"
      ]
    },
    {
      "cell_type": "markdown",
      "metadata": {
        "id": "X7FwaxfGJN-5"
      },
      "source": [
        "このプログラムではiに1から1ずつ増やしながら5まで変化させ，その繰り返しのたびにxに10を加え，iが奇数のとき，その途中経過を表示します．"
      ]
    },
    {
      "cell_type": "markdown",
      "metadata": {
        "id": "euhL2iX2ir_I"
      },
      "source": [
        "演習）上の例のプログラムを参考に『i が偶数の時だけx に10 を加え，その都度x の値を表示する』プログラムを作成しましょう"
      ]
    },
    {
      "cell_type": "code",
      "execution_count": null,
      "metadata": {
        "id": "jfU4jM2ii14z"
      },
      "outputs": [],
      "source": []
    },
    {
      "cell_type": "markdown",
      "metadata": {
        "id": "sUfXvaMaBeHX"
      },
      "source": [
        "演習）3の倍数のとき「Fizz」，5の倍数のとき「Buzz」，15の倍数のとき「FizzBuzz」，それ以外はその数を出力するプログラムとするつもりで以下を作成したが，15のときに「Fizz」としか表示されずうまくいかなかった。下のコードを修正して15のときに「FizzBuzz」と表示されるようにしてみよう。"
      ]
    },
    {
      "cell_type": "code",
      "execution_count": null,
      "metadata": {
        "colab": {
          "base_uri": "https://localhost:8080/",
          "height": 369
        },
        "id": "esmxRw42CWEC",
        "outputId": "436e30f3-6ee0-44a8-9584-74cbacfd6340"
      },
      "outputs": [
        {
          "name": "stdout",
          "output_type": "stream",
          "text": [
            "1\n",
            "2\n",
            "Fizz\n",
            "4\n",
            "Buzz\n",
            "Fizz\n",
            "7\n",
            "8\n",
            "Fizz\n",
            "Buzz\n",
            "11\n",
            "Fizz\n",
            "13\n",
            "14\n",
            "Fizz\n",
            "16\n",
            "17\n",
            "Fizz\n",
            "19\n",
            "Buzz\n"
          ]
        }
      ],
      "source": [
        "for i in range(1,21,1):\n",
        "  if (i%3 == 0):\n",
        "    print(\"Fizz\")\n",
        "  elif (i%5 == 0):\n",
        "    print(\"Buzz\")\n",
        "  elif (i%15 == 0):\n",
        "    print(\"FizzBuzz\")\n",
        "  else:\n",
        "    print(i)"
      ]
    },
    {
      "cell_type": "code",
      "execution_count": null,
      "metadata": {
        "id": "XkBhhlHGCcuD"
      },
      "outputs": [],
      "source": []
    },
    {
      "cell_type": "markdown",
      "metadata": {
        "id": "0aMwOn40voLq"
      },
      "source": [
        "[前のコンテンツ](https://colab.research.google.com/drive/19ieYeHeSSmodPkkO2dcWz06_KQxaerCq?usp=sharing)　[次のコンテンツ](https://colab.research.google.com/drive/1ONXeLMq3lpmHJN55UGctxq_rAc-zLXWC?usp=sharing)"
      ]
    }
  ],
  "metadata": {
    "colab": {
      "collapsed_sections": [],
      "name": "IPSJ-Mooc-1-3.ipynb",
      "provenance": []
    },
    "kernelspec": {
      "display_name": "Python 3.9.9 64-bit",
      "language": "python",
      "name": "python3"
    },
    "language_info": {
      "name": "python",
      "version": "3.9.9"
    },
    "vscode": {
      "interpreter": {
        "hash": "82ed002fa2d4956f5c6aec99bcefe0f73a9f79882f3c9e2319b14958a5896ac5"
      }
    }
  },
  "nbformat": 4,
  "nbformat_minor": 0
}
