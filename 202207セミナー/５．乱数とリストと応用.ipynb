{
  "cells": [
    {
      "cell_type": "markdown",
      "metadata": {
        "id": "n9xJEcFQUhtb"
      },
      "source": [
        "# 乱数\n",
        "\n",
        "乱数ライブラリの利用をしてみましょう。コンピュータには乱数を生成する機能が用意されていますので利用してみましょう\n",
        "\n",
        "乱数用モジュールのインポートとは他の人が作った汎用ライブラリ（関数群）を読み込むことです"
      ]
    },
    {
      "cell_type": "code",
      "execution_count": null,
      "metadata": {
        "id": "ECi510vmUf2U"
      },
      "outputs": [],
      "source": [
        "import random"
      ]
    },
    {
      "cell_type": "markdown",
      "metadata": {
        "id": "O2k4z9a-U-BT"
      },
      "source": [
        "乱数を一つだけ生成して変数ran_valに代入します"
      ]
    },
    {
      "cell_type": "code",
      "execution_count": null,
      "metadata": {
        "colab": {
          "base_uri": "https://localhost:8080/",
          "height": 205
        },
        "id": "oZt4zmMOVAHc",
        "outputId": "04db3593-8cb9-45cc-8bba-73b23fceaa27"
      },
      "outputs": [],
      "source": [
        "ran_val = random.random()\n",
        "# 出力してみます。乱数は0から1未満で生成します。何度か実行してみましょう\n",
        "#print(ran_val)"
      ]
    },
    {
      "cell_type": "markdown",
      "metadata": {
        "id": "PKlZb4e3VE9S"
      },
      "source": [
        "0～3の乱数を一つだけ生成して変数ran_valに代入します"
      ]
    },
    {
      "cell_type": "code",
      "execution_count": null,
      "metadata": {
        "id": "ThzoeZ2-VIkS"
      },
      "outputs": [],
      "source": [
        "#ran_val = random.randint(0,3)\n",
        "# 出力してみます。乱数は0から1未満で生成します。何度か実行してみましょう\n",
        "#print('randint = ', ran_val)"
      ]
    },
    {
      "cell_type": "markdown",
      "metadata": {
        "id": "hJM4AZU3VL5t"
      },
      "source": [
        "0～2の乱数を一つだけ生成して変数ran_valに代入します"
      ]
    },
    {
      "cell_type": "code",
      "execution_count": null,
      "metadata": {
        "id": "M_g7O7BGVOS5"
      },
      "outputs": [],
      "source": [
        "# randrangeの引数はrangeと同じです\n",
        "#ran_val = random.randrange(3)\n",
        "# 出力してみます。乱数は0から1未満で生成します。何度か実行してみましょう\n",
        "#print('randrange = ', ran_val)"
      ]
    },
    {
      "cell_type": "markdown",
      "metadata": {
        "id": "BDOmpkNGVfUR"
      },
      "source": [
        "### 乱数とリストの組み合わせで処理を効率化してみましょう。\n",
        "\n",
        "乱数を生成して本当に均等になるか確認してみましょう\n",
        "\n",
        "リストのcount関数（メソッド）を利用することで生成された0,1,2の頻度を出力してみます"
      ]
    },
    {
      "cell_type": "code",
      "execution_count": null,
      "metadata": {
        "id": "sDwcRrpsVm05"
      },
      "outputs": [],
      "source": [
        "# randrange関数を使って0～2の乱数を生成してリストに格納します\n",
        "# 空のリストを生成します\n",
        "#randlist = []\n",
        "\n",
        "# for文でリストにランダムデータを追加します\n",
        "#for cnt in range(10):\n",
        "#   randlist.append(random.randrange(3))\n",
        "# 生成したリストを出力します\n",
        "#print(randlist)\n",
        "\n",
        "# データが少ないと0～2のデータには偏りが大きいはずなので\n",
        "# 確認してみましょう。概ね33%になるのはどのあたりでしょうか\n",
        "#print('0の数 = ', randlist.count(0))\n",
        "#print('1の数 = ', randlist.count(1))\n",
        "#print('2の数 = ', randlist.count(2))"
      ]
    },
    {
      "cell_type": "markdown",
      "metadata": {
        "id": "zFy2Eo9iV9Qf"
      },
      "source": [
        "### 課題\n",
        "\n",
        "乱数を生成してコンピューターとじゃんけんをしてみましょう\n",
        "\n",
        "0=グー,1=チョキ,2=パー\n",
        "\n",
        "人間の勝ち 人間=0 ＰＣ=1 人間=1 ＰＣ=2 人間=2 ＰＣ=0\n",
        "\n",
        "ＰＣの勝ち 人間=0 ＰＣ=2 人間=1 ＰＣ=0 人間=2 ＰＣ=2\n",
        "\n",
        "あいこ 人間=ＰＣ"
      ]
    },
    {
      "cell_type": "code",
      "execution_count": null,
      "metadata": {
        "id": "K1WWI8ZdWFYv"
      },
      "outputs": [],
      "source": [
        "import random\n",
        "\n",
        "# randrange関数を使って0～2の乱数を生成して変数pcに格納します\n",
        "\n",
        "# input関数を使ってキーボードから人間のじゃんけんを入力します\n",
        "\n",
        "# 判定処理を作ります\n"
      ]
    }
  ],
  "metadata": {
    "colab": {
      "name": "乱数とリストと応用.ipynb",
      "provenance": []
    },
    "kernelspec": {
      "display_name": "Python 3.9.9 64-bit",
      "language": "python",
      "name": "python3"
    },
    "language_info": {
      "codemirror_mode": {
        "name": "ipython",
        "version": 3
      },
      "file_extension": ".py",
      "mimetype": "text/x-python",
      "name": "python",
      "nbconvert_exporter": "python",
      "pygments_lexer": "ipython3",
      "version": "3.9.9"
    },
    "vscode": {
      "interpreter": {
        "hash": "82ed002fa2d4956f5c6aec99bcefe0f73a9f79882f3c9e2319b14958a5896ac5"
      }
    }
  },
  "nbformat": 4,
  "nbformat_minor": 0
}
