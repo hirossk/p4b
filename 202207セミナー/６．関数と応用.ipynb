{
  "cells": [
    {
      "cell_type": "markdown",
      "metadata": {
        "id": "SwlqGxdbWqvJ"
      },
      "source": [
        "# 関数\n",
        "\n",
        "何度も同じ処理を繰り返し行う場合は関数を使うことで効率化できます\n",
        "\n",
        "ここではリストに保存されているデータの平均を求めるプログラムを作ってみました\n",
        "\n",
        "ほとんど同じ処理が２回書かれています"
      ]
    },
    {
      "cell_type": "code",
      "execution_count": 10,
      "metadata": {
        "id": "hETCqf_yWp5v"
      },
      "outputs": [
        {
          "name": "stdout",
          "output_type": "stream",
          "text": [
            "average1 =  3.0\n",
            "average2 =  5.5\n"
          ]
        }
      ],
      "source": [
        "# 簡単なデータを用意します\n",
        "# 一度目！\n",
        "listdata1 = [2,4,3,5,1]\n",
        "\n",
        "# 変数totalを0で初期化します\n",
        "total = 0\n",
        "# リストのデータを取り出しvalに入れながら繰り返す\n",
        "for val in listdata1:\n",
        "    total = total + val\n",
        "# len(listdata1)はlistdata1のサイズ（大きさ）を取得できます\n",
        "ave = total / len(listdata1)\n",
        "print(\"average1 = \", ave)\n",
        "\n",
        "# 二度目！\n",
        "listdata2 = [6,9,7,10,8,1,3,5,2,4]\n",
        "# 変数totalを0で初期化します\n",
        "total = 0\n",
        "# リストのデータを取り出しvalに入れながら繰り返す\n",
        "for val in listdata2:\n",
        "    total = total + val\n",
        "# len(listdata2)はlistdata2のサイズ（大きさ）を取得できます\n",
        "ave = total / len(listdata2)\n",
        "print(\"average2 = \", ave)\n"
      ]
    },
    {
      "cell_type": "markdown",
      "metadata": {
        "id": "0RPkC2U2XrZR"
      },
      "source": [
        "関数を定義する場合はdef文を利用します\n",
        "\n",
        "関数はブロックになりますので「:」で開始し関数の範囲はインデント（字下げ）で指定します\n",
        "\n",
        "※ 重要なのは戻り値です。\n",
        "\n",
        "※ 関数の結果を取得するにはreturn文を使います"
      ]
    },
    {
      "cell_type": "code",
      "execution_count": 23,
      "metadata": {
        "id": "9d4S7AcyX_Px"
      },
      "outputs": [],
      "source": [
        "def listave(listdata):\n",
        "    total = 0\n",
        "    # リストのデータを取り出しvalに入れながら繰り返す\n",
        "    for val in listdata:\n",
        "        total = total + val\n",
        "    # len(listdata)はlistdataのサイズ（大きさ）を取得できます\n",
        "    ave = total / len(listdata)\n",
        "    # 関数として戻り値がある場合はreturn文で値を指定します\n",
        "    return ave\n",
        "\n",
        "# 簡単なデータを用意します１\n",
        "listdata1 = [2,4,3,5,1]\n",
        "# 関数listaveを呼び出し結果を変数answer に代入します\n",
        "answer = listave(listdata1)\n",
        "# 結果を表示します\n",
        "\n",
        "# 簡単なデータを用意します２\n",
        "listdata2 = [6,9,7,10,8,1,3,5,2,4]\n",
        "# 関数を呼び出し結果を変数answer に代入します\n",
        "\n",
        "# 結果を表示します"
      ]
    },
    {
      "cell_type": "code",
      "execution_count": null,
      "metadata": {
        "id": "DSpm_HfMalUd"
      },
      "outputs": [],
      "source": [
        "# 並べ替えをするプログラム\n",
        "\n",
        "arr_var = [5,3,2,4,1]\n",
        "# バブルソートは２重ループになります\n",
        "# 外ループ\n",
        "for i1 in range(4):\n",
        "    # 内ループ\n",
        "    for i2 in range(4-i1):\n",
        "        if arr_var[i2] > arr_var[i2 + 1]:\n",
        "            #入れ替え処理\n",
        "            temp = arr_var[i2]\n",
        "            arr_var[i2] = arr_var[i2 + 1]\n",
        "            arr_var[i2 + 1] = temp\n",
        "\n",
        "# 並べ替え後の処理\n",
        "print(arr_var)\n",
        "\n",
        "# # もう一度行いたい場合\n",
        "# # 関数化することで何度も呼び出せることとプログラム本体をコンパクトにできる\n",
        "# def arr_sort(arr_var):\n",
        "#     # 配列のサイズが変更しても大丈夫なようにループ回数を\n",
        "#     # 取得する\n",
        "#     arr_size = len(arr_var) - 1\n",
        "#     # 外ループ\n",
        "#     for i1 in range(arr_size):\n",
        "#         # 内ループ\n",
        "#         for i2 in range(arr_size-i1):\n",
        "#             if arr_var[i2] > arr_var[i2 + 1]:\n",
        "#                 #入れ替え処理\n",
        "#                 temp = arr_var[i2]\n",
        "#                 arr_var[i2] = arr_var[i2 + 1]\n",
        "#                 arr_var[i2 + 1] = temp\n",
        "\n",
        "# arr_var = [1,4,7,2,6,3,9,8,5]\n",
        "# arr_sort(arr_var)\n",
        "# print(arr_var)\n",
        "# arr_var = [5,6,10,20,19,16,15,1,3,12,8,25,24,2,30,9]\n",
        "# arr_sort(arr_var)\n",
        "# print(arr_var)"
      ]
    }
  ],
  "metadata": {
    "colab": {
      "name": "関数と応用.ipynb",
      "provenance": [],
      "toc_visible": true
    },
    "kernelspec": {
      "display_name": "Python 3.9.9 64-bit",
      "language": "python",
      "name": "python3"
    },
    "language_info": {
      "codemirror_mode": {
        "name": "ipython",
        "version": 3
      },
      "file_extension": ".py",
      "mimetype": "text/x-python",
      "name": "python",
      "nbconvert_exporter": "python",
      "pygments_lexer": "ipython3",
      "version": "3.9.9"
    },
    "vscode": {
      "interpreter": {
        "hash": "82ed002fa2d4956f5c6aec99bcefe0f73a9f79882f3c9e2319b14958a5896ac5"
      }
    }
  },
  "nbformat": 4,
  "nbformat_minor": 0
}
